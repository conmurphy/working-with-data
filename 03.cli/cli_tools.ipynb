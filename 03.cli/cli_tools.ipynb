{
 "cells": [
  {
   "attachments": {},
   "cell_type": "markdown",
   "metadata": {
    "slideshow": {
     "slide_type": "slide"
    }
   },
   "source": [
    "# Working with Data - CLI Tools"
   ]
  },
  {
   "cell_type": "markdown",
   "metadata": {},
   "source": [
    "> These activities will need to be performed in a Terminal and not using the Jupyter Notebook play button. \n",
    ">\n",
    "> If using `VSCode` you can right-click on the `cli_tools.ipynb` file and select `Open in Integrated Terminal`"
   ]
  },
  {
   "attachments": {},
   "cell_type": "markdown",
   "metadata": {},
   "source": [
    "### `jq`\n",
    "\n",
    "`jq` is a lightweight and flexible command-line JSON processor that is like 'sed' for JSON data. It allows you to slice, filter, map and transform structured data with ease. It is a powerful tool which can be used on the command line or within shell scripts, allowing you to quickly filter and transform JSON outputs from other commands or APIs\n",
    "\n",
    "See the following documentation to learn more about jq\n",
    "\n",
    "[https://jqlang.github.io/jq/](https://jqlang.github.io/jq/)"
   ]
  },
  {
   "cell_type": "markdown",
   "metadata": {},
   "source": [
    "##### Install`jq` if not already installed"
   ]
  },
  {
   "cell_type": "code",
   "execution_count": null,
   "metadata": {
    "vscode": {
     "languageId": "shellscript"
    }
   },
   "outputs": [],
   "source": [
    "sudo apt-get install -y jq"
   ]
  },
  {
   "cell_type": "markdown",
   "metadata": {},
   "source": [
    "##### Request the JSON users content from the previous example and pass it to `jq`"
   ]
  },
  {
   "cell_type": "code",
   "execution_count": null,
   "metadata": {
    "vscode": {
     "languageId": "shellscript"
    }
   },
   "outputs": [],
   "source": [
    "curl -s 'https://jsonplaceholder.typicode.com/users' | jq ."
   ]
  },
  {
   "cell_type": "markdown",
   "metadata": {},
   "source": [
    "##### If you are running these commands from the CLI and not from the Jupyter Notebook you will need to first change into the CLI tools lab directory"
   ]
  },
  {
   "cell_type": "code",
   "execution_count": null,
   "metadata": {
    "vscode": {
     "languageId": "shellscript"
    }
   },
   "outputs": [],
   "source": [
    "cd \"03.cli\""
   ]
  },
  {
   "cell_type": "markdown",
   "metadata": {},
   "source": [
    "##### Read the `basic_example.json` file"
   ]
  },
  {
   "cell_type": "code",
   "execution_count": null,
   "metadata": {
    "vscode": {
     "languageId": "shellscript"
    }
   },
   "outputs": [],
   "source": [
    "jq . basic_example.json"
   ]
  },
  {
   "cell_type": "markdown",
   "metadata": {},
   "source": [
    "##### Another way to read in the `basic_example.json` file"
   ]
  },
  {
   "cell_type": "code",
   "execution_count": null,
   "metadata": {
    "vscode": {
     "languageId": "shellscript"
    }
   },
   "outputs": [],
   "source": [
    "cat basic_example.json | jq"
   ]
  },
  {
   "cell_type": "markdown",
   "metadata": {},
   "source": [
    "##### Return all items of the list "
   ]
  },
  {
   "cell_type": "code",
   "execution_count": null,
   "metadata": {
    "vscode": {
     "languageId": "shellscript"
    }
   },
   "outputs": [],
   "source": [
    "jq '.[]' basic_example.json"
   ]
  },
  {
   "cell_type": "markdown",
   "metadata": {},
   "source": [
    "##### Return the first item or index 0 from the list"
   ]
  },
  {
   "cell_type": "code",
   "execution_count": null,
   "metadata": {
    "vscode": {
     "languageId": "shellscript"
    }
   },
   "outputs": [],
   "source": [
    "jq '.[0]' basic_example.json"
   ]
  },
  {
   "cell_type": "markdown",
   "metadata": {},
   "source": [
    "##### Get the value of a key called `name` in the first list item"
   ]
  },
  {
   "cell_type": "code",
   "execution_count": null,
   "metadata": {
    "vscode": {
     "languageId": "shellscript"
    }
   },
   "outputs": [],
   "source": [
    "jq '.[0].name' basic_example.json"
   ]
  },
  {
   "cell_type": "markdown",
   "metadata": {},
   "source": [
    "##### Get all names from the list"
   ]
  },
  {
   "cell_type": "code",
   "execution_count": null,
   "metadata": {
    "vscode": {
     "languageId": "shellscript"
    }
   },
   "outputs": [],
   "source": [
    "jq '.[].name' basic_example.json"
   ]
  },
  {
   "cell_type": "markdown",
   "metadata": {},
   "source": [
    "##### Create an object with the values of the `id` and `name` keys"
   ]
  },
  {
   "cell_type": "code",
   "execution_count": null,
   "metadata": {
    "vscode": {
     "languageId": "shellscript"
    }
   },
   "outputs": [],
   "source": [
    "jq '.[] | {id, name}' basic_example.json"
   ]
  },
  {
   "cell_type": "markdown",
   "metadata": {},
   "source": [
    "##### Join the IDs and Names in the format `id - name`"
   ]
  },
  {
   "cell_type": "code",
   "execution_count": null,
   "metadata": {
    "vscode": {
     "languageId": "shellscript"
    }
   },
   "outputs": [],
   "source": [
    "jq  '.[] | {id, name} | join (\" - \")' basic_example.json"
   ]
  },
  {
   "cell_type": "markdown",
   "metadata": {},
   "source": [
    "##### Remove the quotes"
   ]
  },
  {
   "cell_type": "code",
   "execution_count": null,
   "metadata": {
    "vscode": {
     "languageId": "shellscript"
    }
   },
   "outputs": [],
   "source": [
    "jq --help | grep raw\n",
    "echo\n",
    "jq -r '.[] | {id, name} | join (\" - \")' basic_example.json"
   ]
  },
  {
   "cell_type": "markdown",
   "metadata": {},
   "source": [
    "##### Only return items which match a criteria"
   ]
  },
  {
   "cell_type": "code",
   "execution_count": null,
   "metadata": {
    "vscode": {
     "languageId": "shellscript"
    }
   },
   "outputs": [],
   "source": [
    "jq '.[] | select((.name == \"Ervin Howell\") or ( .name | contains(\"Leanne\")))' basic_example.json"
   ]
  },
  {
   "cell_type": "markdown",
   "metadata": {},
   "source": [
    "##### Only return items which match a criteria and then only print the value of the `address` key in that item"
   ]
  },
  {
   "cell_type": "code",
   "execution_count": null,
   "metadata": {
    "vscode": {
     "languageId": "shellscript"
    }
   },
   "outputs": [],
   "source": [
    "jq '.[] | select(.name == \"Ervin Howell\") | {address}' basic_example.json"
   ]
  },
  {
   "cell_type": "markdown",
   "metadata": {},
   "source": [
    "##### Only return items which match a criteria and then only print all keys foudn in `address` "
   ]
  },
  {
   "cell_type": "code",
   "execution_count": null,
   "metadata": {
    "vscode": {
     "languageId": "shellscript"
    }
   },
   "outputs": [],
   "source": [
    "jq '.[] | select(.name == \"Ervin Howell\") | {address} | .address | keys '  basic_example.json"
   ]
  },
  {
   "cell_type": "markdown",
   "metadata": {},
   "source": [
    "##### Only return items which match a criteria and then print the value of a specific key in that item"
   ]
  },
  {
   "cell_type": "code",
   "execution_count": null,
   "metadata": {
    "vscode": {
     "languageId": "shellscript"
    }
   },
   "outputs": [],
   "source": [
    "jq '.[] | select(.name == \"Ervin Howell\") | {address} | .address.city ' basic_example.json"
   ]
  },
  {
   "cell_type": "markdown",
   "metadata": {},
   "source": [
    "##### Show the JSON for a new user"
   ]
  },
  {
   "cell_type": "code",
   "execution_count": null,
   "metadata": {
    "vscode": {
     "languageId": "shellscript"
    }
   },
   "outputs": [],
   "source": [
    "cat new_user.json"
   ]
  },
  {
   "cell_type": "markdown",
   "metadata": {},
   "source": [
    "##### Append it as an item to the list in `basic_example.json`"
   ]
  },
  {
   "cell_type": "code",
   "execution_count": null,
   "metadata": {
    "vscode": {
     "languageId": "shellscript"
    }
   },
   "outputs": [],
   "source": [
    "jq '. += [input]' basic_example.json new_user.json"
   ]
  },
  {
   "cell_type": "markdown",
   "metadata": {},
   "source": [
    "##### Notice that `basic_example.json` does not contain the new user?"
   ]
  },
  {
   "cell_type": "code",
   "execution_count": null,
   "metadata": {
    "vscode": {
     "languageId": "shellscript"
    }
   },
   "outputs": [],
   "source": [
    "cat basic_example.json"
   ]
  },
  {
   "cell_type": "markdown",
   "metadata": {},
   "source": [
    "##### Write the new appended list to a temporary file and print the contents"
   ]
  },
  {
   "cell_type": "code",
   "execution_count": null,
   "metadata": {
    "vscode": {
     "languageId": "shellscript"
    }
   },
   "outputs": [],
   "source": [
    "jq '. += [input]' basic_example.json new_user.json > temp_list_of_users.json\n",
    "cat temp_list_of_users.json"
   ]
  },
  {
   "cell_type": "markdown",
   "metadata": {},
   "source": [
    "##### Use this temporary file in a shell script"
   ]
  },
  {
   "cell_type": "code",
   "execution_count": null,
   "metadata": {
    "vscode": {
     "languageId": "shellscript"
    }
   },
   "outputs": [],
   "source": [
    "echo -e \"Using jq in a shell script \\n\"\n",
    "\n",
    "list_of_names=$(jq -r '.[].name | @sh' temp_list_of_users.json)\n",
    "\n",
    "for i in \"${list_of_names[@]}\"; do\n",
    "    echo \"$i\"\n",
    "done\n"
   ]
  },
  {
   "cell_type": "markdown",
   "metadata": {},
   "source": [
    "\"The `@foo` syntax is used to format and escape strings, which is useful for building URLs, documents in a language like HTML or XML, and so forth.\"\n",
    "\n",
    "\"`@sh`:\n",
    "The input is escaped suitable for use in a command-line for a POSIX shell. If the input is an array, the output will be a series of space-separated strings.\"\n",
    "\n",
    "https://devdocs.io/jq/\n",
    "\n",
    "\"`@`\tUsed in filter expressions to refer to the current node being processed.\"\n",
    "\n",
    "https://support.smartbear.com/alertsite/docs/monitors/api/endpoint/jsonpath.html\n"
   ]
  },
  {
   "cell_type": "markdown",
   "metadata": {},
   "source": [
    "##### Remove the temporary file"
   ]
  },
  {
   "cell_type": "code",
   "execution_count": null,
   "metadata": {
    "vscode": {
     "languageId": "shellscript"
    }
   },
   "outputs": [],
   "source": [
    "rm temp_list_of_users.json"
   ]
  },
  {
   "cell_type": "markdown",
   "metadata": {},
   "source": [
    "##### Working with Kubernetes and `kubectl`\n",
    "\n",
    "> The `kubernetes-nodes.json` and `kubernetes-pods.json` files were created using the `kubectl get nodes -json` and `kubectl get pods --all-namespaces -json` commands\n",
    "\n",
    "> You can also pipe this output straight into `jq`\n",
    "\n",
    "> e.g. ` kubectl get pods --all-namespaces -o json | jq '.'`"
   ]
  },
  {
   "cell_type": "code",
   "execution_count": null,
   "metadata": {
    "vscode": {
     "languageId": "shellscript"
    }
   },
   "outputs": [],
   "source": [
    "cat kubernetes-nodes.json | jq '.'"
   ]
  },
  {
   "cell_type": "markdown",
   "metadata": {},
   "source": [
    "##### Find the Kubernetes node name"
   ]
  },
  {
   "cell_type": "code",
   "execution_count": null,
   "metadata": {
    "vscode": {
     "languageId": "shellscript"
    }
   },
   "outputs": [],
   "source": [
    "cat kubernetes-nodes.json | jq '.items[] | .metadata.name'"
   ]
  },
  {
   "cell_type": "markdown",
   "metadata": {},
   "source": [
    "##### Create an object containing the name and status of each node"
   ]
  },
  {
   "cell_type": "code",
   "execution_count": null,
   "metadata": {
    "vscode": {
     "languageId": "shellscript"
    }
   },
   "outputs": [],
   "source": [
    "cat kubernetes-nodes.json | jq '.items[] |{name: .metadata.name, conditions: .status.conditions}'"
   ]
  },
  {
   "cell_type": "markdown",
   "metadata": {},
   "source": [
    "##### Filter to just the name, status, and message"
   ]
  },
  {
   "cell_type": "code",
   "execution_count": null,
   "metadata": {
    "vscode": {
     "languageId": "shellscript"
    }
   },
   "outputs": [],
   "source": [
    "cat kubernetes-nodes.json | jq '.items[] |{name: .metadata.name, status: .status.conditions[].status, message: .status.conditions[].message} '"
   ]
  },
  {
   "cell_type": "markdown",
   "metadata": {},
   "source": [
    "##### It can be consolidated further. Note the array `[]` around the conditions"
   ]
  },
  {
   "cell_type": "code",
   "execution_count": null,
   "metadata": {
    "vscode": {
     "languageId": "shellscript"
    }
   },
   "outputs": [],
   "source": [
    "cat kubernetes-nodes.json | jq '.items[] |{name: .metadata.name, conditions: [.status.conditions[] | {status, message}]} '"
   ]
  },
  {
   "cell_type": "markdown",
   "metadata": {},
   "source": [
    "##### Have a look at the Kubernetes pods"
   ]
  },
  {
   "cell_type": "code",
   "execution_count": null,
   "metadata": {
    "vscode": {
     "languageId": "shellscript"
    }
   },
   "outputs": [],
   "source": [
    "cat kubernetes-pods.json | jq '.items[]'"
   ]
  },
  {
   "cell_type": "markdown",
   "metadata": {},
   "source": [
    "##### Find the failing pods"
   ]
  },
  {
   "cell_type": "code",
   "execution_count": null,
   "metadata": {
    "vscode": {
     "languageId": "shellscript"
    }
   },
   "outputs": [],
   "source": [
    "cat kubernetes-pods.json | jq '.items[] | select(.status.phase != \"Running\") | {name: .metadata.name, namespace: .metadata.namespace, status: .status.phase, reason: .status.containerStatuses[].state[].reason, message: .status.containerStatuses[].state[].message} '"
   ]
  },
  {
   "cell_type": "markdown",
   "metadata": {},
   "source": [
    "### A few more CLI examples"
   ]
  },
  {
   "cell_type": "markdown",
   "metadata": {},
   "source": [
    "### `sed`\n",
    "\n",
    "The `sed` command, short for 'stream editor', is a powerful utility in Unix and Linux systems. It is primarily used for text manipulation and transformation in a file or input stream. It can perform complex editing operations with just a few keystrokes, making it a valuable tool for text processing.\n",
    "\n",
    "A sed command usually takes the following form:\n",
    "\n",
    "`s/REGEXP/REPLACEMENT/FLAGS`\n",
    "\n",
    "##### Using `sed` to substitute"
   ]
  },
  {
   "cell_type": "code",
   "execution_count": null,
   "metadata": {
    "vscode": {
     "languageId": "shellscript"
    }
   },
   "outputs": [],
   "source": [
    "echo 'Hello World' | sed 's/World/Universe/'"
   ]
  },
  {
   "cell_type": "markdown",
   "metadata": {},
   "source": [
    "##### Using `sed` to delete lines"
   ]
  },
  {
   "cell_type": "code",
   "execution_count": null,
   "metadata": {
    "vscode": {
     "languageId": "shellscript"
    }
   },
   "outputs": [],
   "source": [
    "echo -e 'line1\\nline2' | sed '1d'"
   ]
  },
  {
   "cell_type": "markdown",
   "metadata": {},
   "source": [
    "##### Using `sed` to append a line after a match"
   ]
  },
  {
   "cell_type": "code",
   "execution_count": null,
   "metadata": {
    "vscode": {
     "languageId": "shellscript"
    }
   },
   "outputs": [],
   "source": [
    "echo -e 'line1\\nline2' | sed '/line1/a\\This is a new line.'"
   ]
  },
  {
   "cell_type": "markdown",
   "metadata": {},
   "source": [
    "### `tr`\n",
    "The `tr` command is a powerful utility in Unix-like operating systems, standing for 'translate'. It reads characters from standard input, transforms them based on a set of specified rules, and writes the result to standard output."
   ]
  },
  {
   "cell_type": "markdown",
   "metadata": {},
   "source": [
    "##### Using `tr` to transform - lowercase to UPPERCASE"
   ]
  },
  {
   "cell_type": "code",
   "execution_count": null,
   "metadata": {
    "vscode": {
     "languageId": "shellscript"
    }
   },
   "outputs": [],
   "source": [
    "cat kubernetes-nodes.json | jq -r '.items[] | .metadata.name' \n",
    "echo\n",
    "cat kubernetes-nodes.json | jq -r '.items[] | .metadata.name' | tr [:lower:] [:upper:]"
   ]
  },
  {
   "cell_type": "markdown",
   "metadata": {},
   "source": [
    "##### Using `tr` to transform - replace hyphen with underscore"
   ]
  },
  {
   "cell_type": "code",
   "execution_count": null,
   "metadata": {
    "vscode": {
     "languageId": "shellscript"
    }
   },
   "outputs": [],
   "source": [
    "cat kubernetes-nodes.json | jq -r '.items[] | .metadata.name' | tr '-' '_'"
   ]
  },
  {
   "cell_type": "markdown",
   "metadata": {},
   "source": [
    "##### Using `tr` to transform - delete all the numbers"
   ]
  },
  {
   "cell_type": "code",
   "execution_count": null,
   "metadata": {
    "vscode": {
     "languageId": "shellscript"
    }
   },
   "outputs": [],
   "source": [
    "cat kubernetes-nodes.json | jq -r '.items[] | .metadata.name' | tr -d '[:digit:]'"
   ]
  },
  {
   "cell_type": "markdown",
   "metadata": {},
   "source": [
    "### `cut`\n",
    "\n",
    "The `cut` command is a utility in Unix and Linux used for cutting out sections from each line of files and writing the result to standard output. It can be used to cut parts of a line by specifying a delimiter or a character position."
   ]
  },
  {
   "cell_type": "markdown",
   "metadata": {},
   "source": [
    "> The ` kubectl-pod-output` file was created using the command, `kubectl get pods -A > kubectl-pod-output`"
   ]
  },
  {
   "cell_type": "code",
   "execution_count": null,
   "metadata": {
    "vscode": {
     "languageId": "shellscript"
    }
   },
   "outputs": [],
   "source": [
    "cat kubectl-pod-output"
   ]
  },
  {
   "cell_type": "markdown",
   "metadata": {},
   "source": [
    "##### Using `cut` to select the first character"
   ]
  },
  {
   "cell_type": "code",
   "execution_count": null,
   "metadata": {
    "vscode": {
     "languageId": "shellscript"
    }
   },
   "outputs": [],
   "source": [
    "cat kubectl-pod-output | cut -c 1"
   ]
  },
  {
   "cell_type": "markdown",
   "metadata": {},
   "source": [
    "##### Using `cut` to select fields using a delimeter"
   ]
  },
  {
   "cell_type": "code",
   "execution_count": null,
   "metadata": {
    "vscode": {
     "languageId": "shellscript"
    }
   },
   "outputs": [],
   "source": [
    "cat kubectl-pod-output | tr -s ' ' | cut -d ' ' -f 2,3"
   ]
  },
  {
   "cell_type": "markdown",
   "metadata": {},
   "source": [
    "### `awk`\n",
    "\n",
    "The `awk` command in Linux is a powerful tool for processing text files, particularly those involving data arranged in columns. Named after its original authors Aho, Weinberger, and Kernighan, awk is not just a command, but a scripting language in its own right designed for data manipulation.\n",
    "\n",
    "This is only `a fraction of a fraction` of what is possible with awk. If you want to learn more have a look at tutorials such as this one:\n",
    "\n",
    "[Getting started with AWK](https://www.gnu.org/software/gawk/manual/gawk.html#Getting-Started)\n",
    "\n",
    "##### Select the same fields as above but this time using `awk`\n"
   ]
  },
  {
   "cell_type": "code",
   "execution_count": null,
   "metadata": {
    "vscode": {
     "languageId": "shellscript"
    }
   },
   "outputs": [],
   "source": [
    "cat kubectl-pod-output | awk '{print $2,$3}'"
   ]
  },
  {
   "cell_type": "markdown",
   "metadata": {},
   "source": [
    "##### Correctly output the format"
   ]
  },
  {
   "cell_type": "code",
   "execution_count": null,
   "metadata": {
    "vscode": {
     "languageId": "shellscript"
    }
   },
   "outputs": [],
   "source": [
    "cat kubectl-pod-output | awk '{printf \"%-30s %-100s\\n\",$1,$2}'"
   ]
  },
  {
   "cell_type": "markdown",
   "metadata": {},
   "source": [
    "[Gawk: Effective AWK Programming](https://www.gnu.org/software/gawk/manual/)\n",
    "\n",
    "- `printf \"%-30s %-100s\\n\",$1,$2`: pretty print whats between the quotes, `\" \"`, and insert the values in variables `$1` and `$2`\n",
    "\n",
    "- `printf`: you can specify the width to use for each item, as well as various formatting choices for numbers (such as what output base to use, whether to print an exponent, whether to print a sign, and how many digits to print after the decimal point)\n",
    "- `%-30s`: left align the string value in variable `$1` and make the column 30 characters wide\n",
    "- `%-100s`: left align the string value in variable `$2` and make the column 30 characters wide\n",
    "- `\\n`: newline character\n",
    "- `$1,$2`: variables holding data\n",
    "\n",
    "\n",
    "> Try removing the hyphen, `-`, or changing the 30 and 100 to different values to see what happens. \n"
   ]
  },
  {
   "cell_type": "markdown",
   "metadata": {},
   "source": [
    "##### `awk` can perform mathematical operations on columns"
   ]
  },
  {
   "cell_type": "code",
   "execution_count": null,
   "metadata": {
    "vscode": {
     "languageId": "shellscript"
    }
   },
   "outputs": [],
   "source": [
    "echo -e '1\\n2\\n3' | awk '{sum += $1} END {print sum}'"
   ]
  },
  {
   "cell_type": "markdown",
   "metadata": {},
   "source": [
    " ##### `awk` supports conditional statements like `if`"
   ]
  },
  {
   "cell_type": "code",
   "execution_count": null,
   "metadata": {
    "vscode": {
     "languageId": "shellscript"
    }
   },
   "outputs": [],
   "source": [
    "echo -e '10\\n20\\n30' | awk '{if ($1 > 15) print $1}'"
   ]
  },
  {
   "cell_type": "markdown",
   "metadata": {},
   "source": [
    "`$1` refers to the first field (or column) in the input. `awk` automatically splits the input into fields based on a specified delimiter (spaces or tabs by default), and each field can be accessed using `$n`, where n is the number of the field.\n",
    "\n",
    "In the previous example `awk` is reading each line of the input. `$1` represents the first (and only) field on each line. The command checks if the value in this field is greater than 15, and if so, it prints the value."
   ]
  }
 ],
 "metadata": {
  "kernelspec": {
   "display_name": "Bash",
   "language": "bash",
   "name": "bash"
  },
  "language_info": {
   "codemirror_mode": "shell",
   "file_extension": ".sh",
   "mimetype": "text/x-sh",
   "name": "bash"
  },
  "orig_nbformat": 4
 },
 "nbformat": 4,
 "nbformat_minor": 2
}
