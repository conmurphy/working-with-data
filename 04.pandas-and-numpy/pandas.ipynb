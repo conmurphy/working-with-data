{
 "cells": [
  {
   "attachments": {},
   "cell_type": "markdown",
   "metadata": {},
   "source": [
    "# Working with Data - Pandas"
   ]
  },
  {
   "cell_type": "markdown",
   "metadata": {},
   "source": [
    "`Pandas` is a very popular Python library for data manipulation and analysis, often used for tasks such as data cleaning, data wrangling, statistical analysis, and in use cases such as building machine learning models, data visualization, and creating complex data structures.\n",
    "\n",
    "There are multiple ways to represent data in Pandas including:\n",
    "\n",
    "- Tabular data with heterogeneously-typed columns, as in an SQL table or Excel spreadsheet\n",
    "- Ordered and unordered (not necessarily fixed-frequency) time series data.\n",
    "- Arbitrary matrix data (homogeneously typed or heterogeneous) with row and column labels\n",
    "- Any other form of observational / statistical data sets. The data need not be labeled at all to be placed into a pandas data structure\n",
    "\n",
    "##### Series and Dataframes\n",
    "\n",
    "The `series` and `dataframe` are two important components of Pandas.\n",
    "\n",
    "- A pandas `Series` is a one-dimensional labeled array that can hold any data type, similar to a column in a spreadsheet. Think of a series like a single column of a spreadsheet.\n",
    "\n",
    "- A pandas `DataFrame` is a two-dimensional labeled data structure with columns of potentially different data types, resembling a table or a spreadsheet. Think of dataframe like a spreadsheet with multiple rows and columns. \n",
    "\n",
    "<img src=\"images/2.png\" width=\"500\">\n",
    "\n",
    "##### Avoiding Loops and Iterations\n",
    "Pandas has powerful functions and methods that operate on entire arrays of data, allowing you to perform operations on large datasets without the need for explicit loops or iterations. These functions, such as aggregation, filtering, and transformation, are designed to efficiently process data in a vectorized manner, resulting in faster and more concise code. By leveraging these capabilities, you can avoid the performance overhead and potential errors that can arise from manual looping and iteration over data.\n",
    "\n",
    "You'll see this capability in the section under the heading `Select a subset of columns and filter to leave only the required cities`. Notice that you don't need to loop through the dataframe to check if each row matches. You can perform the operation on the entire dataframe with a single line of code!\n",
    "\n",
    "##### Why are there double square brackets? `[[ ]]`\n",
    "\n",
    "In some cases you may see data being accessed using double square brackets. For example, `things = df[['Name','Quantity']]`. If you access data from a dataframe just using a single column name you will get back a series.\n",
    "\n",
    "`names = df['Name']`\n",
    "\n",
    "<img src=\"images/3.png\" width=\"500\">\n",
    "\n",
    "If it's a dataframe (multi-dimensional) you ned to pass in a list of column names. In that case you can either store the list of names in a separate variable and pass in that variable. Alternatively you can just pass the list of column names directly to the dataframe. See the following picture for an examples.\n",
    "\n",
    "<img src=\"images/4.png\" width=\"500\">\n",
    "\n",
    "##### Starting the lab\n",
    "\n",
    "The first section of this lab demonstrates a usecase I have very often; working with large Excel spreadsheets. Before you can run the lab make sure you have generated some sample data using the `faker` Python library in `generate_sample_data.ipynb`.\n",
    "\n",
    "See the following documentation to learn more about pandas\n",
    "\n",
    "[https://pandas.pydata.org/](https://pandas.pydata.org/)"
   ]
  },
  {
   "cell_type": "markdown",
   "metadata": {},
   "source": [
    "##### Import the required libraries"
   ]
  },
  {
   "cell_type": "code",
   "execution_count": null,
   "metadata": {},
   "outputs": [],
   "source": [
    "import json\n",
    "import openpyxl\n",
    "import pandas"
   ]
  },
  {
   "cell_type": "markdown",
   "metadata": {},
   "source": [
    "##### Read in sample data from an Excel file"
   ]
  },
  {
   "cell_type": "code",
   "execution_count": null,
   "metadata": {},
   "outputs": [],
   "source": [
    "RAW_DATA = pandas.read_excel(\"sample_data.xlsb\", sheet_name='Sheet1', header=0, engine='pyxlsb')"
   ]
  },
  {
   "cell_type": "markdown",
   "metadata": {},
   "source": [
    "##### Print the first 10 rows"
   ]
  },
  {
   "cell_type": "code",
   "execution_count": null,
   "metadata": {},
   "outputs": [],
   "source": [
    "RAW_DATA.head(10)"
   ]
  },
  {
   "cell_type": "markdown",
   "metadata": {},
   "source": [
    "##### Print the column names and observe the file size"
   ]
  },
  {
   "cell_type": "code",
   "execution_count": null,
   "metadata": {},
   "outputs": [],
   "source": [
    "RAW_DATA.info()"
   ]
  },
  {
   "cell_type": "markdown",
   "metadata": {},
   "source": [
    "##### Select a subset of columns and filter to leave only the required cities"
   ]
  },
  {
   "cell_type": "code",
   "execution_count": null,
   "metadata": {},
   "outputs": [],
   "source": [
    "STILL_RAW_DATA = RAW_DATA[['Customer ID','Customer Name','City','Order Year','Order Date','Order ID','Store ID',\n",
    "                            'Product BU','Product Type','Product','Quantity','Item Cost','Total Cost']]\n",
    "\n",
    "LIST_OF_CITIES_TO_KEEP = ['Vaughnmouth','North Margaretbury','Melanieland','Andreamouth','Aprilfort','South Heatherborough','West Crystal','Lake Andreabury',\n",
    "                        'Buchanantown','Stephenmouth','Johnberg','East Maryberg','East Kellyview','Mcdanielstad','Francisburgh','Bensonborough','South Jason',\n",
    "                        'North Jeffreyborough','Gonzalezmouth','Port Joshua','New Anthony','Lake Matthew','Carrilloborough','Cunninghambury','Williamshire',\n",
    "                        'Jennifershire','Caseyland','Emilyland','Port Amberberg','Kathleenside','Lewisside','South Michaelland','North Sarahborough','Mariaburgh',\n",
    "                        'West Amanda','Kathleenbury','Michaelshire','Archerview','Randolphtown','Grantfort','Port Lisa','South Scottville','East Edward','West Judithland',\n",
    "                        'Port Gabriel','Grossview','Port Michaelside','Wardbury','North Brian','North Amy','Port Joseph','South Debrafort','Port Ericafort','Martinton','West Nicole',\n",
    "                        'Lesliefurt','South Michaelville','East Ericport','Deanmouth','Port Jade','Lake Andrewmouth','Stephanieland','Zacharyshire','Sheilaville','Robinsonbury',\n",
    "                        'Lake Chad','Lake Jessica','Lindsayfurt','Port Samantha','Port Michele','West Paul','Kimberlychester','Elizabethburgh','Jasonville','Webbhaven','Kristenchester',\n",
    "                        'Taylorfort','Johnborough','West Sean','East Brian','South Connortown','Millermouth','Morenoside','Maryhaven','West Wesley','Martinfurt','Alvaradomouth',\n",
    "                        'East Annton','Shepardhaven','Douglasmouth','Phillipland','Juliaside','East Holly','Carterport','New Lindsey','North Jacqueline','North Tyler',\n",
    "                        'East Roger','Marshallfort','Pattersonmouth']\n",
    "\n",
    "filtered_data = STILL_RAW_DATA.loc[STILL_RAW_DATA['City'].isin(LIST_OF_CITIES_TO_KEEP)]"
   ]
  },
  {
   "cell_type": "markdown",
   "metadata": {},
   "source": [
    "##### Show the columns of the new dataframe \n",
    "\n",
    "##### Observe the file size"
   ]
  },
  {
   "cell_type": "code",
   "execution_count": null,
   "metadata": {},
   "outputs": [],
   "source": [
    "filtered_data.info()"
   ]
  },
  {
   "cell_type": "markdown",
   "metadata": {},
   "source": [
    "##### Print 10 rows"
   ]
  },
  {
   "cell_type": "code",
   "execution_count": null,
   "metadata": {},
   "outputs": [],
   "source": [
    "filtered_data.head(10)"
   ]
  },
  {
   "cell_type": "markdown",
   "metadata": {},
   "source": [
    "##### Group some of the columns and sum the quantities"
   ]
  },
  {
   "cell_type": "code",
   "execution_count": null,
   "metadata": {},
   "outputs": [],
   "source": [
    "cleaned_data = filtered_data.groupby(['City','Order Year','Product'])[\"Quantity\"].sum().reset_index()\n",
    "cleaned_data.info()\n",
    "cleaned_data.head(10)"
   ]
  },
  {
   "cell_type": "markdown",
   "metadata": {},
   "source": [
    "##### Export the results to Excel"
   ]
  },
  {
   "cell_type": "code",
   "execution_count": null,
   "metadata": {},
   "outputs": [],
   "source": [
    "cleaned_data.to_excel(r'tmp_subset_of_data.xlsx', index = False)"
   ]
  },
  {
   "cell_type": "markdown",
   "metadata": {},
   "source": [
    "##### Open `tmp_subset_of_data.xlsx` and confirm the data has been written. Observe the file size"
   ]
  },
  {
   "cell_type": "markdown",
   "metadata": {},
   "source": [
    "##### Cleanup by removing the Excel file"
   ]
  },
  {
   "cell_type": "code",
   "execution_count": null,
   "metadata": {},
   "outputs": [],
   "source": [
    "import os\n",
    "if os.path.exists(\"tmp_subset_of_data.xlsx\"):\n",
    "    os.remove(\"tmp_subset_of_data.xlsx\")"
   ]
  },
  {
   "cell_type": "markdown",
   "metadata": {},
   "source": [
    "`Pandas` can work with many data formats. For example you may want to transform nested JSON received through an API call\n",
    "\n",
    "##### Working with Pandas and JSON received from API calls"
   ]
  },
  {
   "cell_type": "code",
   "execution_count": 1,
   "metadata": {},
   "outputs": [
    {
     "ename": "JSONDecodeError",
     "evalue": "Expecting value: line 1 column 1 (char 0)",
     "output_type": "error",
     "traceback": [
      "\u001b[0;31m---------------------------------------------------------------------------\u001b[0m",
      "\u001b[0;31mJSONDecodeError\u001b[0m                           Traceback (most recent call last)",
      "File \u001b[0;32m/opt/homebrew/Cellar/python@3.11/3.11.6/Frameworks/Python.framework/Versions/3.11/lib/python3.11/site-packages/requests/models.py:971\u001b[0m, in \u001b[0;36mResponse.json\u001b[0;34m(self, **kwargs)\u001b[0m\n\u001b[1;32m    970\u001b[0m \u001b[39mtry\u001b[39;00m:\n\u001b[0;32m--> 971\u001b[0m     \u001b[39mreturn\u001b[39;00m complexjson\u001b[39m.\u001b[39;49mloads(\u001b[39mself\u001b[39;49m\u001b[39m.\u001b[39;49mtext, \u001b[39m*\u001b[39;49m\u001b[39m*\u001b[39;49mkwargs)\n\u001b[1;32m    972\u001b[0m \u001b[39mexcept\u001b[39;00m JSONDecodeError \u001b[39mas\u001b[39;00m e:\n\u001b[1;32m    973\u001b[0m     \u001b[39m# Catch JSON-related errors and raise as requests.JSONDecodeError\u001b[39;00m\n\u001b[1;32m    974\u001b[0m     \u001b[39m# This aliases json.JSONDecodeError and simplejson.JSONDecodeError\u001b[39;00m\n",
      "File \u001b[0;32m/opt/homebrew/Cellar/python@3.11/3.11.6/Frameworks/Python.framework/Versions/3.11/lib/python3.11/json/__init__.py:346\u001b[0m, in \u001b[0;36mloads\u001b[0;34m(s, cls, object_hook, parse_float, parse_int, parse_constant, object_pairs_hook, **kw)\u001b[0m\n\u001b[1;32m    343\u001b[0m \u001b[39mif\u001b[39;00m (\u001b[39mcls\u001b[39m \u001b[39mis\u001b[39;00m \u001b[39mNone\u001b[39;00m \u001b[39mand\u001b[39;00m object_hook \u001b[39mis\u001b[39;00m \u001b[39mNone\u001b[39;00m \u001b[39mand\u001b[39;00m\n\u001b[1;32m    344\u001b[0m         parse_int \u001b[39mis\u001b[39;00m \u001b[39mNone\u001b[39;00m \u001b[39mand\u001b[39;00m parse_float \u001b[39mis\u001b[39;00m \u001b[39mNone\u001b[39;00m \u001b[39mand\u001b[39;00m\n\u001b[1;32m    345\u001b[0m         parse_constant \u001b[39mis\u001b[39;00m \u001b[39mNone\u001b[39;00m \u001b[39mand\u001b[39;00m object_pairs_hook \u001b[39mis\u001b[39;00m \u001b[39mNone\u001b[39;00m \u001b[39mand\u001b[39;00m \u001b[39mnot\u001b[39;00m kw):\n\u001b[0;32m--> 346\u001b[0m     \u001b[39mreturn\u001b[39;00m _default_decoder\u001b[39m.\u001b[39;49mdecode(s)\n\u001b[1;32m    347\u001b[0m \u001b[39mif\u001b[39;00m \u001b[39mcls\u001b[39m \u001b[39mis\u001b[39;00m \u001b[39mNone\u001b[39;00m:\n",
      "File \u001b[0;32m/opt/homebrew/Cellar/python@3.11/3.11.6/Frameworks/Python.framework/Versions/3.11/lib/python3.11/json/decoder.py:337\u001b[0m, in \u001b[0;36mJSONDecoder.decode\u001b[0;34m(self, s, _w)\u001b[0m\n\u001b[1;32m    333\u001b[0m \u001b[39m\u001b[39m\u001b[39m\"\"\"Return the Python representation of ``s`` (a ``str`` instance\u001b[39;00m\n\u001b[1;32m    334\u001b[0m \u001b[39mcontaining a JSON document).\u001b[39;00m\n\u001b[1;32m    335\u001b[0m \n\u001b[1;32m    336\u001b[0m \u001b[39m\"\"\"\u001b[39;00m\n\u001b[0;32m--> 337\u001b[0m obj, end \u001b[39m=\u001b[39m \u001b[39mself\u001b[39;49m\u001b[39m.\u001b[39;49mraw_decode(s, idx\u001b[39m=\u001b[39;49m_w(s, \u001b[39m0\u001b[39;49m)\u001b[39m.\u001b[39;49mend())\n\u001b[1;32m    338\u001b[0m end \u001b[39m=\u001b[39m _w(s, end)\u001b[39m.\u001b[39mend()\n",
      "File \u001b[0;32m/opt/homebrew/Cellar/python@3.11/3.11.6/Frameworks/Python.framework/Versions/3.11/lib/python3.11/json/decoder.py:355\u001b[0m, in \u001b[0;36mJSONDecoder.raw_decode\u001b[0;34m(self, s, idx)\u001b[0m\n\u001b[1;32m    354\u001b[0m \u001b[39mexcept\u001b[39;00m \u001b[39mStopIteration\u001b[39;00m \u001b[39mas\u001b[39;00m err:\n\u001b[0;32m--> 355\u001b[0m     \u001b[39mraise\u001b[39;00m JSONDecodeError(\u001b[39m\"\u001b[39m\u001b[39mExpecting value\u001b[39m\u001b[39m\"\u001b[39m, s, err\u001b[39m.\u001b[39mvalue) \u001b[39mfrom\u001b[39;00m \u001b[39mNone\u001b[39;00m\n\u001b[1;32m    356\u001b[0m \u001b[39mreturn\u001b[39;00m obj, end\n",
      "\u001b[0;31mJSONDecodeError\u001b[0m: Expecting value: line 1 column 1 (char 0)",
      "\nDuring handling of the above exception, another exception occurred:\n",
      "\u001b[0;31mJSONDecodeError\u001b[0m                           Traceback (most recent call last)",
      "\u001b[1;32m/Users/conmurph/Documents/Vagrant/my_projects/working-with-data/04.pandas-and-numpy/pandas.ipynb Cell 25\u001b[0m line \u001b[0;36m2\n\u001b[1;32m     <a href='vscode-notebook-cell:/Users/conmurph/Documents/Vagrant/my_projects/working-with-data/04.pandas-and-numpy/pandas.ipynb#X33sZmlsZQ%3D%3D?line=12'>13</a>\u001b[0m payload\u001b[39m=\u001b[39m{\n\u001b[1;32m     <a href='vscode-notebook-cell:/Users/conmurph/Documents/Vagrant/my_projects/working-with-data/04.pandas-and-numpy/pandas.ipynb#X33sZmlsZQ%3D%3D?line=13'>14</a>\u001b[0m   \u001b[39m\"\u001b[39m\u001b[39mins_api\u001b[39m\u001b[39m\"\u001b[39m:{\n\u001b[1;32m     <a href='vscode-notebook-cell:/Users/conmurph/Documents/Vagrant/my_projects/working-with-data/04.pandas-and-numpy/pandas.ipynb#X33sZmlsZQ%3D%3D?line=14'>15</a>\u001b[0m     \u001b[39m\"\u001b[39m\u001b[39mversion\u001b[39m\u001b[39m\"\u001b[39m: \u001b[39m\"\u001b[39m\u001b[39m1.0\u001b[39m\u001b[39m\"\u001b[39m,\n\u001b[0;32m   (...)\u001b[0m\n\u001b[1;32m     <a href='vscode-notebook-cell:/Users/conmurph/Documents/Vagrant/my_projects/working-with-data/04.pandas-and-numpy/pandas.ipynb#X33sZmlsZQ%3D%3D?line=20'>21</a>\u001b[0m     }\n\u001b[1;32m     <a href='vscode-notebook-cell:/Users/conmurph/Documents/Vagrant/my_projects/working-with-data/04.pandas-and-numpy/pandas.ipynb#X33sZmlsZQ%3D%3D?line=21'>22</a>\u001b[0m }\n\u001b[1;32m     <a href='vscode-notebook-cell:/Users/conmurph/Documents/Vagrant/my_projects/working-with-data/04.pandas-and-numpy/pandas.ipynb#X33sZmlsZQ%3D%3D?line=23'>24</a>\u001b[0m url \u001b[39m=\u001b[39m \u001b[39m\"\u001b[39m\u001b[39mhttps://sbx-nxos-mgmt.cisco.com/ins\u001b[39m\u001b[39m\"\u001b[39m\n\u001b[0;32m---> <a href='vscode-notebook-cell:/Users/conmurph/Documents/Vagrant/my_projects/working-with-data/04.pandas-and-numpy/pandas.ipynb#X33sZmlsZQ%3D%3D?line=24'>25</a>\u001b[0m response \u001b[39m=\u001b[39m requests\u001b[39m.\u001b[39;49mpost(url, data\u001b[39m=\u001b[39;49mjson\u001b[39m.\u001b[39;49mdumps(payload), headers\u001b[39m=\u001b[39;49mheaders,auth\u001b[39m=\u001b[39;49m(\u001b[39m\"\u001b[39;49m\u001b[39madmin\u001b[39;49m\u001b[39m\"\u001b[39;49m,\u001b[39m\"\u001b[39;49m\u001b[39mAdmin_1234!\u001b[39;49m\u001b[39m\"\u001b[39;49m), verify\u001b[39m=\u001b[39;49m\u001b[39mFalse\u001b[39;49;00m)\u001b[39m.\u001b[39;49mjson()\n\u001b[1;32m     <a href='vscode-notebook-cell:/Users/conmurph/Documents/Vagrant/my_projects/working-with-data/04.pandas-and-numpy/pandas.ipynb#X33sZmlsZQ%3D%3D?line=26'>27</a>\u001b[0m interfaces \u001b[39m=\u001b[39m pandas\u001b[39m.\u001b[39mjson_normalize(response[\u001b[39m\"\u001b[39m\u001b[39mins_api\u001b[39m\u001b[39m\"\u001b[39m][\u001b[39m\"\u001b[39m\u001b[39moutputs\u001b[39m\u001b[39m\"\u001b[39m][\u001b[39m\"\u001b[39m\u001b[39moutput\u001b[39m\u001b[39m\"\u001b[39m][\u001b[39m\"\u001b[39m\u001b[39mbody\u001b[39m\u001b[39m\"\u001b[39m][\u001b[39m\"\u001b[39m\u001b[39mTABLE_interface\u001b[39m\u001b[39m\"\u001b[39m][\u001b[39m\"\u001b[39m\u001b[39mROW_interface\u001b[39m\u001b[39m\"\u001b[39m])\n\u001b[1;32m     <a href='vscode-notebook-cell:/Users/conmurph/Documents/Vagrant/my_projects/working-with-data/04.pandas-and-numpy/pandas.ipynb#X33sZmlsZQ%3D%3D?line=28'>29</a>\u001b[0m \u001b[39mprint\u001b[39m(interfaces\u001b[39m.\u001b[39minfo())\n",
      "File \u001b[0;32m/opt/homebrew/Cellar/python@3.11/3.11.6/Frameworks/Python.framework/Versions/3.11/lib/python3.11/site-packages/requests/models.py:975\u001b[0m, in \u001b[0;36mResponse.json\u001b[0;34m(self, **kwargs)\u001b[0m\n\u001b[1;32m    971\u001b[0m     \u001b[39mreturn\u001b[39;00m complexjson\u001b[39m.\u001b[39mloads(\u001b[39mself\u001b[39m\u001b[39m.\u001b[39mtext, \u001b[39m*\u001b[39m\u001b[39m*\u001b[39mkwargs)\n\u001b[1;32m    972\u001b[0m \u001b[39mexcept\u001b[39;00m JSONDecodeError \u001b[39mas\u001b[39;00m e:\n\u001b[1;32m    973\u001b[0m     \u001b[39m# Catch JSON-related errors and raise as requests.JSONDecodeError\u001b[39;00m\n\u001b[1;32m    974\u001b[0m     \u001b[39m# This aliases json.JSONDecodeError and simplejson.JSONDecodeError\u001b[39;00m\n\u001b[0;32m--> 975\u001b[0m     \u001b[39mraise\u001b[39;00m RequestsJSONDecodeError(e\u001b[39m.\u001b[39mmsg, e\u001b[39m.\u001b[39mdoc, e\u001b[39m.\u001b[39mpos)\n",
      "\u001b[0;31mJSONDecodeError\u001b[0m: Expecting value: line 1 column 1 (char 0)"
     ]
    }
   ],
   "source": [
    "# This activity runs the \"show interface brief\" command against a Nexus 9000 API\n",
    "\n",
    "import requests\n",
    "import json\n",
    "import pandas\n",
    "\n",
    "from requests.packages.urllib3.exceptions import InsecureRequestWarning\n",
    "requests.packages.urllib3.disable_warnings(InsecureRequestWarning)\n",
    "\n",
    "headers = {\"content-type\": \"application/json\"}\n",
    "\n",
    "\n",
    "payload={\n",
    "  \"ins_api\":{\n",
    "    \"version\": \"1.0\",\n",
    "    \"type\": \"cli_show\",\n",
    "    \"chunk\": \"0\",\n",
    "    \"sid\": \"1\",\n",
    "    \"input\": \"show interface brief\",\n",
    "    \"output_format\": \"json\"\n",
    "    }\n",
    "}\n",
    "\n",
    "url = \"https://sbx-nxos-mgmt.cisco.com/ins\"\n",
    "response = requests.post(url, data=json.dumps(payload), headers=headers,auth=(\"admin\",\"Admin_1234!\"), verify=False).json()\n",
    "\n",
    "interfaces = pandas.json_normalize(response[\"ins_api\"][\"outputs\"][\"output\"][\"body\"][\"TABLE_interface\"][\"ROW_interface\"])\n",
    "\n",
    "print(interfaces.info())\n",
    "print(interfaces.head(10))"
   ]
  },
  {
   "cell_type": "code",
   "execution_count": null,
   "metadata": {},
   "outputs": [],
   "source": [
    "# This activity runs the \"show ip interface eth1/1\" command against a Nexus 9000 API\n",
    "\n",
    "import requests\n",
    "import json\n",
    "import pandas\n",
    "\n",
    "from requests.packages.urllib3.exceptions import InsecureRequestWarning\n",
    "requests.packages.urllib3.disable_warnings(InsecureRequestWarning)\n",
    "\n",
    "headers = {\"content-type\": \"application/json\"}\n",
    "\n",
    "payload={\n",
    "  \"ins_api\":{\n",
    "    \"version\": \"1.0\",\n",
    "    \"type\": \"cli_show\",\n",
    "    \"chunk\": \"0\",\n",
    "    \"sid\": \"1\",\n",
    "    \"input\": \"show ip interface eth1/1\",\n",
    "    \"output_format\": \"json\"\n",
    "    }\n",
    "}\n",
    "\n",
    "url = \"https://sbx-nxos-mgmt.cisco.com/ins\"\n",
    "response = requests.post(url, data=json.dumps(payload), headers=headers,auth=(\"admin\",\"Admin_1234!\"), verify=False).json()\n",
    "\n",
    "interface_eth_1_1 = pandas.json_normalize(response[\"ins_api\"][\"outputs\"][\"output\"][\"body\"][\"TABLE_intf\"][\"ROW_intf\"])\n",
    "\n",
    "print(interface_eth_1_1.info())\n",
    "print(interface_eth_1_1.head(10))\n",
    "\n",
    "# When using Jupyter you can also remove the print statement and just write the variable you wish to print\n",
    "interface_eth_1_1.head(10)"
   ]
  }
 ],
 "metadata": {
  "kernelspec": {
   "display_name": "Python 3",
   "language": "python",
   "name": "python3"
  },
  "language_info": {
   "codemirror_mode": {
    "name": "ipython",
    "version": 3
   },
   "file_extension": ".py",
   "mimetype": "text/x-python",
   "name": "python",
   "nbconvert_exporter": "python",
   "pygments_lexer": "ipython3",
   "version": "3.11.4"
  },
  "orig_nbformat": 4
 },
 "nbformat": 4,
 "nbformat_minor": 2
}
