{
 "cells": [
  {
   "attachments": {},
   "cell_type": "markdown",
   "metadata": {},
   "source": [
    "# Working with Data - Pandas"
   ]
  },
  {
   "cell_type": "markdown",
   "metadata": {},
   "source": [
    "`Pandas` is a very popular Python library for data manipulation and analysis, often used for tasks such as data cleaning, data wrangling, statistical analysis, and in use cases such as building machine learning models, data visualization, and creating complex data structures.\n",
    "\n",
    "The first section of this lab demonstrates a usecase I have very often; working with large Excel spreadsheets. Before you can run the lab make sure you have generated some sample data using the `faker` Python library in `generate_sample_data.ipynb`.\n",
    "\n",
    "See the following documentation to learn more about pandas\n",
    "\n",
    "[https://pandas.pydata.org/](https://pandas.pydata.org/)"
   ]
  },
  {
   "cell_type": "markdown",
   "metadata": {},
   "source": [
    "##### Import the required libraries"
   ]
  },
  {
   "cell_type": "code",
   "execution_count": null,
   "metadata": {},
   "outputs": [],
   "source": [
    "import json\n",
    "import openpyxl\n",
    "import pandas"
   ]
  },
  {
   "cell_type": "markdown",
   "metadata": {},
   "source": [
    "##### Read in sample data from an Excel file"
   ]
  },
  {
   "cell_type": "code",
   "execution_count": null,
   "metadata": {},
   "outputs": [],
   "source": [
    "RAW_DATA = pandas.read_excel(\"sample_data.xlsb\", sheet_name='Sheet1', header=0, engine='pyxlsb')"
   ]
  },
  {
   "cell_type": "markdown",
   "metadata": {},
   "source": [
    "##### Print the first 10 rows"
   ]
  },
  {
   "cell_type": "code",
   "execution_count": null,
   "metadata": {},
   "outputs": [],
   "source": [
    "RAW_DATA.head(10)"
   ]
  },
  {
   "cell_type": "markdown",
   "metadata": {},
   "source": [
    "##### Print the column names and observe the file size"
   ]
  },
  {
   "cell_type": "code",
   "execution_count": null,
   "metadata": {},
   "outputs": [],
   "source": [
    "RAW_DATA.info()"
   ]
  },
  {
   "cell_type": "markdown",
   "metadata": {},
   "source": [
    "##### Select a subset of columns and filter to leave only the required cities"
   ]
  },
  {
   "cell_type": "code",
   "execution_count": null,
   "metadata": {},
   "outputs": [],
   "source": [
    "STILL_RAW_DATA = RAW_DATA[['Customer ID','Customer Name','City','Order Year','Order Date','Order ID','Store ID',\n",
    "                            'Product BU','Product Type','Product','Quantity','Item Cost','Total Cost']]\n",
    "\n",
    "LIST_OF_CITIES_TO_KEEP = ['Vaughnmouth','North Margaretbury','Melanieland','Andreamouth','Aprilfort','South Heatherborough','West Crystal','Lake Andreabury',\n",
    "                        'Buchanantown','Stephenmouth','Johnberg','East Maryberg','East Kellyview','Mcdanielstad','Francisburgh','Bensonborough','South Jason',\n",
    "                        'North Jeffreyborough','Gonzalezmouth','Port Joshua','New Anthony','Lake Matthew','Carrilloborough','Cunninghambury','Williamshire',\n",
    "                        'Jennifershire','Caseyland','Emilyland','Port Amberberg','Kathleenside','Lewisside','South Michaelland','North Sarahborough','Mariaburgh',\n",
    "                        'West Amanda','Kathleenbury','Michaelshire','Archerview','Randolphtown','Grantfort','Port Lisa','South Scottville','East Edward','West Judithland',\n",
    "                        'Port Gabriel','Grossview','Port Michaelside','Wardbury','North Brian','North Amy','Port Joseph','South Debrafort','Port Ericafort','Martinton','West Nicole',\n",
    "                        'Lesliefurt','South Michaelville','East Ericport','Deanmouth','Port Jade','Lake Andrewmouth','Stephanieland','Zacharyshire','Sheilaville','Robinsonbury',\n",
    "                        'Lake Chad','Lake Jessica','Lindsayfurt','Port Samantha','Port Michele','West Paul','Kimberlychester','Elizabethburgh','Jasonville','Webbhaven','Kristenchester',\n",
    "                        'Taylorfort','Johnborough','West Sean','East Brian','South Connortown','Millermouth','Morenoside','Maryhaven','West Wesley','Martinfurt','Alvaradomouth',\n",
    "                        'East Annton','Shepardhaven','Douglasmouth','Phillipland','Juliaside','East Holly','Carterport','New Lindsey','North Jacqueline','North Tyler',\n",
    "                        'East Roger','Marshallfort','Pattersonmouth']\n",
    "\n",
    "filtered_data = STILL_RAW_DATA.loc[STILL_RAW_DATA['City'].isin(LIST_OF_CITIES_TO_KEEP)]"
   ]
  },
  {
   "cell_type": "markdown",
   "metadata": {},
   "source": [
    "##### Show the columns of the new dataframe \n",
    "\n",
    "##### Observe the file size"
   ]
  },
  {
   "cell_type": "code",
   "execution_count": null,
   "metadata": {},
   "outputs": [],
   "source": [
    "filtered_data.info()"
   ]
  },
  {
   "cell_type": "markdown",
   "metadata": {},
   "source": [
    "##### Print 10 rows"
   ]
  },
  {
   "cell_type": "code",
   "execution_count": null,
   "metadata": {},
   "outputs": [],
   "source": [
    "filtered_data.head(10)"
   ]
  },
  {
   "cell_type": "markdown",
   "metadata": {},
   "source": [
    "##### Group some of the columns and sum the quantities"
   ]
  },
  {
   "cell_type": "code",
   "execution_count": null,
   "metadata": {},
   "outputs": [],
   "source": [
    "cleaned_data = filtered_data.groupby(['City','Order Year','Product'])[\"Quantity\"].sum().reset_index()\n",
    "cleaned_data.info()\n",
    "cleaned_data.head(10)"
   ]
  },
  {
   "cell_type": "markdown",
   "metadata": {},
   "source": [
    "##### Export the results to Excel"
   ]
  },
  {
   "cell_type": "code",
   "execution_count": null,
   "metadata": {},
   "outputs": [],
   "source": [
    "cleaned_data.to_excel(r'tmp_subset_of_data.xlsx', index = False)"
   ]
  },
  {
   "cell_type": "markdown",
   "metadata": {},
   "source": [
    "##### Open `tmp_subset_of_data.xlsx` and confirm the data has been written. Observe the file size"
   ]
  },
  {
   "cell_type": "markdown",
   "metadata": {},
   "source": [
    "##### Cleanup by removing the Excel file"
   ]
  },
  {
   "cell_type": "code",
   "execution_count": null,
   "metadata": {},
   "outputs": [],
   "source": [
    "import os\n",
    "if os.path.exists(\"tmp_subset_of_data.xlsx\"):\n",
    "    os.remove(\"tmp_subset_of_data.xlsx\")"
   ]
  },
  {
   "cell_type": "markdown",
   "metadata": {},
   "source": [
    "`Pandas` can work with many data formats. For example you may want to transform nested JSON received through an API call\n",
    "\n",
    "##### Working with Pandas and JSON received from API calls"
   ]
  },
  {
   "cell_type": "code",
   "execution_count": null,
   "metadata": {},
   "outputs": [],
   "source": [
    "# This activity runs the \"show interface brief\" command against a Nexus 9000 API\n",
    "\n",
    "import requests\n",
    "import json\n",
    "import pandas\n",
    "\n",
    "from requests.packages.urllib3.exceptions import InsecureRequestWarning\n",
    "requests.packages.urllib3.disable_warnings(InsecureRequestWarning)\n",
    "\n",
    "headers = {\"content-type\": \"application/json\"}\n",
    "\n",
    "\n",
    "payload={\n",
    "  \"ins_api\":{\n",
    "    \"version\": \"1.0\",\n",
    "    \"type\": \"cli_show\",\n",
    "    \"chunk\": \"0\",\n",
    "    \"sid\": \"1\",\n",
    "    \"input\": \"show interface brief\",\n",
    "    \"output_format\": \"json\"\n",
    "    }\n",
    "}\n",
    "\n",
    "url = \"https://sbx-nxos-mgmt.cisco.com/ins\"\n",
    "response = requests.post(url, data=json.dumps(payload), headers=headers,auth=(\"admin\",\"Admin_1234!\"), verify=False).json()\n",
    "\n",
    "interfaces = pandas.json_normalize(response[\"ins_api\"][\"outputs\"][\"output\"][\"body\"][\"TABLE_interface\"][\"ROW_interface\"])\n",
    "\n",
    "print(interfaces.info())\n",
    "print(interfaces.head(10))"
   ]
  },
  {
   "cell_type": "code",
   "execution_count": null,
   "metadata": {},
   "outputs": [],
   "source": [
    "# This activity runs the \"show ip interface eth1/1\" command against a Nexus 9000 API\n",
    "\n",
    "import requests\n",
    "import json\n",
    "import pandas\n",
    "\n",
    "from requests.packages.urllib3.exceptions import InsecureRequestWarning\n",
    "requests.packages.urllib3.disable_warnings(InsecureRequestWarning)\n",
    "\n",
    "headers = {\"content-type\": \"application/json\"}\n",
    "\n",
    "payload={\n",
    "  \"ins_api\":{\n",
    "    \"version\": \"1.0\",\n",
    "    \"type\": \"cli_show\",\n",
    "    \"chunk\": \"0\",\n",
    "    \"sid\": \"1\",\n",
    "    \"input\": \"show ip interface eth1/1\",\n",
    "    \"output_format\": \"json\"\n",
    "    }\n",
    "}\n",
    "\n",
    "url = \"https://sbx-nxos-mgmt.cisco.com/ins\"\n",
    "response = requests.post(url, data=json.dumps(payload), headers=headers,auth=(\"admin\",\"Admin_1234!\"), verify=False).json()\n",
    "\n",
    "interface_eth_1_1 = pandas.json_normalize(response[\"ins_api\"][\"outputs\"][\"output\"][\"body\"][\"TABLE_intf\"][\"ROW_intf\"])\n",
    "\n",
    "print(interface_eth_1_1.info())\n",
    "print(interface_eth_1_1.head(10))\n",
    "\n",
    "# When using Jupyter you can also remove the print statement and just write the variable you wish to print\n",
    "interface_eth_1_1.head(10)"
   ]
  }
 ],
 "metadata": {
  "kernelspec": {
   "display_name": "Python 3",
   "language": "python",
   "name": "python3"
  },
  "language_info": {
   "codemirror_mode": {
    "name": "ipython",
    "version": 3
   },
   "file_extension": ".py",
   "mimetype": "text/x-python",
   "name": "python",
   "nbconvert_exporter": "python",
   "pygments_lexer": "ipython3",
   "version": "3.11.6"
  },
  "orig_nbformat": 4
 },
 "nbformat": 4,
 "nbformat_minor": 2
}
