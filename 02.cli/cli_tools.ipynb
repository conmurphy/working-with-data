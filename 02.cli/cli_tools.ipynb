{
 "cells": [
  {
   "attachments": {},
   "cell_type": "markdown",
   "metadata": {
    "slideshow": {
     "slide_type": "slide"
    }
   },
   "source": [
    "# Working with Data - CLI Tools"
   ]
  },
  {
   "attachments": {},
   "cell_type": "markdown",
   "metadata": {
    "slideshow": {
     "slide_type": "subslide"
    }
   },
   "source": [
    "##### Table of Contents"
   ]
  },
  {
   "attachments": {},
   "cell_type": "markdown",
   "metadata": {
    "slideshow": {
     "slide_type": "subslide"
    }
   },
   "source": [
    "* [1. jq](#jq)\n",
    "* [Summary](#summary)"
   ]
  },
  {
   "attachments": {},
   "cell_type": "markdown",
   "metadata": {},
   "source": [
    "##### jq"
   ]
  },
  {
   "cell_type": "code",
   "execution_count": 1,
   "metadata": {
    "vscode": {
     "languageId": "shellscript"
    }
   },
   "outputs": [
    {
     "name": "stdout",
     "output_type": "stream",
     "text": [
      "\u001b[1;39m[\n",
      "  \u001b[1;39m{\n",
      "    \u001b[0m\u001b[34;1m\"id\"\u001b[0m\u001b[1;39m: \u001b[0m\u001b[0;39m1\u001b[0m\u001b[1;39m,\n",
      "    \u001b[0m\u001b[34;1m\"name\"\u001b[0m\u001b[1;39m: \u001b[0m\u001b[0;32m\"Leanne Graham\"\u001b[0m\u001b[1;39m,\n",
      "    \u001b[0m\u001b[34;1m\"address\"\u001b[0m\u001b[1;39m: \u001b[0m\u001b[1;39m{\n",
      "      \u001b[0m\u001b[34;1m\"city\"\u001b[0m\u001b[1;39m: \u001b[0m\u001b[0;32m\"Gwenborough\"\u001b[0m\u001b[1;39m,\n",
      "      \u001b[0m\u001b[34;1m\"street\"\u001b[0m\u001b[1;39m: \u001b[0m\u001b[0;32m\"Kulas Light\"\u001b[0m\u001b[1;39m,\n",
      "      \u001b[0m\u001b[34;1m\"zipcode\"\u001b[0m\u001b[1;39m: \u001b[0m\u001b[0;32m\"92998-3874\"\u001b[0m\u001b[1;39m,\n",
      "      \u001b[0m\u001b[34;1m\"geo\"\u001b[0m\u001b[1;39m: \u001b[0m\u001b[1;39m{\n",
      "        \u001b[0m\u001b[34;1m\"lat\"\u001b[0m\u001b[1;39m: \u001b[0m\u001b[0;32m\"-37.3159\"\u001b[0m\u001b[1;39m,\n",
      "        \u001b[0m\u001b[34;1m\"lng\"\u001b[0m\u001b[1;39m: \u001b[0m\u001b[0;32m\"81.1496\"\u001b[0m\u001b[1;39m\n",
      "      \u001b[1;39m}\u001b[0m\u001b[1;39m\n",
      "    \u001b[1;39m}\u001b[0m\u001b[1;39m\n",
      "  \u001b[1;39m}\u001b[0m\u001b[1;39m,\n",
      "  \u001b[1;39m{\n",
      "    \u001b[0m\u001b[34;1m\"id\"\u001b[0m\u001b[1;39m: \u001b[0m\u001b[0;39m2\u001b[0m\u001b[1;39m,\n",
      "    \u001b[0m\u001b[34;1m\"name\"\u001b[0m\u001b[1;39m: \u001b[0m\u001b[0;32m\"Ervin Howell\"\u001b[0m\u001b[1;39m,\n",
      "    \u001b[0m\u001b[34;1m\"address\"\u001b[0m\u001b[1;39m: \u001b[0m\u001b[1;39m{\n",
      "      \u001b[0m\u001b[34;1m\"city\"\u001b[0m\u001b[1;39m: \u001b[0m\u001b[0;32m\"Wisokyburgh\"\u001b[0m\u001b[1;39m,\n",
      "      \u001b[0m\u001b[34;1m\"street\"\u001b[0m\u001b[1;39m: \u001b[0m\u001b[0;32m\"Victor Plains\"\u001b[0m\u001b[1;39m,\n",
      "      \u001b[0m\u001b[34;1m\"zipcode\"\u001b[0m\u001b[1;39m: \u001b[0m\u001b[0;32m\"90566-7771\"\u001b[0m\u001b[1;39m,\n",
      "      \u001b[0m\u001b[34;1m\"geo\"\u001b[0m\u001b[1;39m: \u001b[0m\u001b[1;39m{\n",
      "        \u001b[0m\u001b[34;1m\"lat\"\u001b[0m\u001b[1;39m: \u001b[0m\u001b[0;32m\"-43.9509\"\u001b[0m\u001b[1;39m,\n",
      "        \u001b[0m\u001b[34;1m\"lng\"\u001b[0m\u001b[1;39m: \u001b[0m\u001b[0;32m\"-34.4618\"\u001b[0m\u001b[1;39m\n",
      "      \u001b[1;39m}\u001b[0m\u001b[1;39m\n",
      "    \u001b[1;39m}\u001b[0m\u001b[1;39m\n",
      "  \u001b[1;39m}\u001b[0m\u001b[1;39m,\n",
      "  \u001b[1;39m{\n",
      "    \u001b[0m\u001b[34;1m\"id\"\u001b[0m\u001b[1;39m: \u001b[0m\u001b[0;39m3\u001b[0m\u001b[1;39m,\n",
      "    \u001b[0m\u001b[34;1m\"name\"\u001b[0m\u001b[1;39m: \u001b[0m\u001b[0;32m\"Clementine Bauch\"\u001b[0m\u001b[1;39m,\n",
      "    \u001b[0m\u001b[34;1m\"address\"\u001b[0m\u001b[1;39m: \u001b[0m\u001b[1;39m{\n",
      "      \u001b[0m\u001b[34;1m\"street\"\u001b[0m\u001b[1;39m: \u001b[0m\u001b[0;32m\"Douglas Extension\"\u001b[0m\u001b[1;39m,\n",
      "      \u001b[0m\u001b[34;1m\"city\"\u001b[0m\u001b[1;39m: \u001b[0m\u001b[0;32m\"McKenziehaven\"\u001b[0m\u001b[1;39m,\n",
      "      \u001b[0m\u001b[34;1m\"zipcode\"\u001b[0m\u001b[1;39m: \u001b[0m\u001b[0;32m\"59590-4157\"\u001b[0m\u001b[1;39m,\n",
      "      \u001b[0m\u001b[34;1m\"geo\"\u001b[0m\u001b[1;39m: \u001b[0m\u001b[1;39m{\n",
      "        \u001b[0m\u001b[34;1m\"lat\"\u001b[0m\u001b[1;39m: \u001b[0m\u001b[0;32m\"-68.6102\"\u001b[0m\u001b[1;39m,\n",
      "        \u001b[0m\u001b[34;1m\"lng\"\u001b[0m\u001b[1;39m: \u001b[0m\u001b[0;32m\"-47.0653\"\u001b[0m\u001b[1;39m\n",
      "      \u001b[1;39m}\u001b[0m\u001b[1;39m\n",
      "    \u001b[1;39m}\u001b[0m\u001b[1;39m\n",
      "  \u001b[1;39m}\u001b[0m\u001b[1;39m\n",
      "\u001b[1;39m]\u001b[0m\n"
     ]
    }
   ],
   "source": [
    "jq . basic_example.json"
   ]
  },
  {
   "cell_type": "code",
   "execution_count": 2,
   "metadata": {
    "vscode": {
     "languageId": "shellscript"
    }
   },
   "outputs": [
    {
     "name": "stdout",
     "output_type": "stream",
     "text": [
      "\u001b[1;39m[\n",
      "  \u001b[1;39m{\n",
      "    \u001b[0m\u001b[34;1m\"id\"\u001b[0m\u001b[1;39m: \u001b[0m\u001b[0;39m1\u001b[0m\u001b[1;39m,\n",
      "    \u001b[0m\u001b[34;1m\"name\"\u001b[0m\u001b[1;39m: \u001b[0m\u001b[0;32m\"Leanne Graham\"\u001b[0m\u001b[1;39m,\n",
      "    \u001b[0m\u001b[34;1m\"address\"\u001b[0m\u001b[1;39m: \u001b[0m\u001b[1;39m{\n",
      "      \u001b[0m\u001b[34;1m\"city\"\u001b[0m\u001b[1;39m: \u001b[0m\u001b[0;32m\"Gwenborough\"\u001b[0m\u001b[1;39m,\n",
      "      \u001b[0m\u001b[34;1m\"street\"\u001b[0m\u001b[1;39m: \u001b[0m\u001b[0;32m\"Kulas Light\"\u001b[0m\u001b[1;39m,\n",
      "      \u001b[0m\u001b[34;1m\"zipcode\"\u001b[0m\u001b[1;39m: \u001b[0m\u001b[0;32m\"92998-3874\"\u001b[0m\u001b[1;39m,\n",
      "      \u001b[0m\u001b[34;1m\"geo\"\u001b[0m\u001b[1;39m: \u001b[0m\u001b[1;39m{\n",
      "        \u001b[0m\u001b[34;1m\"lat\"\u001b[0m\u001b[1;39m: \u001b[0m\u001b[0;32m\"-37.3159\"\u001b[0m\u001b[1;39m,\n",
      "        \u001b[0m\u001b[34;1m\"lng\"\u001b[0m\u001b[1;39m: \u001b[0m\u001b[0;32m\"81.1496\"\u001b[0m\u001b[1;39m\n",
      "      \u001b[1;39m}\u001b[0m\u001b[1;39m\n",
      "    \u001b[1;39m}\u001b[0m\u001b[1;39m\n",
      "  \u001b[1;39m}\u001b[0m\u001b[1;39m,\n",
      "  \u001b[1;39m{\n",
      "    \u001b[0m\u001b[34;1m\"id\"\u001b[0m\u001b[1;39m: \u001b[0m\u001b[0;39m2\u001b[0m\u001b[1;39m,\n",
      "    \u001b[0m\u001b[34;1m\"name\"\u001b[0m\u001b[1;39m: \u001b[0m\u001b[0;32m\"Ervin Howell\"\u001b[0m\u001b[1;39m,\n",
      "    \u001b[0m\u001b[34;1m\"address\"\u001b[0m\u001b[1;39m: \u001b[0m\u001b[1;39m{\n",
      "      \u001b[0m\u001b[34;1m\"city\"\u001b[0m\u001b[1;39m: \u001b[0m\u001b[0;32m\"Wisokyburgh\"\u001b[0m\u001b[1;39m,\n",
      "      \u001b[0m\u001b[34;1m\"street\"\u001b[0m\u001b[1;39m: \u001b[0m\u001b[0;32m\"Victor Plains\"\u001b[0m\u001b[1;39m,\n",
      "      \u001b[0m\u001b[34;1m\"zipcode\"\u001b[0m\u001b[1;39m: \u001b[0m\u001b[0;32m\"90566-7771\"\u001b[0m\u001b[1;39m,\n",
      "      \u001b[0m\u001b[34;1m\"geo\"\u001b[0m\u001b[1;39m: \u001b[0m\u001b[1;39m{\n",
      "        \u001b[0m\u001b[34;1m\"lat\"\u001b[0m\u001b[1;39m: \u001b[0m\u001b[0;32m\"-43.9509\"\u001b[0m\u001b[1;39m,\n",
      "        \u001b[0m\u001b[34;1m\"lng\"\u001b[0m\u001b[1;39m: \u001b[0m\u001b[0;32m\"-34.4618\"\u001b[0m\u001b[1;39m\n",
      "      \u001b[1;39m}\u001b[0m\u001b[1;39m\n",
      "    \u001b[1;39m}\u001b[0m\u001b[1;39m\n",
      "  \u001b[1;39m}\u001b[0m\u001b[1;39m,\n",
      "  \u001b[1;39m{\n",
      "    \u001b[0m\u001b[34;1m\"id\"\u001b[0m\u001b[1;39m: \u001b[0m\u001b[0;39m3\u001b[0m\u001b[1;39m,\n",
      "    \u001b[0m\u001b[34;1m\"name\"\u001b[0m\u001b[1;39m: \u001b[0m\u001b[0;32m\"Clementine Bauch\"\u001b[0m\u001b[1;39m,\n",
      "    \u001b[0m\u001b[34;1m\"address\"\u001b[0m\u001b[1;39m: \u001b[0m\u001b[1;39m{\n",
      "      \u001b[0m\u001b[34;1m\"street\"\u001b[0m\u001b[1;39m: \u001b[0m\u001b[0;32m\"Douglas Extension\"\u001b[0m\u001b[1;39m,\n",
      "      \u001b[0m\u001b[34;1m\"city\"\u001b[0m\u001b[1;39m: \u001b[0m\u001b[0;32m\"McKenziehaven\"\u001b[0m\u001b[1;39m,\n",
      "      \u001b[0m\u001b[34;1m\"zipcode\"\u001b[0m\u001b[1;39m: \u001b[0m\u001b[0;32m\"59590-4157\"\u001b[0m\u001b[1;39m,\n",
      "      \u001b[0m\u001b[34;1m\"geo\"\u001b[0m\u001b[1;39m: \u001b[0m\u001b[1;39m{\n",
      "        \u001b[0m\u001b[34;1m\"lat\"\u001b[0m\u001b[1;39m: \u001b[0m\u001b[0;32m\"-68.6102\"\u001b[0m\u001b[1;39m,\n",
      "        \u001b[0m\u001b[34;1m\"lng\"\u001b[0m\u001b[1;39m: \u001b[0m\u001b[0;32m\"-47.0653\"\u001b[0m\u001b[1;39m\n",
      "      \u001b[1;39m}\u001b[0m\u001b[1;39m\n",
      "    \u001b[1;39m}\u001b[0m\u001b[1;39m\n",
      "  \u001b[1;39m}\u001b[0m\u001b[1;39m\n",
      "\u001b[1;39m]\u001b[0m\n"
     ]
    }
   ],
   "source": [
    "cat basic_example.json | jq"
   ]
  },
  {
   "cell_type": "code",
   "execution_count": 3,
   "metadata": {
    "vscode": {
     "languageId": "shellscript"
    }
   },
   "outputs": [
    {
     "name": "stdout",
     "output_type": "stream",
     "text": [
      "\u001b[1;39m{\n",
      "  \u001b[0m\u001b[34;1m\"id\"\u001b[0m\u001b[1;39m: \u001b[0m\u001b[0;39m1\u001b[0m\u001b[1;39m,\n",
      "  \u001b[0m\u001b[34;1m\"name\"\u001b[0m\u001b[1;39m: \u001b[0m\u001b[0;32m\"Leanne Graham\"\u001b[0m\u001b[1;39m,\n",
      "  \u001b[0m\u001b[34;1m\"address\"\u001b[0m\u001b[1;39m: \u001b[0m\u001b[1;39m{\n",
      "    \u001b[0m\u001b[34;1m\"city\"\u001b[0m\u001b[1;39m: \u001b[0m\u001b[0;32m\"Gwenborough\"\u001b[0m\u001b[1;39m,\n",
      "    \u001b[0m\u001b[34;1m\"street\"\u001b[0m\u001b[1;39m: \u001b[0m\u001b[0;32m\"Kulas Light\"\u001b[0m\u001b[1;39m,\n",
      "    \u001b[0m\u001b[34;1m\"zipcode\"\u001b[0m\u001b[1;39m: \u001b[0m\u001b[0;32m\"92998-3874\"\u001b[0m\u001b[1;39m,\n",
      "    \u001b[0m\u001b[34;1m\"geo\"\u001b[0m\u001b[1;39m: \u001b[0m\u001b[1;39m{\n",
      "      \u001b[0m\u001b[34;1m\"lat\"\u001b[0m\u001b[1;39m: \u001b[0m\u001b[0;32m\"-37.3159\"\u001b[0m\u001b[1;39m,\n",
      "      \u001b[0m\u001b[34;1m\"lng\"\u001b[0m\u001b[1;39m: \u001b[0m\u001b[0;32m\"81.1496\"\u001b[0m\u001b[1;39m\n",
      "    \u001b[1;39m}\u001b[0m\u001b[1;39m\n",
      "  \u001b[1;39m}\u001b[0m\u001b[1;39m\n",
      "\u001b[1;39m}\u001b[0m\n",
      "\u001b[1;39m{\n",
      "  \u001b[0m\u001b[34;1m\"id\"\u001b[0m\u001b[1;39m: \u001b[0m\u001b[0;39m2\u001b[0m\u001b[1;39m,\n",
      "  \u001b[0m\u001b[34;1m\"name\"\u001b[0m\u001b[1;39m: \u001b[0m\u001b[0;32m\"Ervin Howell\"\u001b[0m\u001b[1;39m,\n",
      "  \u001b[0m\u001b[34;1m\"address\"\u001b[0m\u001b[1;39m: \u001b[0m\u001b[1;39m{\n",
      "    \u001b[0m\u001b[34;1m\"city\"\u001b[0m\u001b[1;39m: \u001b[0m\u001b[0;32m\"Wisokyburgh\"\u001b[0m\u001b[1;39m,\n",
      "    \u001b[0m\u001b[34;1m\"street\"\u001b[0m\u001b[1;39m: \u001b[0m\u001b[0;32m\"Victor Plains\"\u001b[0m\u001b[1;39m,\n",
      "    \u001b[0m\u001b[34;1m\"zipcode\"\u001b[0m\u001b[1;39m: \u001b[0m\u001b[0;32m\"90566-7771\"\u001b[0m\u001b[1;39m,\n",
      "    \u001b[0m\u001b[34;1m\"geo\"\u001b[0m\u001b[1;39m: \u001b[0m\u001b[1;39m{\n",
      "      \u001b[0m\u001b[34;1m\"lat\"\u001b[0m\u001b[1;39m: \u001b[0m\u001b[0;32m\"-43.9509\"\u001b[0m\u001b[1;39m,\n",
      "      \u001b[0m\u001b[34;1m\"lng\"\u001b[0m\u001b[1;39m: \u001b[0m\u001b[0;32m\"-34.4618\"\u001b[0m\u001b[1;39m\n",
      "    \u001b[1;39m}\u001b[0m\u001b[1;39m\n",
      "  \u001b[1;39m}\u001b[0m\u001b[1;39m\n",
      "\u001b[1;39m}\u001b[0m\n",
      "\u001b[1;39m{\n",
      "  \u001b[0m\u001b[34;1m\"id\"\u001b[0m\u001b[1;39m: \u001b[0m\u001b[0;39m3\u001b[0m\u001b[1;39m,\n",
      "  \u001b[0m\u001b[34;1m\"name\"\u001b[0m\u001b[1;39m: \u001b[0m\u001b[0;32m\"Clementine Bauch\"\u001b[0m\u001b[1;39m,\n",
      "  \u001b[0m\u001b[34;1m\"address\"\u001b[0m\u001b[1;39m: \u001b[0m\u001b[1;39m{\n",
      "    \u001b[0m\u001b[34;1m\"street\"\u001b[0m\u001b[1;39m: \u001b[0m\u001b[0;32m\"Douglas Extension\"\u001b[0m\u001b[1;39m,\n",
      "    \u001b[0m\u001b[34;1m\"city\"\u001b[0m\u001b[1;39m: \u001b[0m\u001b[0;32m\"McKenziehaven\"\u001b[0m\u001b[1;39m,\n",
      "    \u001b[0m\u001b[34;1m\"zipcode\"\u001b[0m\u001b[1;39m: \u001b[0m\u001b[0;32m\"59590-4157\"\u001b[0m\u001b[1;39m,\n",
      "    \u001b[0m\u001b[34;1m\"geo\"\u001b[0m\u001b[1;39m: \u001b[0m\u001b[1;39m{\n",
      "      \u001b[0m\u001b[34;1m\"lat\"\u001b[0m\u001b[1;39m: \u001b[0m\u001b[0;32m\"-68.6102\"\u001b[0m\u001b[1;39m,\n",
      "      \u001b[0m\u001b[34;1m\"lng\"\u001b[0m\u001b[1;39m: \u001b[0m\u001b[0;32m\"-47.0653\"\u001b[0m\u001b[1;39m\n",
      "    \u001b[1;39m}\u001b[0m\u001b[1;39m\n",
      "  \u001b[1;39m}\u001b[0m\u001b[1;39m\n",
      "\u001b[1;39m}\u001b[0m\n"
     ]
    }
   ],
   "source": [
    "jq '.[]' basic_example.json"
   ]
  },
  {
   "cell_type": "code",
   "execution_count": 4,
   "metadata": {
    "vscode": {
     "languageId": "shellscript"
    }
   },
   "outputs": [
    {
     "name": "stdout",
     "output_type": "stream",
     "text": [
      "\u001b[1;39m{\n",
      "  \u001b[0m\u001b[34;1m\"id\"\u001b[0m\u001b[1;39m: \u001b[0m\u001b[0;39m1\u001b[0m\u001b[1;39m,\n",
      "  \u001b[0m\u001b[34;1m\"name\"\u001b[0m\u001b[1;39m: \u001b[0m\u001b[0;32m\"Leanne Graham\"\u001b[0m\u001b[1;39m,\n",
      "  \u001b[0m\u001b[34;1m\"address\"\u001b[0m\u001b[1;39m: \u001b[0m\u001b[1;39m{\n",
      "    \u001b[0m\u001b[34;1m\"city\"\u001b[0m\u001b[1;39m: \u001b[0m\u001b[0;32m\"Gwenborough\"\u001b[0m\u001b[1;39m,\n",
      "    \u001b[0m\u001b[34;1m\"street\"\u001b[0m\u001b[1;39m: \u001b[0m\u001b[0;32m\"Kulas Light\"\u001b[0m\u001b[1;39m,\n",
      "    \u001b[0m\u001b[34;1m\"zipcode\"\u001b[0m\u001b[1;39m: \u001b[0m\u001b[0;32m\"92998-3874\"\u001b[0m\u001b[1;39m,\n",
      "    \u001b[0m\u001b[34;1m\"geo\"\u001b[0m\u001b[1;39m: \u001b[0m\u001b[1;39m{\n",
      "      \u001b[0m\u001b[34;1m\"lat\"\u001b[0m\u001b[1;39m: \u001b[0m\u001b[0;32m\"-37.3159\"\u001b[0m\u001b[1;39m,\n",
      "      \u001b[0m\u001b[34;1m\"lng\"\u001b[0m\u001b[1;39m: \u001b[0m\u001b[0;32m\"81.1496\"\u001b[0m\u001b[1;39m\n",
      "    \u001b[1;39m}\u001b[0m\u001b[1;39m\n",
      "  \u001b[1;39m}\u001b[0m\u001b[1;39m\n",
      "\u001b[1;39m}\u001b[0m\n"
     ]
    }
   ],
   "source": [
    "jq '.[0]' basic_example.json"
   ]
  },
  {
   "cell_type": "code",
   "execution_count": 5,
   "metadata": {
    "vscode": {
     "languageId": "shellscript"
    }
   },
   "outputs": [
    {
     "name": "stdout",
     "output_type": "stream",
     "text": [
      "\u001b[0;32m\"Leanne Graham\"\u001b[0m\n"
     ]
    }
   ],
   "source": [
    "jq '.[0].name' basic_example.json"
   ]
  },
  {
   "cell_type": "code",
   "execution_count": 6,
   "metadata": {
    "vscode": {
     "languageId": "shellscript"
    }
   },
   "outputs": [
    {
     "name": "stdout",
     "output_type": "stream",
     "text": [
      "\u001b[0;32m\"Leanne Graham\"\u001b[0m\n",
      "\u001b[0;32m\"Ervin Howell\"\u001b[0m\n",
      "\u001b[0;32m\"Clementine Bauch\"\u001b[0m\n"
     ]
    }
   ],
   "source": [
    "jq '.[].name' basic_example.json"
   ]
  },
  {
   "cell_type": "code",
   "execution_count": 7,
   "metadata": {
    "vscode": {
     "languageId": "shellscript"
    }
   },
   "outputs": [
    {
     "name": "stdout",
     "output_type": "stream",
     "text": [
      "\u001b[1;39m{\n",
      "  \u001b[0m\u001b[34;1m\"id\"\u001b[0m\u001b[1;39m: \u001b[0m\u001b[0;39m1\u001b[0m\u001b[1;39m,\n",
      "  \u001b[0m\u001b[34;1m\"name\"\u001b[0m\u001b[1;39m: \u001b[0m\u001b[0;32m\"Leanne Graham\"\u001b[0m\u001b[1;39m\n",
      "\u001b[1;39m}\u001b[0m\n",
      "\u001b[1;39m{\n",
      "  \u001b[0m\u001b[34;1m\"id\"\u001b[0m\u001b[1;39m: \u001b[0m\u001b[0;39m2\u001b[0m\u001b[1;39m,\n",
      "  \u001b[0m\u001b[34;1m\"name\"\u001b[0m\u001b[1;39m: \u001b[0m\u001b[0;32m\"Ervin Howell\"\u001b[0m\u001b[1;39m\n",
      "\u001b[1;39m}\u001b[0m\n",
      "\u001b[1;39m{\n",
      "  \u001b[0m\u001b[34;1m\"id\"\u001b[0m\u001b[1;39m: \u001b[0m\u001b[0;39m3\u001b[0m\u001b[1;39m,\n",
      "  \u001b[0m\u001b[34;1m\"name\"\u001b[0m\u001b[1;39m: \u001b[0m\u001b[0;32m\"Clementine Bauch\"\u001b[0m\u001b[1;39m\n",
      "\u001b[1;39m}\u001b[0m\n"
     ]
    }
   ],
   "source": [
    "jq '.[] | {id, name}' basic_example.json"
   ]
  },
  {
   "cell_type": "code",
   "execution_count": 16,
   "metadata": {
    "vscode": {
     "languageId": "shellscript"
    }
   },
   "outputs": [
    {
     "name": "stdout",
     "output_type": "stream",
     "text": [
      "\u001b[0;32m\"1 - Leanne Graham\"\u001b[0m\n",
      "\u001b[0;32m\"2 - Ervin Howell\"\u001b[0m\n",
      "\u001b[0;32m\"3 - Clementine Bauch\"\u001b[0m\n",
      "\n",
      "  -r               output raw strings, not JSON texts;\n",
      "  -R               read raw strings, not JSON texts;\n",
      "  --rawfile a f    set variable $a to a string consisting of the contents of <f>;\n",
      "\n",
      "1 - Leanne Graham\n",
      "2 - Ervin Howell\n",
      "3 - Clementine Bauch\n"
     ]
    }
   ],
   "source": [
    "jq  '.[] | {id, name} | join (\" - \")' basic_example.json\n",
    "echo \n",
    "jq --help | grep raw\n",
    "echo\n",
    "jq -r '.[] | {id, name} | join (\" - \")' basic_example.json"
   ]
  },
  {
   "cell_type": "code",
   "execution_count": 17,
   "metadata": {
    "vscode": {
     "languageId": "shellscript"
    }
   },
   "outputs": [
    {
     "name": "stdout",
     "output_type": "stream",
     "text": [
      "\u001b[1;39m{\n",
      "  \u001b[0m\u001b[34;1m\"id\"\u001b[0m\u001b[1;39m: \u001b[0m\u001b[0;39m1\u001b[0m\u001b[1;39m,\n",
      "  \u001b[0m\u001b[34;1m\"name\"\u001b[0m\u001b[1;39m: \u001b[0m\u001b[0;32m\"Leanne Graham\"\u001b[0m\u001b[1;39m,\n",
      "  \u001b[0m\u001b[34;1m\"address\"\u001b[0m\u001b[1;39m: \u001b[0m\u001b[1;39m{\n",
      "    \u001b[0m\u001b[34;1m\"city\"\u001b[0m\u001b[1;39m: \u001b[0m\u001b[0;32m\"Gwenborough\"\u001b[0m\u001b[1;39m,\n",
      "    \u001b[0m\u001b[34;1m\"street\"\u001b[0m\u001b[1;39m: \u001b[0m\u001b[0;32m\"Kulas Light\"\u001b[0m\u001b[1;39m,\n",
      "    \u001b[0m\u001b[34;1m\"zipcode\"\u001b[0m\u001b[1;39m: \u001b[0m\u001b[0;32m\"92998-3874\"\u001b[0m\u001b[1;39m,\n",
      "    \u001b[0m\u001b[34;1m\"geo\"\u001b[0m\u001b[1;39m: \u001b[0m\u001b[1;39m{\n",
      "      \u001b[0m\u001b[34;1m\"lat\"\u001b[0m\u001b[1;39m: \u001b[0m\u001b[0;32m\"-37.3159\"\u001b[0m\u001b[1;39m,\n",
      "      \u001b[0m\u001b[34;1m\"lng\"\u001b[0m\u001b[1;39m: \u001b[0m\u001b[0;32m\"81.1496\"\u001b[0m\u001b[1;39m\n",
      "    \u001b[1;39m}\u001b[0m\u001b[1;39m\n",
      "  \u001b[1;39m}\u001b[0m\u001b[1;39m\n",
      "\u001b[1;39m}\u001b[0m\n",
      "\u001b[1;39m{\n",
      "  \u001b[0m\u001b[34;1m\"id\"\u001b[0m\u001b[1;39m: \u001b[0m\u001b[0;39m2\u001b[0m\u001b[1;39m,\n",
      "  \u001b[0m\u001b[34;1m\"name\"\u001b[0m\u001b[1;39m: \u001b[0m\u001b[0;32m\"Ervin Howell\"\u001b[0m\u001b[1;39m,\n",
      "  \u001b[0m\u001b[34;1m\"address\"\u001b[0m\u001b[1;39m: \u001b[0m\u001b[1;39m{\n",
      "    \u001b[0m\u001b[34;1m\"city\"\u001b[0m\u001b[1;39m: \u001b[0m\u001b[0;32m\"Wisokyburgh\"\u001b[0m\u001b[1;39m,\n",
      "    \u001b[0m\u001b[34;1m\"street\"\u001b[0m\u001b[1;39m: \u001b[0m\u001b[0;32m\"Victor Plains\"\u001b[0m\u001b[1;39m,\n",
      "    \u001b[0m\u001b[34;1m\"zipcode\"\u001b[0m\u001b[1;39m: \u001b[0m\u001b[0;32m\"90566-7771\"\u001b[0m\u001b[1;39m,\n",
      "    \u001b[0m\u001b[34;1m\"geo\"\u001b[0m\u001b[1;39m: \u001b[0m\u001b[1;39m{\n",
      "      \u001b[0m\u001b[34;1m\"lat\"\u001b[0m\u001b[1;39m: \u001b[0m\u001b[0;32m\"-43.9509\"\u001b[0m\u001b[1;39m,\n",
      "      \u001b[0m\u001b[34;1m\"lng\"\u001b[0m\u001b[1;39m: \u001b[0m\u001b[0;32m\"-34.4618\"\u001b[0m\u001b[1;39m\n",
      "    \u001b[1;39m}\u001b[0m\u001b[1;39m\n",
      "  \u001b[1;39m}\u001b[0m\u001b[1;39m\n",
      "\u001b[1;39m}\u001b[0m\n"
     ]
    }
   ],
   "source": [
    "jq '.[] | select((.name == \"Ervin Howell\") or ( .name | contains(\"Leanne\")))' basic_example.json"
   ]
  },
  {
   "cell_type": "code",
   "execution_count": 18,
   "metadata": {
    "vscode": {
     "languageId": "shellscript"
    }
   },
   "outputs": [
    {
     "name": "stdout",
     "output_type": "stream",
     "text": [
      "\u001b[1;39m{\n",
      "  \u001b[0m\u001b[34;1m\"address\"\u001b[0m\u001b[1;39m: \u001b[0m\u001b[1;39m{\n",
      "    \u001b[0m\u001b[34;1m\"city\"\u001b[0m\u001b[1;39m: \u001b[0m\u001b[0;32m\"Wisokyburgh\"\u001b[0m\u001b[1;39m,\n",
      "    \u001b[0m\u001b[34;1m\"street\"\u001b[0m\u001b[1;39m: \u001b[0m\u001b[0;32m\"Victor Plains\"\u001b[0m\u001b[1;39m,\n",
      "    \u001b[0m\u001b[34;1m\"zipcode\"\u001b[0m\u001b[1;39m: \u001b[0m\u001b[0;32m\"90566-7771\"\u001b[0m\u001b[1;39m,\n",
      "    \u001b[0m\u001b[34;1m\"geo\"\u001b[0m\u001b[1;39m: \u001b[0m\u001b[1;39m{\n",
      "      \u001b[0m\u001b[34;1m\"lat\"\u001b[0m\u001b[1;39m: \u001b[0m\u001b[0;32m\"-43.9509\"\u001b[0m\u001b[1;39m,\n",
      "      \u001b[0m\u001b[34;1m\"lng\"\u001b[0m\u001b[1;39m: \u001b[0m\u001b[0;32m\"-34.4618\"\u001b[0m\u001b[1;39m\n",
      "    \u001b[1;39m}\u001b[0m\u001b[1;39m\n",
      "  \u001b[1;39m}\u001b[0m\u001b[1;39m\n",
      "\u001b[1;39m}\u001b[0m\n"
     ]
    }
   ],
   "source": [
    "jq '.[] | select(.name == \"Ervin Howell\") | {address}' basic_example.json"
   ]
  },
  {
   "cell_type": "code",
   "execution_count": 19,
   "metadata": {
    "vscode": {
     "languageId": "shellscript"
    }
   },
   "outputs": [
    {
     "name": "stdout",
     "output_type": "stream",
     "text": [
      "\u001b[1;39m[\n",
      "  \u001b[0;32m\"city\"\u001b[0m\u001b[1;39m,\n",
      "  \u001b[0;32m\"geo\"\u001b[0m\u001b[1;39m,\n",
      "  \u001b[0;32m\"street\"\u001b[0m\u001b[1;39m,\n",
      "  \u001b[0;32m\"zipcode\"\u001b[0m\u001b[1;39m\n",
      "\u001b[1;39m]\u001b[0m\n"
     ]
    }
   ],
   "source": [
    "jq '.[] | select(.name == \"Ervin Howell\") | {address} | .address | keys '  basic_example.json"
   ]
  },
  {
   "cell_type": "code",
   "execution_count": 20,
   "metadata": {
    "vscode": {
     "languageId": "shellscript"
    }
   },
   "outputs": [
    {
     "name": "stdout",
     "output_type": "stream",
     "text": [
      "\u001b[0;32m\"Wisokyburgh\"\u001b[0m\n"
     ]
    }
   ],
   "source": [
    "jq '.[] | select(.name == \"Ervin Howell\") | {address} | .address.city ' basic_example.json"
   ]
  },
  {
   "cell_type": "code",
   "execution_count": 21,
   "metadata": {
    "vscode": {
     "languageId": "shellscript"
    }
   },
   "outputs": [
    {
     "name": "stdout",
     "output_type": "stream",
     "text": [
      "{\n",
      "    \"id\": 4,\n",
      "    \"name\": \"Alice\",\n",
      "    \"address\": {\n",
      "        \"city\": \"Aliceville\",\n",
      "        \"street\": \"123 Fake St\",\n",
      "        \"zipcode\": \"92998-3874\",\n",
      "        \"geo\": {\n",
      "            \"lat\": \"-37.3159\",\n",
      "            \"lng\": \"81.1496\"\n",
      "        }\n",
      "    }\n",
      "}\n"
     ]
    }
   ],
   "source": [
    "cat new_user.json"
   ]
  },
  {
   "cell_type": "code",
   "execution_count": 22,
   "metadata": {
    "vscode": {
     "languageId": "shellscript"
    }
   },
   "outputs": [
    {
     "name": "stdout",
     "output_type": "stream",
     "text": [
      "\u001b[1;39m[\n",
      "  \u001b[1;39m{\n",
      "    \u001b[0m\u001b[34;1m\"id\"\u001b[0m\u001b[1;39m: \u001b[0m\u001b[0;39m1\u001b[0m\u001b[1;39m,\n",
      "    \u001b[0m\u001b[34;1m\"name\"\u001b[0m\u001b[1;39m: \u001b[0m\u001b[0;32m\"Leanne Graham\"\u001b[0m\u001b[1;39m,\n",
      "    \u001b[0m\u001b[34;1m\"address\"\u001b[0m\u001b[1;39m: \u001b[0m\u001b[1;39m{\n",
      "      \u001b[0m\u001b[34;1m\"city\"\u001b[0m\u001b[1;39m: \u001b[0m\u001b[0;32m\"Gwenborough\"\u001b[0m\u001b[1;39m,\n",
      "      \u001b[0m\u001b[34;1m\"street\"\u001b[0m\u001b[1;39m: \u001b[0m\u001b[0;32m\"Kulas Light\"\u001b[0m\u001b[1;39m,\n",
      "      \u001b[0m\u001b[34;1m\"zipcode\"\u001b[0m\u001b[1;39m: \u001b[0m\u001b[0;32m\"92998-3874\"\u001b[0m\u001b[1;39m,\n",
      "      \u001b[0m\u001b[34;1m\"geo\"\u001b[0m\u001b[1;39m: \u001b[0m\u001b[1;39m{\n",
      "        \u001b[0m\u001b[34;1m\"lat\"\u001b[0m\u001b[1;39m: \u001b[0m\u001b[0;32m\"-37.3159\"\u001b[0m\u001b[1;39m,\n",
      "        \u001b[0m\u001b[34;1m\"lng\"\u001b[0m\u001b[1;39m: \u001b[0m\u001b[0;32m\"81.1496\"\u001b[0m\u001b[1;39m\n",
      "      \u001b[1;39m}\u001b[0m\u001b[1;39m\n",
      "    \u001b[1;39m}\u001b[0m\u001b[1;39m\n",
      "  \u001b[1;39m}\u001b[0m\u001b[1;39m,\n",
      "  \u001b[1;39m{\n",
      "    \u001b[0m\u001b[34;1m\"id\"\u001b[0m\u001b[1;39m: \u001b[0m\u001b[0;39m2\u001b[0m\u001b[1;39m,\n",
      "    \u001b[0m\u001b[34;1m\"name\"\u001b[0m\u001b[1;39m: \u001b[0m\u001b[0;32m\"Ervin Howell\"\u001b[0m\u001b[1;39m,\n",
      "    \u001b[0m\u001b[34;1m\"address\"\u001b[0m\u001b[1;39m: \u001b[0m\u001b[1;39m{\n",
      "      \u001b[0m\u001b[34;1m\"city\"\u001b[0m\u001b[1;39m: \u001b[0m\u001b[0;32m\"Wisokyburgh\"\u001b[0m\u001b[1;39m,\n",
      "      \u001b[0m\u001b[34;1m\"street\"\u001b[0m\u001b[1;39m: \u001b[0m\u001b[0;32m\"Victor Plains\"\u001b[0m\u001b[1;39m,\n",
      "      \u001b[0m\u001b[34;1m\"zipcode\"\u001b[0m\u001b[1;39m: \u001b[0m\u001b[0;32m\"90566-7771\"\u001b[0m\u001b[1;39m,\n",
      "      \u001b[0m\u001b[34;1m\"geo\"\u001b[0m\u001b[1;39m: \u001b[0m\u001b[1;39m{\n",
      "        \u001b[0m\u001b[34;1m\"lat\"\u001b[0m\u001b[1;39m: \u001b[0m\u001b[0;32m\"-43.9509\"\u001b[0m\u001b[1;39m,\n",
      "        \u001b[0m\u001b[34;1m\"lng\"\u001b[0m\u001b[1;39m: \u001b[0m\u001b[0;32m\"-34.4618\"\u001b[0m\u001b[1;39m\n",
      "      \u001b[1;39m}\u001b[0m\u001b[1;39m\n",
      "    \u001b[1;39m}\u001b[0m\u001b[1;39m\n",
      "  \u001b[1;39m}\u001b[0m\u001b[1;39m,\n",
      "  \u001b[1;39m{\n",
      "    \u001b[0m\u001b[34;1m\"id\"\u001b[0m\u001b[1;39m: \u001b[0m\u001b[0;39m3\u001b[0m\u001b[1;39m,\n",
      "    \u001b[0m\u001b[34;1m\"name\"\u001b[0m\u001b[1;39m: \u001b[0m\u001b[0;32m\"Clementine Bauch\"\u001b[0m\u001b[1;39m,\n",
      "    \u001b[0m\u001b[34;1m\"address\"\u001b[0m\u001b[1;39m: \u001b[0m\u001b[1;39m{\n",
      "      \u001b[0m\u001b[34;1m\"street\"\u001b[0m\u001b[1;39m: \u001b[0m\u001b[0;32m\"Douglas Extension\"\u001b[0m\u001b[1;39m,\n",
      "      \u001b[0m\u001b[34;1m\"city\"\u001b[0m\u001b[1;39m: \u001b[0m\u001b[0;32m\"McKenziehaven\"\u001b[0m\u001b[1;39m,\n",
      "      \u001b[0m\u001b[34;1m\"zipcode\"\u001b[0m\u001b[1;39m: \u001b[0m\u001b[0;32m\"59590-4157\"\u001b[0m\u001b[1;39m,\n",
      "      \u001b[0m\u001b[34;1m\"geo\"\u001b[0m\u001b[1;39m: \u001b[0m\u001b[1;39m{\n",
      "        \u001b[0m\u001b[34;1m\"lat\"\u001b[0m\u001b[1;39m: \u001b[0m\u001b[0;32m\"-68.6102\"\u001b[0m\u001b[1;39m,\n",
      "        \u001b[0m\u001b[34;1m\"lng\"\u001b[0m\u001b[1;39m: \u001b[0m\u001b[0;32m\"-47.0653\"\u001b[0m\u001b[1;39m\n",
      "      \u001b[1;39m}\u001b[0m\u001b[1;39m\n",
      "    \u001b[1;39m}\u001b[0m\u001b[1;39m\n",
      "  \u001b[1;39m}\u001b[0m\u001b[1;39m,\n",
      "  \u001b[1;39m{\n",
      "    \u001b[0m\u001b[34;1m\"id\"\u001b[0m\u001b[1;39m: \u001b[0m\u001b[0;39m4\u001b[0m\u001b[1;39m,\n",
      "    \u001b[0m\u001b[34;1m\"name\"\u001b[0m\u001b[1;39m: \u001b[0m\u001b[0;32m\"Alice\"\u001b[0m\u001b[1;39m,\n",
      "    \u001b[0m\u001b[34;1m\"address\"\u001b[0m\u001b[1;39m: \u001b[0m\u001b[1;39m{\n",
      "      \u001b[0m\u001b[34;1m\"city\"\u001b[0m\u001b[1;39m: \u001b[0m\u001b[0;32m\"Aliceville\"\u001b[0m\u001b[1;39m,\n",
      "      \u001b[0m\u001b[34;1m\"street\"\u001b[0m\u001b[1;39m: \u001b[0m\u001b[0;32m\"123 Fake St\"\u001b[0m\u001b[1;39m,\n",
      "      \u001b[0m\u001b[34;1m\"zipcode\"\u001b[0m\u001b[1;39m: \u001b[0m\u001b[0;32m\"92998-3874\"\u001b[0m\u001b[1;39m,\n",
      "      \u001b[0m\u001b[34;1m\"geo\"\u001b[0m\u001b[1;39m: \u001b[0m\u001b[1;39m{\n",
      "        \u001b[0m\u001b[34;1m\"lat\"\u001b[0m\u001b[1;39m: \u001b[0m\u001b[0;32m\"-37.3159\"\u001b[0m\u001b[1;39m,\n",
      "        \u001b[0m\u001b[34;1m\"lng\"\u001b[0m\u001b[1;39m: \u001b[0m\u001b[0;32m\"81.1496\"\u001b[0m\u001b[1;39m\n",
      "      \u001b[1;39m}\u001b[0m\u001b[1;39m\n",
      "    \u001b[1;39m}\u001b[0m\u001b[1;39m\n",
      "  \u001b[1;39m}\u001b[0m\u001b[1;39m\n",
      "\u001b[1;39m]\u001b[0m\n"
     ]
    }
   ],
   "source": [
    "jq '. += [input]' basic_example.json new_user.json"
   ]
  },
  {
   "cell_type": "code",
   "execution_count": 23,
   "metadata": {
    "vscode": {
     "languageId": "shellscript"
    }
   },
   "outputs": [
    {
     "name": "stdout",
     "output_type": "stream",
     "text": [
      "[\n",
      "  {\n",
      "    \"id\": 1,\n",
      "    \"name\": \"Leanne Graham\",\n",
      "    \"address\": {\n",
      "      \"city\": \"Gwenborough\",\n",
      "      \"street\": \"Kulas Light\",\n",
      "      \"zipcode\": \"92998-3874\",\n",
      "      \"geo\": {\n",
      "        \"lat\": \"-37.3159\",\n",
      "        \"lng\": \"81.1496\"\n",
      "      }\n",
      "    }\n",
      "  },\n",
      "  {\n",
      "    \"id\": 2,\n",
      "    \"name\": \"Ervin Howell\",\n",
      "    \"address\": {\n",
      "      \"city\": \"Wisokyburgh\",\n",
      "      \"street\": \"Victor Plains\",\n",
      "      \"zipcode\": \"90566-7771\",\n",
      "      \"geo\": {\n",
      "        \"lat\": \"-43.9509\",\n",
      "        \"lng\": \"-34.4618\"\n",
      "      }\n",
      "    }\n",
      "  },\n",
      "  {\n",
      "    \"id\": 3,\n",
      "    \"name\": \"Clementine Bauch\",\n",
      "    \"address\": {\n",
      "      \"street\": \"Douglas Extension\",\n",
      "      \"city\": \"McKenziehaven\",\n",
      "      \"zipcode\": \"59590-4157\",\n",
      "      \"geo\": {\n",
      "        \"lat\": \"-68.6102\",\n",
      "        \"lng\": \"-47.0653\"\n",
      "      }\n",
      "    }\n",
      "  },\n",
      "  {\n",
      "    \"id\": 4,\n",
      "    \"name\": \"Alice\",\n",
      "    \"address\": {\n",
      "      \"city\": \"Aliceville\",\n",
      "      \"street\": \"123 Fake St\",\n",
      "      \"zipcode\": \"92998-3874\",\n",
      "      \"geo\": {\n",
      "        \"lat\": \"-37.3159\",\n",
      "        \"lng\": \"81.1496\"\n",
      "      }\n",
      "    }\n",
      "  }\n",
      "]\n"
     ]
    }
   ],
   "source": [
    "jq '. += [input]' basic_example.json new_user.json > temp_list_of_users.json\n",
    "cat temp_list_of_users.json"
   ]
  },
  {
   "cell_type": "code",
   "execution_count": 27,
   "metadata": {
    "vscode": {
     "languageId": "shellscript"
    }
   },
   "outputs": [
    {
     "name": "stdout",
     "output_type": "stream",
     "text": [
      "Leanne Graham\n",
      "Ervin Howell\n",
      "Clementine Bauch\n",
      "Alice\n",
      "\n",
      "'Leanne Graham'\n",
      "'Ervin Howell'\n",
      "'Clementine Bauch'\n",
      "'Alice'\n"
     ]
    }
   ],
   "source": [
    "jq -r '.[].name ' temp_list_of_users.json\n",
    "\n",
    "echo\n",
    "\n",
    "jq -r '.[].name | @sh' temp_list_of_users.json"
   ]
  },
  {
   "cell_type": "code",
   "execution_count": 28,
   "metadata": {
    "vscode": {
     "languageId": "shellscript"
    }
   },
   "outputs": [
    {
     "name": "stdout",
     "output_type": "stream",
     "text": [
      "Using jq in a shell script \n",
      "\n",
      "'Leanne Graham'\n",
      "'Ervin Howell'\n",
      "'Clementine Bauch'\n",
      "'Alice'\n"
     ]
    }
   ],
   "source": [
    "echo -e \"Using jq in a shell script \\n\"\n",
    "\n",
    "list_of_names=$(jq -r '.[].name | @sh' temp_list_of_users.json)\n",
    "\n",
    "for i in \"${list_of_names[@]}\"; do\n",
    "    echo \"$i\"\n",
    "done\n"
   ]
  },
  {
   "cell_type": "code",
   "execution_count": 29,
   "metadata": {
    "vscode": {
     "languageId": "shellscript"
    }
   },
   "outputs": [],
   "source": [
    "rm temp_list_of_users.json"
   ]
  },
  {
   "attachments": {},
   "cell_type": "markdown",
   "metadata": {},
   "source": [
    "##### Summary"
   ]
  }
 ],
 "metadata": {
  "kernelspec": {
   "display_name": "Bash",
   "language": "bash",
   "name": "bash"
  },
  "language_info": {
   "codemirror_mode": "shell",
   "file_extension": ".sh",
   "mimetype": "text/x-sh",
   "name": "bash"
  },
  "orig_nbformat": 4
 },
 "nbformat": 4,
 "nbformat_minor": 2
}
