{
 "cells": [
  {
   "attachments": {},
   "cell_type": "markdown",
   "metadata": {},
   "source": [
    "# Working with Data - Jinja"
   ]
  },
  {
   "cell_type": "markdown",
   "metadata": {},
   "source": [
    "`Jinja` is a modern and designer-friendly templating language for Python. It is often used in creating dynamic web pages, generating configuration files, or producing automated emails, but has many more use cases outside of these areas. \n",
    "\n",
    "Here are some examples of Jinja syntax:\n",
    "\n",
    "- `Variables`: Variables are enclosed in double curly brackets `{{ }}`. When the template is rendered, these placeholders are replaced with actual values.\n",
    "\n",
    "- `Control Structures`: Jinja supports control structures like loops and conditionals. These are enclosed in `{% %}`.\n",
    "\n",
    "- `Filters`: Filters are used to transform the output. They are applied to variables using the pipe `|` symbol.\n",
    "\n",
    "\n",
    "See the following documentation to learn more about Jinja templates\n",
    "\n",
    "[https://jinja.palletsprojects.com/en/3.1.x/](https://jinja.palletsprojects.com/en/3.1.x/)\n"
   ]
  },
  {
   "cell_type": "markdown",
   "metadata": {},
   "source": [
    "- ##### Import the required libraries"
   ]
  },
  {
   "cell_type": "code",
   "execution_count": 1,
   "metadata": {},
   "outputs": [],
   "source": [
    "from jinja2 import Environment, FileSystemLoader\n",
    "env = Environment(loader=FileSystemLoader('templates'))"
   ]
  },
  {
   "cell_type": "markdown",
   "metadata": {},
   "source": [
    "- ##### Open `templates/email_template.j2` and note the structure of the template, including the syntax\n",
    "- ##### Render a template with some data"
   ]
  },
  {
   "cell_type": "code",
   "execution_count": 2,
   "metadata": {},
   "outputs": [],
   "source": [
    "first_name = \"Conor\"\n",
    "list_of_things = ['cat','dog','mouse','elephant']\n",
    "\n",
    "template = env.get_template('email_template.j2')\n",
    "with open('./output/email_template.txt', 'w') as file:\n",
    "    file.write(template.render(first_name=first_name, list_of_things=list_of_things))"
   ]
  },
  {
   "cell_type": "markdown",
   "metadata": {},
   "source": [
    "- ##### Open `output/email_template.txt` and confirm the email has been written \n",
    "\n",
    "- ##### Open `templates/nexus_as_code.j2` and note the structure of the template including the syntax\n",
    "  \n",
    "- ##### Render multiple templates"
   ]
  },
  {
   "cell_type": "code",
   "execution_count": 3,
   "metadata": {},
   "outputs": [],
   "source": [
    "static_test_configurations = [\n",
    "        {\"num_of_vlans\":5, \"num_of_ports\":3, \"num_of_switches\":2},\n",
    "        {\"num_of_vlans\":10, \"num_of_ports\":10, \"num_of_switches\":6}, \n",
    "        {\"num_of_vlans\":20, \"num_of_ports\":10, \"num_of_switches\":8}, \n",
    "        {\"num_of_vlans\":30, \"num_of_ports\":48, \"num_of_switches\":10}, \n",
    "]\n",
    "\n",
    "template = env.get_template('nexus_as_code.j2')\n",
    "\n",
    "for test in static_test_configurations:\n",
    "    filename = f\"nexus_as_code-{test['num_of_vlans']}-{test['num_of_ports']}-{test['num_of_switches']}\"\n",
    "    with open(f'./output/{filename}.nac.yaml', 'w') as file:\n",
    "        file.write(template.render(tenant_name=f'{filename}', \\\n",
    "                                    num_of_vlans=test[\"num_of_vlans\"], \\\n",
    "                                    num_of_ports=test[\"num_of_ports\"], \\\n",
    "                                    num_of_switches=test[\"num_of_switches\"]  \\\n",
    "                                    ))"
   ]
  },
  {
   "cell_type": "markdown",
   "metadata": {},
   "source": [
    "- ##### Open `output/nexus_as_code-5-3-2.nac.yaml` and confirm the configuration has been written\n",
    "- ##### Open `output/nexus_as_code-30-48-10.nac.yaml` and confirm the configuration has been written\n",
    "- ##### Almost 15000 lines of configuration created with a 29 line template!"
   ]
  }
 ],
 "metadata": {
  "kernelspec": {
   "display_name": "Python 3",
   "language": "python",
   "name": "python3"
  },
  "language_info": {
   "codemirror_mode": {
    "name": "ipython",
    "version": 3
   },
   "file_extension": ".py",
   "mimetype": "text/x-python",
   "name": "python",
   "nbconvert_exporter": "python",
   "pygments_lexer": "ipython3",
   "version": "3.11.6"
  },
  "orig_nbformat": 4
 },
 "nbformat": 4,
 "nbformat_minor": 2
}
