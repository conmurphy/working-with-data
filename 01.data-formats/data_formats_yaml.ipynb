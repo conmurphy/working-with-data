{
 "cells": [
  {
   "attachments": {},
   "cell_type": "markdown",
   "metadata": {},
   "source": [
    "# Working with Data - YAML"
   ]
  },
  {
   "cell_type": "markdown",
   "metadata": {},
   "source": [
    "##### Table of Contents"
   ]
  },
  {
   "cell_type": "markdown",
   "metadata": {},
   "source": [
    "* [1. YAML Structure](#yaml-structure)\n",
    "* [2. Import Required Libraries](#import-required-libraries)\n",
    "* [3. Retrieve Some Content](#retrieve-some-content)\n",
    "* [4. Capture The Users Text Into The Users Variable And ChecK The Type](#capture-the-users-text-into-the-users-variable-and-check-the-type)\n",
    "* [Converting the JSON to YAML](#converting-the-json-to-yaml)\n",
    "* [How Can We Format It Correctly?](#how-can-we-format-it-correctly)\n",
    "* [Now Will It PRint Correctly?](#now-will-it-print-correctly)\n",
    "* [Finally Print Again But Without Sorting](#finally-print-again-but-without-sorting)\n",
    "* [Append A New User By Reading A YAML File](#append-a-new-user-by-reading-a-yaml-file)\n",
    "* [Summary](#summary)"
   ]
  },
  {
   "cell_type": "markdown",
   "metadata": {},
   "source": [
    "##### YAML Structure"
   ]
  },
  {
   "cell_type": "markdown",
   "metadata": {},
   "source": [
    "\n",
    "`:`  Colons\n",
    "  - `key:value`\n",
    "  - Represent key-value pairs\n",
    "  - Equivalent to `{}` curly braces in JSON or a `Dictionary`\n",
    "  - It's possible to also have nested key-value pairs such as the `address` example below\n",
    "\n",
    "    Example A\n",
    "    ```YAML\n",
    "      name: apple\n",
    "      type: fruit\n",
    "    ```\n",
    "    \n",
    "    Example B\n",
    "    ```YAML\n",
    "    - id: 1\n",
    "      name: Leanne Graham\n",
    "      address:\n",
    "          city: Gwenborough\n",
    "          street: Kulas Light\n",
    "          zipcode: 92998-3874\n",
    "          geo:\n",
    "          lat: '-37.3159'\n",
    "          lng: '81.1496'\n",
    "    ```\n",
    "\n",
    "<br>\n",
    "\n",
    "\n",
    "`-`  Hyphen\n",
    "  - Hold lists or arrays\n",
    "  - In JSON this is equivalent to `[]` square brackets\n",
    "  - It's possible to also have nested objects\n",
    "\n",
    "    Example A\n",
    "    ```YAML\n",
    "      - cat\n",
    "      - dog\n",
    "      - bird\n",
    "    ```\n",
    "\n",
    "    Example B\n",
    "    ```YAML\n",
    "        favourite_foods:\n",
    "          - name: carrot\n",
    "            type: vegetable\n",
    "          - name: cornflakes\n",
    "            type: cereal\n",
    "\n",
    "    ```\n",
    "\n",
    "\n",
    "<br>\n",
    "\n",
    "  - YAML is a superset of JSON\n",
    "  - You can use JSON within YAML\n",
    "  - YAML allows for comments, JSON does not\n",
    "\n",
    "  ```YAML\n",
    "    vrfs:\n",
    "      - name: vrf-01\n",
    "        contracts:\n",
    "          imported_consumers:\n",
    "            - permit-from-lab-desktops\n",
    "            - permit-to-core-services\n",
    "            - permit-from-core-services\n",
    "        # these subnets will be leaked into the shared-services tenant\n",
    "        leaked_internal_prefixes:\n",
    "          - {prefix: 192.168.100.0/24, public: true, destinations: [{tenant: shared-services, vrf: vrf-01}]}\n",
    "          - {prefix: 192.168.101.0/24, public: true, destinations: [{tenant: shared-services, vrf: vrf-01}]}\n",
    "          - prefix: 192.168.102.0/24\n",
    "            public: true\n",
    "            destinations: \n",
    "              - tenant: shared-services\n",
    "                vrf: vrf-01\n",
    "  ```\n",
    "\n"
   ]
  },
  {
   "attachments": {},
   "cell_type": "markdown",
   "metadata": {},
   "source": [
    "##### Import required libraries"
   ]
  },
  {
   "cell_type": "code",
   "execution_count": null,
   "metadata": {},
   "outputs": [],
   "source": [
    "import requests\n",
    "import json\n",
    "import yaml"
   ]
  },
  {
   "attachments": {},
   "cell_type": "markdown",
   "metadata": {},
   "source": [
    "##### Retrieve some content"
   ]
  },
  {
   "cell_type": "code",
   "execution_count": null,
   "metadata": {},
   "outputs": [],
   "source": [
    "headers = {\"content-type\": \"application/json\"}\n",
    "requestUrl = \"https://jsonplaceholder.typicode.com/users\"\n",
    "response = requests.get(requestUrl,  headers=headers)"
   ]
  },
  {
   "attachments": {},
   "cell_type": "markdown",
   "metadata": {},
   "source": [
    "##### Capture the users text into the `users` variable and check the type"
   ]
  },
  {
   "cell_type": "code",
   "execution_count": null,
   "metadata": {},
   "outputs": [],
   "source": [
    "users = response.text\n",
    "print(type(users))"
   ]
  },
  {
   "cell_type": "code",
   "execution_count": null,
   "metadata": {},
   "outputs": [],
   "source": [
    "print(users)"
   ]
  },
  {
   "attachments": {},
   "cell_type": "markdown",
   "metadata": {},
   "source": [
    "##### Converting the JSON to YAML"
   ]
  },
  {
   "cell_type": "code",
   "execution_count": null,
   "metadata": {},
   "outputs": [],
   "source": [
    "print(yaml.dump(users))"
   ]
  },
  {
   "attachments": {},
   "cell_type": "markdown",
   "metadata": {},
   "source": [
    "##### How can we format it correctly?"
   ]
  },
  {
   "cell_type": "code",
   "execution_count": null,
   "metadata": {},
   "outputs": [],
   "source": [
    "users = response.text\n",
    "print(f\"Before: {type(users)}\")\n",
    "\n",
    "users = response.json()\n",
    "print(f\"After: {type(users)}\")"
   ]
  },
  {
   "attachments": {},
   "cell_type": "markdown",
   "metadata": {},
   "source": [
    "##### Now will it print correctly?\n",
    "> Note: (`[:3]` will output only the first three users)"
   ]
  },
  {
   "cell_type": "code",
   "execution_count": null,
   "metadata": {},
   "outputs": [],
   "source": [
    "print(yaml.dump(users[:3]))"
   ]
  },
  {
   "attachments": {},
   "cell_type": "markdown",
   "metadata": {},
   "source": [
    "##### Finally print again but without sorting"
   ]
  },
  {
   "cell_type": "code",
   "execution_count": null,
   "metadata": {},
   "outputs": [],
   "source": [
    "print(yaml.dump(users[:3], sort_keys=False))"
   ]
  },
  {
   "attachments": {},
   "cell_type": "markdown",
   "metadata": {},
   "source": [
    " ##### Append a new user by reading a YAML file"
   ]
  },
  {
   "cell_type": "code",
   "execution_count": null,
   "metadata": {},
   "outputs": [],
   "source": [
    "with open('a_new_user.yaml','r') as yamlfile:\n",
    "    new_user = yaml.safe_load(yamlfile)\n",
    "    users.append(new_user)\n",
    "\n",
    "    print(yaml.dump(users, sort_keys=False))\n"
   ]
  }
 ],
 "metadata": {
  "kernelspec": {
   "display_name": "Python 3",
   "language": "python",
   "name": "python3"
  },
  "language_info": {
   "codemirror_mode": {
    "name": "ipython",
    "version": 3
   },
   "file_extension": ".py",
   "mimetype": "text/x-python",
   "name": "python",
   "nbconvert_exporter": "python",
   "pygments_lexer": "ipython3",
   "version": "3.11.4"
  },
  "orig_nbformat": 4
 },
 "nbformat": 4,
 "nbformat_minor": 2
}
