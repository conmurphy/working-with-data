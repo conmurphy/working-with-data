{
 "cells": [
  {
   "cell_type": "markdown",
   "metadata": {},
   "source": [
    "# Working with Data - Numpy"
   ]
  },
  {
   "cell_type": "markdown",
   "metadata": {},
   "source": [
    "##### `A bit about Numpy`\n",
    "\n",
    "`Numpy` is a library in Python that is used for working with arrays. It provides a high-performance multidimensional array object and tools for working with these arrays. Here are some of its main uses:\n",
    "\n",
    "- Mathematical and Logical Operations on Arrays: Numpy allows element-wise operations, which means you can easily perform operations (addition, subtraction, square, exponentials) on every element of the array.\n",
    "\n",
    "- Fourier Transforms and Shapes Manipulation: Numpy can perform Fourier transforms and reshape arrays.\n",
    "\n",
    "- Matrix Operations: Numpy is capable of performing various matrix operations like multiplication, dot product, transpose, etc.\n",
    "\n",
    "- Random Number Generation: Numpy can generate random numbers, which is useful in statistical analyses, machine learning algorithms, and simulations.\n",
    "\n",
    "- Statistical Operations: Numpy provides many statistical methods such as mean, median, percentile, and standard deviation.\n",
    "\n",
    "- Image Processing and Computer Graphics: Images can be manipulated via Numpy arrays. For example, you can reverse the colors of an image, convert an image to grayscale, etc.\n",
    "\n",
    "- Scientific Computing: Numpy is used in a wide range of scientific research areas, including physics, astronomy, and engineering.\n",
    "\n",
    "- `Machine Learning: Numpy is fundamental for machine learning. Many other libraries (like Scikit-Learn, TensorFlow, and PyTorch) are built on top of Numpy and rely on its array operations.`"
   ]
  },
  {
   "cell_type": "markdown",
   "metadata": {},
   "source": [
    "##### `What’s the difference between a Python list and a NumPy array?`\n",
    "\n",
    "Numpy arrays and list arrays in Python are both used in data manipulation, but they are different in several ways. Here are some examples:\n",
    "\n",
    "1. Memory Efficiency: Numpy arrays are more memory efficient than Python lists\n",
    "\n",
    "2. Performance: Numpy arrays are faster than Python lists when it comes to mathematical operations. This is due to the fact that numpy uses optimized C API to perform computations, which is significantly faster than Python's built-in functions.\n",
    "\n",
    "3. Functionality: Numpy provides a lot of functionality that Python lists do not have. For example, you can perform operations like arithmetic (addition, subtraction, etc.), statistical operations (mean, median, etc.), and more on numpy arrays. Python lists do not support these operations directly and it's often required to use loops or list comprehensions.\n",
    "\n",
    "4. Syntax: The numpy array follows the mathematical syntax, which makes it more convenient to use for mathematical operations. However, Python lists don't follow mathematical syntax.\n",
    "\n",
    "5. Size Flexibility: Python lists are dynamically resizable, whereas numpy arrays are not. If you want to resize a numpy array, a new array will be created.\n",
    "\n",
    "In summary, you might want to use a numpy array if you are doing complex mathematical operations, especially on large data, and use lists for simpler, more general purpose tasks.\n",
    "\n",
    "[https://numpy.org/doc/stable/user/absolute_beginners.html](https://numpy.org/doc/stable/user/absolute_beginners.html)\n",
    "\n",
    "##### `Numpy Arrays`\n",
    "\n",
    "In Numpy, `rank` and `shape` are attributes that give information about the dimensionality of the array.\n",
    "\n",
    "- `Rank`: The rank of a Numpy array is the number of dimensions of the array. For example, a 1D array has a rank of 1, a 2D array has a rank of 2, and so on. In Python, you can get the rank of a Numpy array using the ndim attribute (`array.ndim`).\n",
    "\n",
    "- `Shape`: The shape of a Numpy array is a tuple that gives the size of each dimension. For example, for a 2D array, the shape would be (n,m) where n is the number of rows and m is the number of columns. For a 3D array, the shape would be (n,m,p) where n is the number of stacks, m is the number of rows, and p is the number of columns. In Python, you can get the shape of a Numpy array using the shape attribute (`array.shape`)."
   ]
  },
  {
   "cell_type": "markdown",
   "metadata": {},
   "source": [
    "##### `Import the required libraries and create an array`"
   ]
  },
  {
   "cell_type": "code",
   "execution_count": null,
   "metadata": {},
   "outputs": [],
   "source": [
    "import numpy as np\n",
    "\n",
    "# create a 2D array\n",
    "# In this example, array is a 2D array with 2 rows and 3 columns, so its rank is 2 and its shape is (2, 3).\n",
    "array = np.array([[1, 2, 3], [4, 5, 6]])\n",
    "\n",
    "print(\"Rank of array: \", array.ndim)  # Output: Rank of array:  2\n",
    "print(\"Shape of array: \", array.shape)  # Output: Shape of array:  (2, 3)\n",
    "print(array)"
   ]
  },
  {
   "cell_type": "markdown",
   "metadata": {},
   "source": [
    "##### `Populating a Numpy Array`\n",
    "\n",
    "Sometimes you might need to create an array but don't currently have all the data to fill it. This is where Numpy the `zeros()` and `empty()` functions can help you. \n",
    "\n",
    "Numpy `zeros()` is particularly useful in cases where you need an array as a placeholder for data that you are going to generate, and you want all initial values to be zero.\n",
    "\n",
    "Example uses include:\n",
    "\n",
    "- Initializing weights to zero in machine learning algorithms.\n",
    "- Creating a zero-filled array as a starting point for computations where the actual values will be filled in later.\n",
    "\n",
    "You would use `empty()` when you want to allocate memory for an array, but you don't care about the initial values. Since `empty()` does not have to populate the array with values, it can sometimes be faster than `np.zeros()` or other ways of creating and initializing an array.\n",
    "\n",
    "Example uses include:\n",
    "\n",
    "- When you need a large array that will be completely filled with new values, and the initial values are irrelevant.\n",
    "- When you need an array as a buffer for a big computation.\n",
    "\n"
   ]
  },
  {
   "cell_type": "code",
   "execution_count": null,
   "metadata": {},
   "outputs": [],
   "source": [
    "import numpy as np\n",
    "\n",
    "# Populate a new 2D array with zeros\n",
    "# In this example, np.zeros((10, 10)) creates a 2D array with 10 rows and 10 columns, all filled with zeros. \n",
    "array = np.zeros((10, 10))\n",
    "print(array)\n",
    "\n",
    "# Create an empty 2D array \n",
    "# In this example, np.empty((10, 10)) creates a 2D array with 10 rows and 10 columns, without initializing entries. \n",
    "array = np.empty((10, 10))\n",
    "\n",
    "print(array)\n",
    "\n",
    "\n"
   ]
  },
  {
   "cell_type": "markdown",
   "metadata": {},
   "source": [
    "##### `Useful Numpy Functions`\n",
    "\n",
    "`Reshaping`: Reshaping is used when you want to change the number of rows and columns which gives a new perspective of data.\n",
    "\n",
    "`Slicing`: Slicing is used when you want to get a subset of an existing array.\n",
    "\n",
    "`Dot Product`: Dot product is used in vector computations for matrix multiplications. One use case is in machine learning where the dot product is used in calculating the weighted sum of inputs in neural networks.\n",
    "\n",
    "<img src=\"images/dot-product.png\" width=\"300\">\n",
    "\n",
    "`Square`: The square function is used when you want to compute the square of each element in the array.\n",
    "\n",
    "`Mean`: Mean is used when you want to compute the average of the elements in the array."
   ]
  },
  {
   "cell_type": "code",
   "execution_count": null,
   "metadata": {},
   "outputs": [],
   "source": [
    "import numpy as np\n",
    "arr = np.arange(1, 10)\n",
    "print(\"Original Array: \", arr)\n",
    "\n",
    "# reshaping to 3 rows and 3 columns\n",
    "reshaped_arr = arr.reshape(3, 3)\n",
    "print(\"Reshaped Array: \\n\", reshaped_arr)"
   ]
  },
  {
   "cell_type": "code",
   "execution_count": null,
   "metadata": {},
   "outputs": [],
   "source": [
    "import numpy as np\n",
    "arr = np.array([1, 2, 3, 4, 5, 6, 7, 8, 9])\n",
    "print(\"Original Array: \", arr)\n",
    "\n",
    "# slicing from index 1 to 5\n",
    "sliced_arr = arr[1:5]\n",
    "print(\"Sliced Array: \", sliced_arr)"
   ]
  },
  {
   "cell_type": "code",
   "execution_count": null,
   "metadata": {},
   "outputs": [],
   "source": [
    "import numpy as np\n",
    "arr1 = np.array([1, 2, 3])\n",
    "arr2 = np.array([4, 5, 6])\n",
    "\n",
    "# finding dot product\n",
    "dot_product = np.dot(arr1, arr2)\n",
    "print(\"Dot Product: \", dot_product)"
   ]
  },
  {
   "cell_type": "code",
   "execution_count": null,
   "metadata": {},
   "outputs": [],
   "source": [
    "import numpy as np\n",
    "arr = np.array([1, 2, 3, 4, 5])\n",
    "\n",
    "# squaring each element\n",
    "squared_arr = np.square(arr)\n",
    "print(\"Squared Array: \", squared_arr)"
   ]
  },
  {
   "cell_type": "code",
   "execution_count": null,
   "metadata": {},
   "outputs": [],
   "source": [
    "import numpy as np\n",
    "arr = np.array([1, 2, 3, 4, 5])\n",
    "\n",
    "# finding mean\n",
    "mean_val = np.mean(arr)\n",
    "print(\"Mean: \", mean_val)"
   ]
  },
  {
   "cell_type": "markdown",
   "metadata": {},
   "source": [
    "##### `Visualising Data with Matplotlib`\n",
    "\n",
    "`Matplotlib` is a plotting library in Python. It is a multi-platform, multi-purpose, and highly customizable library that allows you to create a wide variety of plots and charts in both 2D and 3D.\n",
    "\n",
    "Here are some features and uses of Matplotlib:\n",
    "\n",
    "- Line Plots: You can create line plots to track changes over a period of time.\n",
    "\n",
    "- Bar Charts and Histograms: Bar charts for comparison of entities and histograms for frequency distribution can be easily plotted with Matplotlib.\n",
    "\n",
    "- Scatter Plots: Scatter plots can be created which are useful for displaying the relationship between two variables.\n",
    "\n",
    "- Pie Charts: Matplotlib can be used to create pie charts to represent part-to-whole relationships in the data.\n",
    "\n",
    "- Stack Plots: Stack plots, similar to pie charts, can be created to track changes over time for one or more groups.\n",
    "\n",
    "- 3D Plots: You can create various 3D plots including surface plots, wireframes, contour plots, etc.\n",
    "\n",
    "- Image, Contours, Fields and Pathways: You can also create images, contours, fields, and pathways.\n",
    "\n",
    "Matplotlib integrates well with other libraries in the scientific Python ecosystem, such as NumPy, SciPy, and Pandas. It's widely used for creating static, animated, and interactive visualizations in Python.\n",
    "\n"
   ]
  },
  {
   "cell_type": "code",
   "execution_count": null,
   "metadata": {},
   "outputs": [],
   "source": [
    "import numpy as np\n",
    "import matplotlib.pyplot as plt\n",
    "\n",
    "# generate random house sizes and prices\n",
    "np.random.seed(0)  # for reproducibility\n",
    "\n",
    "# generate an array of 100 random integers between 500 and 3500. These represent the sizes of the houses.\n",
    "house_size = np.random.randint(500, 3500, 100)\n",
    "\n",
    "# generate the house prices. It assumes a linear relationship between house size and price, with some added random noise.\n",
    "house_price = house_size * 100 + np.random.normal(0, 50000, 100)  # linear relationship with some noise\n",
    "\n",
    "# creates a scatter plot of house size against house price\n",
    "plt.scatter(house_size, house_price, label='Data')\n",
    "\n",
    "# fits a 1st-degree polynomial (a line) to the data. It returns the slope 'w' and y-intercept 'b' of the line.\n",
    "# https://en.wikipedia.org/wiki/Degree_of_a_polynomial\n",
    "\n",
    "w, b = np.polyfit(house_size, house_price, 1)  # w is slope, b is y-intercept\n",
    "\n",
    "# note: polyfit has been deprecated and replaced by numpy polynomial which is shown in the next example\n",
    "\n",
    "# plots the fitted line on the same plot as the scatter plot.\n",
    "plt.plot(house_size, w*house_size + b, color='red', label='Fit: {:.2f}x + {:.2f}'.format(w, b))\n",
    "\n",
    "# add labels and a title to the x and y axes.\n",
    "plt.xlabel('House Size (sq ft)')\n",
    "plt.ylabel('House Price (USD)')\n",
    "plt.title('House Size vs House Price')\n",
    "\n",
    "# adds a legend to the plot\n",
    "plt.legend()\n",
    "\n",
    "# displays the plot\n",
    "plt.show()"
   ]
  },
  {
   "cell_type": "markdown",
   "metadata": {},
   "source": [
    "##### `Interactive data`\n",
    "\n",
    "To make the plot interactive, you can use a library like Plotly. Matplotlib also has an interactive mode, but it's more commonly used for static plots.\n",
    "\n",
    "This script creates an interactive plot where you can zoom, pan, hover over the data points to see their values, and toggle the visibility of the datasets.\n",
    "\n",
    "##### `(Optional) What is a coefficient`\n",
    "\n",
    "In mathematics, a coefficient is a numerical or constant quantity placed before and multiplying the variable in an algebraic expression. It is used to scale the variable or to adjust its units.\n",
    "\n",
    "For example, in the equation y = 5x + 3:\n",
    "\n",
    "5 is the coefficient of x. It scales the value of x by 5.\n",
    "The number 3 is not a coefficient in this case since it is not multiplying a variable; instead, it is called the constant term or y-intercept.\n",
    "In the context of a polynomial function or a linear regression line (like y = wx + b), the coefficient w represents the slope of the line, which describes the relationship between y and x. In other words, w tells you how much y changes for each unit change in x. The coefficient b in this case is the y-intercept, or the value of y when x is zero.\n",
    "\n",
    "In more complex equations or higher-degree polynomials (like y = ax^2 + bx + c), there can be more than one coefficient. Here, a and b are the coefficients of x^2 and x, respectively."
   ]
  },
  {
   "cell_type": "code",
   "execution_count": null,
   "metadata": {},
   "outputs": [],
   "source": [
    "import numpy as np\n",
    "import plotly.graph_objects as go\n",
    "\n",
    "# generate random house sizes and prices\n",
    "np.random.seed(0)  # for reproducibility\n",
    "house_size = np.random.randint(500, 3500, 100)\n",
    "house_price = house_size * 100 + np.random.normal(0, 50000, 100)  # linear relationship with some noise\n",
    "\n",
    "# fit a line (using Polynomial API)\n",
    "p = np.polynomial.Polynomial.fit(house_size, house_price, 1)  # fit a 1st degree polynomial\n",
    "\n",
    "\n",
    "# The syntax [::-1] in Python is used for reversing the order of an array, list, string, or other sequence type.\n",
    "# \n",
    "# The : character selects all elements in the sequence.\n",
    "# The -1 after the :: is the step. It means go backwards by 1 step.\n",
    "\n",
    "# So together, [::-1] means create a new sequence that starts from the end (the last element), \n",
    "# ends at the start (the first element), and steps backwards by 1 at each step, effectively reversing the sequence.\n",
    "\n",
    "w, b = p.coef[::-1]  # the coefficients are returned in reverse order, i.e., [b, w]\n",
    "\n",
    "print(w,b)\n",
    "\n",
    "# create scatter plot\n",
    "scatter = go.Scatter(x=house_size, y=house_price, mode='markers', name='Data')\n",
    "\n",
    "# create line plot\n",
    "line = go.Scatter(x=house_size, y=p(house_size), mode='lines', name='Fit: {:.2f}x + {:.2f}'.format(w, b))\n",
    "\n",
    "# create layout\n",
    "layout = go.Layout(title='House Size vs House Price', xaxis=dict(title='House Size (sq ft)'), yaxis=dict(title='House Price (USD)'))\n",
    "\n",
    "# create figure and add traces\n",
    "fig = go.Figure(data=[scatter, line], layout=layout)\n",
    "\n",
    "# show figure\n",
    "fig.show()"
   ]
  },
  {
   "cell_type": "markdown",
   "metadata": {},
   "source": [
    "## Another way to display data\n",
    "\n",
    "If you have a requirement to display and share data with others you can have a look at open source tools such as `Evidence`\n",
    "\n",
    "[https://github.com/evidence-dev/evidence](https://github.com/evidence-dev/evidence)\n",
    "\n",
    "From the link above:\n",
    "\n",
    "Evidence renders a website from markdown files:\n",
    "\n",
    "- SQL statements inside markdown files run queries against your data warehouse\n",
    "- Charts and components are rendered using these query results\n",
    "- Templated pages generate many pages from a single markdown template\n",
    "- Loops and If / Else statements allow control of what is displayed to users\n",
    "\n"
   ]
  }
 ],
 "metadata": {
  "kernelspec": {
   "display_name": "Python 3",
   "language": "python",
   "name": "python3"
  },
  "language_info": {
   "codemirror_mode": {
    "name": "ipython",
    "version": 3
   },
   "file_extension": ".py",
   "mimetype": "text/x-python",
   "name": "python",
   "nbconvert_exporter": "python",
   "pygments_lexer": "ipython3",
   "version": "3.11.6"
  }
 },
 "nbformat": 4,
 "nbformat_minor": 2
}
