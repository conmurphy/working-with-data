{
 "cells": [
  {
   "cell_type": "markdown",
   "metadata": {},
   "source": [
    "# Working with Data - Numpy"
   ]
  },
  {
   "cell_type": "markdown",
   "metadata": {},
   "source": [
    "##### A bit about Numpy\n",
    "\n",
    "`Numpy` is a library in Python that is used for working with arrays. It provides a high-performance multidimensional array object and tools for working with these arrays. Here are some of its main uses:\n",
    "\n",
    "- Mathematical and Logical Operations on Arrays: Numpy allows element-wise operations, which means you can easily perform operations (addition, subtraction, square, exponentials) on every element of the array.\n",
    "\n",
    "- Fourier Transforms and Shapes Manipulation: Numpy can perform Fourier transforms and reshape arrays.\n",
    "\n",
    "- Matrix Operations: Numpy is capable of performing various matrix operations like multiplication, dot product, transpose, etc.\n",
    "\n",
    "- Random Number Generation: Numpy can generate random numbers, which is useful in statistical analyses, machine learning algorithms, and simulations.\n",
    "\n",
    "- Statistical Operations: Numpy provides many statistical methods such as mean, median, percentile, and standard deviation.\n",
    "\n",
    "- Image Processing and Computer Graphics: Images can be manipulated via Numpy arrays. For example, you can reverse the colors of an image, convert an image to grayscale, etc.\n",
    "\n",
    "- Scientific Computing: Numpy is used in a wide range of scientific research areas, including physics, astronomy, and engineering.\n",
    "\n",
    "- `Machine Learning: Numpy is fundamental for machine learning. Many other libraries (like Scikit-Learn, TensorFlow, and PyTorch) are built on top of Numpy and rely on its array operations.`"
   ]
  },
  {
   "cell_type": "markdown",
   "metadata": {},
   "source": [
    "##### What’s the difference between a Python list and a NumPy array?\n",
    "\n",
    "Numpy arrays and list arrays in Python are both used in data manipulation, but they are different in several ways. Here are some examples:\n",
    "\n",
    "1. Memory Efficiency: Numpy arrays are more memory efficient than Python lists\n",
    "\n",
    "2. Performance: Numpy arrays are faster than Python lists when it comes to mathematical operations. This is due to the fact that numpy uses optimized C API to perform computations, which is significantly faster than Python's built-in functions.\n",
    "\n",
    "3. Functionality: Numpy provides a lot of functionality that Python lists do not have. For example, you can perform operations like arithmetic (addition, subtraction, etc.), statistical operations (mean, median, etc.), and more on numpy arrays. Python lists do not support these operations directly and it's often required to use loops or list comprehensions.\n",
    "\n",
    "4. Syntax: The numpy array follows the mathematical syntax, which makes it more convenient to use for mathematical operations. However, Python lists don't follow mathematical syntax.\n",
    "\n",
    "5. Size Flexibility: Python lists are dynamically resizable, whereas numpy arrays are not. If you want to resize a numpy array, a new array will be created.\n",
    "\n",
    "In summary, you might want to use a numpy array if you are doing complex mathematical operations, especially on large data, and use lists for simpler, more general purpose tasks.\n",
    "\n",
    "[https://numpy.org/doc/stable/user/absolute_beginners.html](https://numpy.org/doc/stable/user/absolute_beginners.html)\n",
    "\n",
    "##### Numpy Arrays\n",
    "\n",
    "In Numpy, `rank` and `shape` are attributes that give information about the dimensionality of the array.\n",
    "\n",
    "- `Rank`: The rank of a Numpy array is the number of dimensions of the array. For example, a 1D array has a rank of 1, a 2D array has a rank of 2, and so on. In Python, you can get the rank of a Numpy array using the ndim attribute (`array.ndim`).\n",
    "\n",
    "- `Shape`: The shape of a Numpy array is a tuple that gives the size of each dimension. For example, for a 2D array, the shape would be (n,m) where n is the number of rows and m is the number of columns. For a 3D array, the shape would be (n,m,p) where n is the number of stacks, m is the number of rows, and p is the number of columns. In Python, you can get the shape of a Numpy array using the shape attribute (`array.shape`)."
   ]
  },
  {
   "cell_type": "markdown",
   "metadata": {},
   "source": [
    "##### Import the required libraries and create an array"
   ]
  },
  {
   "cell_type": "code",
   "execution_count": 2,
   "metadata": {},
   "outputs": [
    {
     "name": "stdout",
     "output_type": "stream",
     "text": [
      "Rank of array:  2\n",
      "Shape of array:  (2, 3)\n",
      "[[1 2 3]\n",
      " [4 5 6]]\n"
     ]
    }
   ],
   "source": [
    "import numpy as np\n",
    "\n",
    "# create a 2D array\n",
    "# In this example, array is a 2D array with 2 rows and 3 columns, so its rank is 2 and its shape is (2, 3).\n",
    "array = np.array([[1, 2, 3], [4, 5, 6]])\n",
    "\n",
    "print(\"Rank of array: \", array.ndim)  # Output: Rank of array:  2\n",
    "print(\"Shape of array: \", array.shape)  # Output: Shape of array:  (2, 3)\n",
    "print(array)"
   ]
  },
  {
   "cell_type": "markdown",
   "metadata": {},
   "source": [
    "##### Populating a Numpy Array\n",
    "\n",
    "Sometimes you might need to create an array but don't currently have all the data to fill it. This is where Numpy the `zeros()` and `empty()` functions can help you. \n",
    "\n",
    "Numpy `zeros()` is particularly useful in cases where you need an array as a placeholder for data that you are going to generate, and you want all initial values to be zero.\n",
    "\n",
    "Example uses include:\n",
    "\n",
    "- Initializing weights to zero in machine learning algorithms.\n",
    "- Creating a zero-filled array as a starting point for computations where the actual values will be filled in later.\n",
    "\n",
    "You would use `empty()` when you want to allocate memory for an array, but you don't care about the initial values. Since `empty()` does not have to populate the array with values, it can sometimes be faster than `np.zeros()` or other ways of creating and initializing an array.\n",
    "\n",
    "Example uses include:\n",
    "\n",
    "- When you need a large array that will be completely filled with new values, and the initial values are irrelevant.\n",
    "- When you need an array as a buffer for a big computation.\n",
    "\n"
   ]
  },
  {
   "cell_type": "code",
   "execution_count": 10,
   "metadata": {},
   "outputs": [
    {
     "name": "stdout",
     "output_type": "stream",
     "text": [
      "[[0. 0. 0. 0. 0. 0. 0. 0. 0. 0.]\n",
      " [0. 0. 0. 0. 0. 0. 0. 0. 0. 0.]\n",
      " [0. 0. 0. 0. 0. 0. 0. 0. 0. 0.]\n",
      " [0. 0. 0. 0. 0. 0. 0. 0. 0. 0.]\n",
      " [0. 0. 0. 0. 0. 0. 0. 0. 0. 0.]\n",
      " [0. 0. 0. 0. 0. 0. 0. 0. 0. 0.]\n",
      " [0. 0. 0. 0. 0. 0. 0. 0. 0. 0.]\n",
      " [0. 0. 0. 0. 0. 0. 0. 0. 0. 0.]\n",
      " [0. 0. 0. 0. 0. 0. 0. 0. 0. 0.]\n",
      " [0. 0. 0. 0. 0. 0. 0. 0. 0. 0.]]\n",
      "[[0. 0. 0. 0. 0. 0. 0. 0. 0. 0.]\n",
      " [0. 0. 0. 0. 0. 0. 0. 0. 0. 0.]\n",
      " [0. 0. 0. 0. 0. 0. 0. 0. 0. 0.]\n",
      " [0. 0. 0. 0. 0. 0. 0. 0. 0. 0.]\n",
      " [0. 0. 0. 0. 0. 0. 0. 0. 0. 0.]\n",
      " [0. 0. 0. 0. 0. 0. 0. 0. 0. 0.]\n",
      " [0. 0. 0. 0. 0. 0. 0. 0. 0. 0.]\n",
      " [0. 0. 0. 0. 0. 0. 0. 0. 0. 0.]\n",
      " [0. 0. 0. 0. 0. 0. 0. 0. 0. 0.]\n",
      " [0. 0. 0. 0. 0. 0. 0. 0. 0. 0.]]\n"
     ]
    }
   ],
   "source": [
    "import numpy as np\n",
    "\n",
    "# Populate a new 2D array with zeros\n",
    "# In this example, np.zeros((10, 10)) creates a 2D array with 10 rows and 10 columns, all filled with zeros. \n",
    "array = np.zeros((10, 10))\n",
    "print(array)\n",
    "\n",
    "# Create an empty 2D array \n",
    "# In this example, np.empty((10, 10)) creates a 2D array with 10 rows and 10 columns, without initializing entries. \n",
    "array = np.empty((10, 10))\n",
    "\n",
    "print(array)\n",
    "\n",
    "\n"
   ]
  },
  {
   "cell_type": "markdown",
   "metadata": {},
   "source": [
    "##### Useful Numpy Functions\n",
    "\n",
    "`Reshaping`: Reshaping is used when you want to change the number of rows and columns which gives a new perspective of data.\n",
    "\n",
    "`Slicing`: Slicing is used when you want to get a subset of an existing array.\n",
    "\n",
    "`Dot Product`: Dot product is used in vector computations for matrix multiplications. One use case is in machine learning where the dot product is used in calculating the weighted sum of inputs in neural networks.\n",
    "\n",
    "<img src=\"images/dot-product.png\" width=\"300\">\n",
    "\n",
    "`Square`: The square function is used when you want to compute the square of each element in the array.\n",
    "\n",
    "`Mean`: Mean is used when you want to compute the average of the elements in the array."
   ]
  },
  {
   "cell_type": "code",
   "execution_count": 12,
   "metadata": {},
   "outputs": [
    {
     "name": "stdout",
     "output_type": "stream",
     "text": [
      "Original Array:  [1 2 3 4 5 6 7 8 9]\n",
      "Reshaped Array: \n",
      " [[1 2 3]\n",
      " [4 5 6]\n",
      " [7 8 9]]\n"
     ]
    }
   ],
   "source": [
    "import numpy as np\n",
    "arr = np.arange(1, 10)\n",
    "print(\"Original Array: \", arr)\n",
    "\n",
    "# reshaping to 3 rows and 3 columns\n",
    "reshaped_arr = arr.reshape(3, 3)\n",
    "print(\"Reshaped Array: \\n\", reshaped_arr)"
   ]
  },
  {
   "cell_type": "code",
   "execution_count": 13,
   "metadata": {},
   "outputs": [
    {
     "name": "stdout",
     "output_type": "stream",
     "text": [
      "Original Array:  [1 2 3 4 5 6 7 8 9]\n",
      "Sliced Array:  [2 3 4 5]\n"
     ]
    }
   ],
   "source": [
    "import numpy as np\n",
    "arr = np.array([1, 2, 3, 4, 5, 6, 7, 8, 9])\n",
    "print(\"Original Array: \", arr)\n",
    "\n",
    "# slicing from index 1 to 5\n",
    "sliced_arr = arr[1:5]\n",
    "print(\"Sliced Array: \", sliced_arr)"
   ]
  },
  {
   "cell_type": "code",
   "execution_count": 14,
   "metadata": {},
   "outputs": [
    {
     "name": "stdout",
     "output_type": "stream",
     "text": [
      "Dot Product:  32\n"
     ]
    }
   ],
   "source": [
    "import numpy as np\n",
    "arr1 = np.array([1, 2, 3])\n",
    "arr2 = np.array([4, 5, 6])\n",
    "\n",
    "# finding dot product\n",
    "dot_product = np.dot(arr1, arr2)\n",
    "print(\"Dot Product: \", dot_product)"
   ]
  },
  {
   "cell_type": "code",
   "execution_count": 15,
   "metadata": {},
   "outputs": [
    {
     "name": "stdout",
     "output_type": "stream",
     "text": [
      "Squared Array:  [ 1  4  9 16 25]\n"
     ]
    }
   ],
   "source": [
    "import numpy as np\n",
    "arr = np.array([1, 2, 3, 4, 5])\n",
    "\n",
    "# squaring each element\n",
    "squared_arr = np.square(arr)\n",
    "print(\"Squared Array: \", squared_arr)"
   ]
  },
  {
   "cell_type": "code",
   "execution_count": 16,
   "metadata": {},
   "outputs": [
    {
     "name": "stdout",
     "output_type": "stream",
     "text": [
      "Mean:  3.0\n"
     ]
    }
   ],
   "source": [
    "import numpy as np\n",
    "arr = np.array([1, 2, 3, 4, 5])\n",
    "\n",
    "# finding mean\n",
    "mean_val = np.mean(arr)\n",
    "print(\"Mean: \", mean_val)"
   ]
  },
  {
   "cell_type": "markdown",
   "metadata": {},
   "source": [
    "##### Matplotlib\n",
    "\n",
    "`Matplotlib` is a plotting library in Python. It is a multi-platform, multi-purpose, and highly customizable library that allows you to create a wide variety of plots and charts in both 2D and 3D.\n",
    "\n",
    "Here are some features and uses of Matplotlib:\n",
    "\n",
    "- Line Plots: You can create line plots to track changes over a period of time.\n",
    "\n",
    "- Bar Charts and Histograms: Bar charts for comparison of entities and histograms for frequency distribution can be easily plotted with Matplotlib.\n",
    "\n",
    "- Scatter Plots: Scatter plots can be created which are useful for displaying the relationship between two variables.\n",
    "\n",
    "- Pie Charts: Matplotlib can be used to create pie charts to represent part-to-whole relationships in the data.\n",
    "\n",
    "- Stack Plots: Stack plots, similar to pie charts, can be created to track changes over time for one or more groups.\n",
    "\n",
    "- 3D Plots: You can create various 3D plots including surface plots, wireframes, contour plots, etc.\n",
    "\n",
    "- Image, Contours, Fields and Pathways: You can also create images, contours, fields, and pathways.\n",
    "\n",
    "Matplotlib integrates well with other libraries in the scientific Python ecosystem, such as NumPy, SciPy, and Pandas. It's widely used for creating static, animated, and interactive visualizations in Python.\n",
    "\n",
    "##### This can be helpful to visual different sets of data"
   ]
  },
  {
   "cell_type": "code",
   "execution_count": 20,
   "metadata": {},
   "outputs": [
    {
     "data": {
      "image/png": "[encoded data removed]",
      "text/plain": [
       "<Figure size 640x480 with 1 Axes>"
      ]
     },
     "metadata": {},
     "output_type": "display_data"
    }
   ],
   "source": [
    "import numpy as np\n",
    "import matplotlib.pyplot as plt\n",
    "\n",
    "# generate random house sizes and prices\n",
    "np.random.seed(0)  # for reproducibility\n",
    "\n",
    "# generate an array of 100 random integers between 500 and 3500. These represent the sizes of the houses.\n",
    "house_size = np.random.randint(500, 3500, 100)\n",
    "\n",
    "# generate the house prices. It assumes a linear relationship between house size and price, with some added random noise.\n",
    "house_price = house_size * 100 + np.random.normal(0, 50000, 100)  # linear relationship with some noise\n",
    "\n",
    "# creates a scatter plot of house size against house price\n",
    "plt.scatter(house_size, house_price, label='Data')\n",
    "\n",
    "# fits a 1st-degree polynomial (a line) to the data. It returns the slope 'w' and y-intercept 'b' of the line.\n",
    "# https://en.wikipedia.org/wiki/Degree_of_a_polynomial\n",
    "\n",
    "w, b = np.polyfit(house_size, house_price, 1)  # w is slope, b is y-intercept\n",
    "\n",
    "# note: polyfit has been deprecated and replaced by numpy polynomial which is shown in the next example\n",
    "\n",
    "# plots the fitted line on the same plot as the scatter plot.\n",
    "plt.plot(house_size, w*house_size + b, color='red', label='Fit: {:.2f}x + {:.2f}'.format(w, b))\n",
    "\n",
    "# add labels and a title to the x and y axes.\n",
    "plt.xlabel('House Size (sq ft)')\n",
    "plt.ylabel('House Price (USD)')\n",
    "plt.title('House Size vs House Price')\n",
    "\n",
    "# adds a legend to the plot\n",
    "plt.legend()\n",
    "\n",
    "# displays the plot\n",
    "plt.show()"
   ]
  },
  {
   "cell_type": "markdown",
   "metadata": {},
   "source": [
    "##### Interactive data\n",
    "\n",
    "To make the plot interactive, you can use a library like Plotly. Matplotlib also has an interactive mode, but it's more commonly used for static plots.\n",
    "\n",
    "This script creates an interactive plot where you can zoom, pan, hover over the data points to see their values, and toggle the visibility of the datasets.\n",
    "\n",
    "##### (Optional) What is a coefficient\n",
    "\n",
    "In mathematics, a coefficient is a numerical or constant quantity placed before and multiplying the variable in an algebraic expression. It is used to scale the variable or to adjust its units.\n",
    "\n",
    "For example, in the equation y = 5x + 3:\n",
    "\n",
    "5 is the coefficient of x. It scales the value of x by 5.\n",
    "The number 3 is not a coefficient in this case since it is not multiplying a variable; instead, it is called the constant term or y-intercept.\n",
    "In the context of a polynomial function or a linear regression line (like y = wx + b), the coefficient w represents the slope of the line, which describes the relationship between y and x. In other words, w tells you how much y changes for each unit change in x. The coefficient b in this case is the y-intercept, or the value of y when x is zero.\n",
    "\n",
    "In more complex equations or higher-degree polynomials (like y = ax^2 + bx + c), there can be more than one coefficient. Here, a and b are the coefficients of x^2 and x, respectively."
   ]
  },
  {
   "cell_type": "code",
   "execution_count": 29,
   "metadata": {},
   "outputs": [
    {
     "data": {
      "application/vnd.plotly.v1+json": {
       "config": {
        "plotlyServerURL": "https://plot.ly"
       },
       "data": [
        {
         "mode": "markers",
         "name": "Data",
         "type": "scatter",
         "x": [
          3232,
          3107,
          2153,
          1335,
          1263,
          2231,
          1533,
          777,
          2278,
          2328,
          3147,
          3148,
          2862,
          1205,
          3099,
          2635,
          2722,
          3397,
          2201,
          1037,
          3393,
          2620,
          3325,
          2440,
          2663,
          1476,
          1255,
          2546,
          2371,
          2996,
          3398,
          599,
          2508,
          1255,
          1297,
          1159,
          3458,
          923,
          3245,
          1139,
          1044,
          3091,
          1214,
          2792,
          651,
          3223,
          3058,
          3430,
          1707,
          2576,
          1302,
          2676,
          2676,
          2456,
          2425,
          1256,
          773,
          2883,
          888,
          2141,
          1966,
          3091,
          1388,
          757,
          1845,
          2605,
          2839,
          3327,
          930,
          591,
          2420,
          2946,
          3159,
          2089,
          3456,
          3181,
          584,
          2751,
          824,
          1274,
          1571,
          1139,
          2536,
          1655,
          1472,
          3416,
          1704,
          2524,
          1667,
          2184,
          3339,
          3267,
          3457,
          873,
          2377,
          1060,
          1829,
          2105,
          2717,
          2199
         ],
         "y": [
          379185.598109448,
          287803.87897980487,
          236569.6699234825,
          132101.44082651098,
          200099.49162411358,
          255439.00485693928,
          135083.2844032844,
          43761.13052726096,
          210118.60717595593,
          195762.6264669177,
          280948.90842187987,
          308160.78719399805,
          317190.0531661407,
          210058.42306049576,
          318450.02190828975,
          177216.43242063178,
          280232.9270174061,
          296750.7339684979,
          209778.95288372604,
          128121.32337263066,
          297383.4517233945,
          281058.1872217687,
          282954.83589212084,
          294894.0024858642,
          283379.36979720683,
          85055.6891971344,
          171762.53758751656,
          209360.6920915682,
          329284.57650139794,
          375875.3619331282,
          267523.2209191404,
          78758.03055541206,
          247272.13854081876,
          155707.98535581876,
          153307.4498758293,
          156895.8646525979,
          391175.98085534194,
          63008.8562670323,
          371377.9421118374,
          101169.59541074798,
          153079.93561405738,
          319464.1386217382,
          176382.09863347467,
          326194.8490399002,
          95419.4500370893,
          322388.04203571356,
          256291.99287448358,
          436619.7039262962,
          158646.32047700445,
          260267.24535096015,
          181740.7973834766,
          203750.55064870932,
          309485.9882572464,
          171094.42938174878,
          188989.24984179818,
          115143.56913176872,
          107528.61384150418,
          201147.08845385088,
          165011.34063828783,
          307278.76588940044,
          261168.89602778287,
          374134.8135751225,
          184710.14131929612,
          67759.97642126463,
          136296.8320579209,
          160961.05899998787,
          288386.5363450654,
          338442.6939772261,
          63709.240879015255,
          74038.60191809596,
          253112.9950869354,
          316359.14837806876,
          313612.5950450189,
          211394.92071187988,
          298823.4772264823,
          332469.38259338104,
          76421.36335570097,
          295507.4059648299,
          -14635.783801079015,
          199641.7855009046,
          166743.04316047672,
          92856.7589788856,
          340612.67304689676,
          147295.66121092605,
          214397.7209792466,
          300688.95193356543,
          174535.49678989558,
          187847.07723265115,
          133644.78840920754,
          159390.4492187042,
          343782.13190730714,
          347394.9988321279,
          405566.09903213807,
          181467.6928957655,
          273411.1910189837,
          220216.66772351722,
          261105.12898643123,
          241055.18549328545,
          227831.83391040313,
          138845.62517643964
         ]
        },
        {
         "mode": "lines",
         "name": "Fit: 129617.49x + 210910.81",
         "type": "scatter",
         "x": [
          3232,
          3107,
          2153,
          1335,
          1263,
          2231,
          1533,
          777,
          2278,
          2328,
          3147,
          3148,
          2862,
          1205,
          3099,
          2635,
          2722,
          3397,
          2201,
          1037,
          3393,
          2620,
          3325,
          2440,
          2663,
          1476,
          1255,
          2546,
          2371,
          2996,
          3398,
          599,
          2508,
          1255,
          1297,
          1159,
          3458,
          923,
          3245,
          1139,
          1044,
          3091,
          1214,
          2792,
          651,
          3223,
          3058,
          3430,
          1707,
          2576,
          1302,
          2676,
          2676,
          2456,
          2425,
          1256,
          773,
          2883,
          888,
          2141,
          1966,
          3091,
          1388,
          757,
          1845,
          2605,
          2839,
          3327,
          930,
          591,
          2420,
          2946,
          3159,
          2089,
          3456,
          3181,
          584,
          2751,
          824,
          1274,
          1571,
          1139,
          2536,
          1655,
          1472,
          3416,
          1704,
          2524,
          1667,
          2184,
          3339,
          3267,
          3457,
          873,
          2377,
          1060,
          1829,
          2105,
          2717,
          2199
         ],
         "y": [
          320143.0861738692,
          308868.07848480943,
          222817.21980190507,
          149033.5694846977,
          142539.16505579927,
          229852.82459987837,
          166893.18166416846,
          98701.93516073476,
          234092.22749096484,
          238602.23056658878,
          312476.0809453086,
          312566.2810068211,
          286769.06341425225,
          137307.56148807553,
          308146.4779927096,
          266293.64945091965,
          274141.05480250524,
          335026.09632342815,
          227146.822754504,
          122153.95115397916,
          334665.29607737827,
          264940.6485282325,
          328531.69189452974,
          248704.63745598635,
          268819.25117326906,
          161751.77815795716,
          141817.56456369944,
          258265.84397630906,
          242480.83321162532,
          298855.8716569243,
          335116.2963849407,
          82646.32421151361,
          254838.24163883488,
          141817.56456369944,
          145605.96714722353,
          133158.35865850153,
          340528.30007568933,
          111871.14414155661,
          321315.6869735315,
          131354.35742825194,
          122785.35158456651,
          307424.8775006098,
          138119.36204168783,
          280455.0591083788,
          87336.7274101625,
          319331.2856202569,
          304448.275470698,
          338002.69835334,
          182587.99236733967,
          260971.8458216834,
          146056.96745478595,
          269991.8519729313,
          269991.8519729313,
          250147.838440186,
          247351.63653329917,
          141907.76462521192,
          98341.13491468485,
          288663.26470601425,
          108714.14198861987,
          221734.8190637553,
          205949.8082990716,
          307424.8775006098,
          153814.17274485907,
          96897.9339304852,
          195035.6008560617,
          263587.6476055453,
          284694.46199946525,
          328712.0920175547,
          112502.54457214396,
          81924.72371941379,
          246900.63622573676,
          294345.8685813004,
          313558.4816834583,
          217044.41586510642,
          340347.89995266445,
          315542.8830367328,
          81293.32328882643,
          276756.8565863671,
          102941.33805182125,
          143531.36573243653,
          170320.7840016426,
          131354.35742825194,
          257363.8433611843,
          177897.58916869079,
          161390.97791190725,
          336739.89749216527,
          182317.39218280226,
          256281.44262303453,
          178979.98990684052,
          225613.42170879187,
          329794.49275570444,
          323300.08832680597,
          340438.1000141769,
          107361.1410659327,
          243022.03358070023,
          124228.55256876616,
          193592.39987186203,
          218487.61684930607,
          273690.0544949429,
          226966.42263147904
         ]
        }
       ],
       "layout": {
        "template": {
         "data": {
          "bar": [
           {
            "error_x": {
             "color": "#2a3f5f"
            },
            "error_y": {
             "color": "#2a3f5f"
            },
            "marker": {
             "line": {
              "color": "#E5ECF6",
              "width": 0.5
             },
             "pattern": {
              "fillmode": "overlay",
              "size": 10,
              "solidity": 0.2
             }
            },
            "type": "bar"
           }
          ],
          "barpolar": [
           {
            "marker": {
             "line": {
              "color": "#E5ECF6",
              "width": 0.5
             },
             "pattern": {
              "fillmode": "overlay",
              "size": 10,
              "solidity": 0.2
             }
            },
            "type": "barpolar"
           }
          ],
          "carpet": [
           {
            "aaxis": {
             "endlinecolor": "#2a3f5f",
             "gridcolor": "white",
             "linecolor": "white",
             "minorgridcolor": "white",
             "startlinecolor": "#2a3f5f"
            },
            "baxis": {
             "endlinecolor": "#2a3f5f",
             "gridcolor": "white",
             "linecolor": "white",
             "minorgridcolor": "white",
             "startlinecolor": "#2a3f5f"
            },
            "type": "carpet"
           }
          ],
          "choropleth": [
           {
            "colorbar": {
             "outlinewidth": 0,
             "ticks": ""
            },
            "type": "choropleth"
           }
          ],
          "contour": [
           {
            "colorbar": {
             "outlinewidth": 0,
             "ticks": ""
            },
            "colorscale": [
             [
              0,
              "#0d0887"
             ],
             [
              0.1111111111111111,
              "#46039f"
             ],
             [
              0.2222222222222222,
              "#7201a8"
             ],
             [
              0.3333333333333333,
              "#9c179e"
             ],
             [
              0.4444444444444444,
              "#bd3786"
             ],
             [
              0.5555555555555556,
              "#d8576b"
             ],
             [
              0.6666666666666666,
              "#ed7953"
             ],
             [
              0.7777777777777778,
              "#fb9f3a"
             ],
             [
              0.8888888888888888,
              "#fdca26"
             ],
             [
              1,
              "#f0f921"
             ]
            ],
            "type": "contour"
           }
          ],
          "contourcarpet": [
           {
            "colorbar": {
             "outlinewidth": 0,
             "ticks": ""
            },
            "type": "contourcarpet"
           }
          ],
          "heatmap": [
           {
            "colorbar": {
             "outlinewidth": 0,
             "ticks": ""
            },
            "colorscale": [
             [
              0,
              "#0d0887"
             ],
             [
              0.1111111111111111,
              "#46039f"
             ],
             [
              0.2222222222222222,
              "#7201a8"
             ],
             [
              0.3333333333333333,
              "#9c179e"
             ],
             [
              0.4444444444444444,
              "#bd3786"
             ],
             [
              0.5555555555555556,
              "#d8576b"
             ],
             [
              0.6666666666666666,
              "#ed7953"
             ],
             [
              0.7777777777777778,
              "#fb9f3a"
             ],
             [
              0.8888888888888888,
              "#fdca26"
             ],
             [
              1,
              "#f0f921"
             ]
            ],
            "type": "heatmap"
           }
          ],
          "heatmapgl": [
           {
            "colorbar": {
             "outlinewidth": 0,
             "ticks": ""
            },
            "colorscale": [
             [
              0,
              "#0d0887"
             ],
             [
              0.1111111111111111,
              "#46039f"
             ],
             [
              0.2222222222222222,
              "#7201a8"
             ],
             [
              0.3333333333333333,
              "#9c179e"
             ],
             [
              0.4444444444444444,
              "#bd3786"
             ],
             [
              0.5555555555555556,
              "#d8576b"
             ],
             [
              0.6666666666666666,
              "#ed7953"
             ],
             [
              0.7777777777777778,
              "#fb9f3a"
             ],
             [
              0.8888888888888888,
              "#fdca26"
             ],
             [
              1,
              "#f0f921"
             ]
            ],
            "type": "heatmapgl"
           }
          ],
          "histogram": [
           {
            "marker": {
             "pattern": {
              "fillmode": "overlay",
              "size": 10,
              "solidity": 0.2
             }
            },
            "type": "histogram"
           }
          ],
          "histogram2d": [
           {
            "colorbar": {
             "outlinewidth": 0,
             "ticks": ""
            },
            "colorscale": [
             [
              0,
              "#0d0887"
             ],
             [
              0.1111111111111111,
              "#46039f"
             ],
             [
              0.2222222222222222,
              "#7201a8"
             ],
             [
              0.3333333333333333,
              "#9c179e"
             ],
             [
              0.4444444444444444,
              "#bd3786"
             ],
             [
              0.5555555555555556,
              "#d8576b"
             ],
             [
              0.6666666666666666,
              "#ed7953"
             ],
             [
              0.7777777777777778,
              "#fb9f3a"
             ],
             [
              0.8888888888888888,
              "#fdca26"
             ],
             [
              1,
              "#f0f921"
             ]
            ],
            "type": "histogram2d"
           }
          ],
          "histogram2dcontour": [
           {
            "colorbar": {
             "outlinewidth": 0,
             "ticks": ""
            },
            "colorscale": [
             [
              0,
              "#0d0887"
             ],
             [
              0.1111111111111111,
              "#46039f"
             ],
             [
              0.2222222222222222,
              "#7201a8"
             ],
             [
              0.3333333333333333,
              "#9c179e"
             ],
             [
              0.4444444444444444,
              "#bd3786"
             ],
             [
              0.5555555555555556,
              "#d8576b"
             ],
             [
              0.6666666666666666,
              "#ed7953"
             ],
             [
              0.7777777777777778,
              "#fb9f3a"
             ],
             [
              0.8888888888888888,
              "#fdca26"
             ],
             [
              1,
              "#f0f921"
             ]
            ],
            "type": "histogram2dcontour"
           }
          ],
          "mesh3d": [
           {
            "colorbar": {
             "outlinewidth": 0,
             "ticks": ""
            },
            "type": "mesh3d"
           }
          ],
          "parcoords": [
           {
            "line": {
             "colorbar": {
              "outlinewidth": 0,
              "ticks": ""
             }
            },
            "type": "parcoords"
           }
          ],
          "pie": [
           {
            "automargin": true,
            "type": "pie"
           }
          ],
          "scatter": [
           {
            "fillpattern": {
             "fillmode": "overlay",
             "size": 10,
             "solidity": 0.2
            },
            "type": "scatter"
           }
          ],
          "scatter3d": [
           {
            "line": {
             "colorbar": {
              "outlinewidth": 0,
              "ticks": ""
             }
            },
            "marker": {
             "colorbar": {
              "outlinewidth": 0,
              "ticks": ""
             }
            },
            "type": "scatter3d"
           }
          ],
          "scattercarpet": [
           {
            "marker": {
             "colorbar": {
              "outlinewidth": 0,
              "ticks": ""
             }
            },
            "type": "scattercarpet"
           }
          ],
          "scattergeo": [
           {
            "marker": {
             "colorbar": {
              "outlinewidth": 0,
              "ticks": ""
             }
            },
            "type": "scattergeo"
           }
          ],
          "scattergl": [
           {
            "marker": {
             "colorbar": {
              "outlinewidth": 0,
              "ticks": ""
             }
            },
            "type": "scattergl"
           }
          ],
          "scattermapbox": [
           {
            "marker": {
             "colorbar": {
              "outlinewidth": 0,
              "ticks": ""
             }
            },
            "type": "scattermapbox"
           }
          ],
          "scatterpolar": [
           {
            "marker": {
             "colorbar": {
              "outlinewidth": 0,
              "ticks": ""
             }
            },
            "type": "scatterpolar"
           }
          ],
          "scatterpolargl": [
           {
            "marker": {
             "colorbar": {
              "outlinewidth": 0,
              "ticks": ""
             }
            },
            "type": "scatterpolargl"
           }
          ],
          "scatterternary": [
           {
            "marker": {
             "colorbar": {
              "outlinewidth": 0,
              "ticks": ""
             }
            },
            "type": "scatterternary"
           }
          ],
          "surface": [
           {
            "colorbar": {
             "outlinewidth": 0,
             "ticks": ""
            },
            "colorscale": [
             [
              0,
              "#0d0887"
             ],
             [
              0.1111111111111111,
              "#46039f"
             ],
             [
              0.2222222222222222,
              "#7201a8"
             ],
             [
              0.3333333333333333,
              "#9c179e"
             ],
             [
              0.4444444444444444,
              "#bd3786"
             ],
             [
              0.5555555555555556,
              "#d8576b"
             ],
             [
              0.6666666666666666,
              "#ed7953"
             ],
             [
              0.7777777777777778,
              "#fb9f3a"
             ],
             [
              0.8888888888888888,
              "#fdca26"
             ],
             [
              1,
              "#f0f921"
             ]
            ],
            "type": "surface"
           }
          ],
          "table": [
           {
            "cells": {
             "fill": {
              "color": "#EBF0F8"
             },
             "line": {
              "color": "white"
             }
            },
            "header": {
             "fill": {
              "color": "#C8D4E3"
             },
             "line": {
              "color": "white"
             }
            },
            "type": "table"
           }
          ]
         },
         "layout": {
          "annotationdefaults": {
           "arrowcolor": "#2a3f5f",
           "arrowhead": 0,
           "arrowwidth": 1
          },
          "autotypenumbers": "strict",
          "coloraxis": {
           "colorbar": {
            "outlinewidth": 0,
            "ticks": ""
           }
          },
          "colorscale": {
           "diverging": [
            [
             0,
             "#8e0152"
            ],
            [
             0.1,
             "#c51b7d"
            ],
            [
             0.2,
             "#de77ae"
            ],
            [
             0.3,
             "#f1b6da"
            ],
            [
             0.4,
             "#fde0ef"
            ],
            [
             0.5,
             "#f7f7f7"
            ],
            [
             0.6,
             "#e6f5d0"
            ],
            [
             0.7,
             "#b8e186"
            ],
            [
             0.8,
             "#7fbc41"
            ],
            [
             0.9,
             "#4d9221"
            ],
            [
             1,
             "#276419"
            ]
           ],
           "sequential": [
            [
             0,
             "#0d0887"
            ],
            [
             0.1111111111111111,
             "#46039f"
            ],
            [
             0.2222222222222222,
             "#7201a8"
            ],
            [
             0.3333333333333333,
             "#9c179e"
            ],
            [
             0.4444444444444444,
             "#bd3786"
            ],
            [
             0.5555555555555556,
             "#d8576b"
            ],
            [
             0.6666666666666666,
             "#ed7953"
            ],
            [
             0.7777777777777778,
             "#fb9f3a"
            ],
            [
             0.8888888888888888,
             "#fdca26"
            ],
            [
             1,
             "#f0f921"
            ]
           ],
           "sequentialminus": [
            [
             0,
             "#0d0887"
            ],
            [
             0.1111111111111111,
             "#46039f"
            ],
            [
             0.2222222222222222,
             "#7201a8"
            ],
            [
             0.3333333333333333,
             "#9c179e"
            ],
            [
             0.4444444444444444,
             "#bd3786"
            ],
            [
             0.5555555555555556,
             "#d8576b"
            ],
            [
             0.6666666666666666,
             "#ed7953"
            ],
            [
             0.7777777777777778,
             "#fb9f3a"
            ],
            [
             0.8888888888888888,
             "#fdca26"
            ],
            [
             1,
             "#f0f921"
            ]
           ]
          },
          "colorway": [
           "#636efa",
           "#EF553B",
           "#00cc96",
           "#ab63fa",
           "#FFA15A",
           "#19d3f3",
           "#FF6692",
           "#B6E880",
           "#FF97FF",
           "#FECB52"
          ],
          "font": {
           "color": "#2a3f5f"
          },
          "geo": {
           "bgcolor": "white",
           "lakecolor": "white",
           "landcolor": "#E5ECF6",
           "showlakes": true,
           "showland": true,
           "subunitcolor": "white"
          },
          "hoverlabel": {
           "align": "left"
          },
          "hovermode": "closest",
          "mapbox": {
           "style": "light"
          },
          "paper_bgcolor": "white",
          "plot_bgcolor": "#E5ECF6",
          "polar": {
           "angularaxis": {
            "gridcolor": "white",
            "linecolor": "white",
            "ticks": ""
           },
           "bgcolor": "#E5ECF6",
           "radialaxis": {
            "gridcolor": "white",
            "linecolor": "white",
            "ticks": ""
           }
          },
          "scene": {
           "xaxis": {
            "backgroundcolor": "#E5ECF6",
            "gridcolor": "white",
            "gridwidth": 2,
            "linecolor": "white",
            "showbackground": true,
            "ticks": "",
            "zerolinecolor": "white"
           },
           "yaxis": {
            "backgroundcolor": "#E5ECF6",
            "gridcolor": "white",
            "gridwidth": 2,
            "linecolor": "white",
            "showbackground": true,
            "ticks": "",
            "zerolinecolor": "white"
           },
           "zaxis": {
            "backgroundcolor": "#E5ECF6",
            "gridcolor": "white",
            "gridwidth": 2,
            "linecolor": "white",
            "showbackground": true,
            "ticks": "",
            "zerolinecolor": "white"
           }
          },
          "shapedefaults": {
           "line": {
            "color": "#2a3f5f"
           }
          },
          "ternary": {
           "aaxis": {
            "gridcolor": "white",
            "linecolor": "white",
            "ticks": ""
           },
           "baxis": {
            "gridcolor": "white",
            "linecolor": "white",
            "ticks": ""
           },
           "bgcolor": "#E5ECF6",
           "caxis": {
            "gridcolor": "white",
            "linecolor": "white",
            "ticks": ""
           }
          },
          "title": {
           "x": 0.05
          },
          "xaxis": {
           "automargin": true,
           "gridcolor": "white",
           "linecolor": "white",
           "ticks": "",
           "title": {
            "standoff": 15
           },
           "zerolinecolor": "white",
           "zerolinewidth": 2
          },
          "yaxis": {
           "automargin": true,
           "gridcolor": "white",
           "linecolor": "white",
           "ticks": "",
           "title": {
            "standoff": 15
           },
           "zerolinecolor": "white",
           "zerolinewidth": 2
          }
         }
        },
        "title": {
         "text": "House Size vs House Price"
        },
        "xaxis": {
         "title": {
          "text": "House Size (sq ft)"
         }
        },
        "yaxis": {
         "title": {
          "text": "House Price (USD)"
         }
        }
       }
      }
     },
     "metadata": {},
     "output_type": "display_data"
    }
   ],
   "source": [
    "import numpy as np\n",
    "import plotly.graph_objects as go\n",
    "\n",
    "# generate random house sizes and prices\n",
    "np.random.seed(0)  # for reproducibility\n",
    "house_size = np.random.randint(500, 3500, 100)\n",
    "house_price = house_size * 100 + np.random.normal(0, 50000, 100)  # linear relationship with some noise\n",
    "\n",
    "# fit a line (using Polynomial API)\n",
    "p = np.polynomial.Polynomial.fit(house_size, house_price, 1)  # fit a 1st degree polynomial\n",
    "\n",
    "\n",
    "# The syntax [::-1] in Python is used for reversing the order of an array, list, string, or other sequence type.\n",
    "# \n",
    "# The : character selects all elements in the sequence.\n",
    "# The -1 after the :: is the step. It means go backwards by 1 step.\n",
    "\n",
    "# So together, [::-1] means create a new sequence that starts from the end (the last element), \n",
    "# ends at the start (the first element), and steps backwards by 1 at each step, effectively reversing the sequence.\n",
    "\n",
    "w, b = p.coef[::-1]  # the coefficients are returned in reverse order, i.e., [b, w]\n",
    "\n",
    "print(w,b)\n",
    "\n",
    "# create scatter plot\n",
    "scatter = go.Scatter(x=house_size, y=house_price, mode='markers', name='Data')\n",
    "\n",
    "# create line plot\n",
    "line = go.Scatter(x=house_size, y=p(house_size), mode='lines', name='Fit: {:.2f}x + {:.2f}'.format(w, b))\n",
    "\n",
    "# create layout\n",
    "layout = go.Layout(title='House Size vs House Price', xaxis=dict(title='House Size (sq ft)'), yaxis=dict(title='House Price (USD)'))\n",
    "\n",
    "# create figure and add traces\n",
    "fig = go.Figure(data=[scatter, line], layout=layout)\n",
    "\n",
    "# show figure\n",
    "fig.show()"
   ]
  }
 ],
 "metadata": {
  "kernelspec": {
   "display_name": "Python 3",
   "language": "python",
   "name": "python3"
  },
  "language_info": {
   "codemirror_mode": {
    "name": "ipython",
    "version": 3
   },
   "file_extension": ".py",
   "mimetype": "text/x-python",
   "name": "python",
   "nbconvert_exporter": "python",
   "pygments_lexer": "ipython3",
   "version": "3.11.6"
  }
 },
 "nbformat": 4,
 "nbformat_minor": 2
}
