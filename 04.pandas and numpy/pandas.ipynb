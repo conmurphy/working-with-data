{
 "cells": [
  {
   "attachments": {},
   "cell_type": "markdown",
   "metadata": {},
   "source": [
    "# Working with Data - Pandas"
   ]
  },
  {
   "cell_type": "markdown",
   "metadata": {},
   "source": [
    "##### Import the required libraries"
   ]
  },
  {
   "cell_type": "code",
   "execution_count": null,
   "metadata": {},
   "outputs": [],
   "source": [
    "import json\n",
    "import openpyxl\n",
    "import pandas"
   ]
  },
  {
   "cell_type": "markdown",
   "metadata": {},
   "source": [
    "##### Read in sample data from an Excel file"
   ]
  },
  {
   "cell_type": "code",
   "execution_count": null,
   "metadata": {},
   "outputs": [],
   "source": [
    "RAW_DATA = pandas.read_excel(\"sample_data.xlsb\", sheet_name='Sheet1', header=0, engine='pyxlsb')"
   ]
  },
  {
   "cell_type": "markdown",
   "metadata": {},
   "source": [
    "##### Print the first 10 rows"
   ]
  },
  {
   "cell_type": "code",
   "execution_count": null,
   "metadata": {},
   "outputs": [],
   "source": [
    "RAW_DATA.head(10)"
   ]
  },
  {
   "cell_type": "markdown",
   "metadata": {},
   "source": [
    "##### Print the column names"
   ]
  },
  {
   "cell_type": "code",
   "execution_count": null,
   "metadata": {},
   "outputs": [],
   "source": [
    "RAW_DATA.info()"
   ]
  },
  {
   "cell_type": "markdown",
   "metadata": {},
   "source": [
    "##### Select a subset of columns and filter to leave only the required cities"
   ]
  },
  {
   "cell_type": "code",
   "execution_count": null,
   "metadata": {},
   "outputs": [],
   "source": [
    "STILL_RAW_DATA = RAW_DATA[['Customer ID','Customer Name','City','Order Year','Order Date','Order ID','Store ID','Product BU','Product Type','Product','Quantity','Item Cost','Total Cost']]\n",
    "\n",
    "LIST_OF_CITIES_TO_KEEP = ['Vaughnmouth','North Margaretbury','Melanieland','Andreamouth','Aprilfort','South Heatherborough','West Crystal','Lake Andreabury','Buchanantown','Stephenmouth','Johnberg','East Maryberg','East Kellyview','Mcdanielstad','Francisburgh','Bensonborough','South Jason','North Jeffreyborough','Gonzalezmouth','Port Joshua','New Anthony','Lake Matthew','Carrilloborough','Cunninghambury','Williamshire','Jennifershire','Caseyland','Emilyland','Port Amberberg','Kathleenside','Lewisside','South Michaelland','North Sarahborough','Mariaburgh','West Amanda','Kathleenbury','Michaelshire','Archerview','Randolphtown','Grantfort','Port Lisa','South Scottville','East Edward','West Judithland','Port Gabriel','Grossview','Port Michaelside','Wardbury','North Brian','North Amy','Port Joseph','South Debrafort','Port Ericafort','Martinton','West Nicole','Lesliefurt','South Michaelville','East Ericport','Deanmouth','Port Jade','Lake Andrewmouth','Stephanieland','Zacharyshire','Sheilaville','Robinsonbury','Lake Chad','Lake Jessica','Lindsayfurt','Port Samantha','Port Michele','West Paul','Kimberlychester','Elizabethburgh','Jasonville','Webbhaven','Kristenchester','Taylorfort','Johnborough','West Sean','East Brian','South Connortown','Millermouth','Morenoside','Maryhaven','West Wesley','Martinfurt','Alvaradomouth','East Annton','Shepardhaven','Douglasmouth','Phillipland','Juliaside','East Holly','Carterport','New Lindsey','North Jacqueline','North Tyler','East Roger','Marshallfort','Pattersonmouth']\n",
    "\n",
    "filtered_data = STILL_RAW_DATA.loc[STILL_RAW_DATA['City'].isin(LIST_OF_CITIES_TO_KEEP)]"
   ]
  },
  {
   "cell_type": "markdown",
   "metadata": {},
   "source": [
    "##### Show the columns of the new dataframe "
   ]
  },
  {
   "cell_type": "code",
   "execution_count": null,
   "metadata": {},
   "outputs": [],
   "source": [
    "filtered_data.info()"
   ]
  },
  {
   "cell_type": "markdown",
   "metadata": {},
   "source": [
    "##### Print 10 rows"
   ]
  },
  {
   "cell_type": "code",
   "execution_count": null,
   "metadata": {},
   "outputs": [],
   "source": [
    "filtered_data.head(10)"
   ]
  },
  {
   "cell_type": "markdown",
   "metadata": {},
   "source": [
    "##### Group some of the columns and sum the quantities"
   ]
  },
  {
   "cell_type": "code",
   "execution_count": null,
   "metadata": {},
   "outputs": [],
   "source": [
    "cleaned_data = filtered_data.groupby(['City','Order Year','Product'])[\"Quantity\"].sum().reset_index()\n",
    "cleaned_data.info()\n",
    "cleaned_data.head(10)"
   ]
  },
  {
   "cell_type": "markdown",
   "metadata": {},
   "source": [
    "##### Export the results to Excel"
   ]
  },
  {
   "cell_type": "code",
   "execution_count": null,
   "metadata": {},
   "outputs": [],
   "source": [
    "cleaned_data.to_excel(r'tmp_subset_of_data.xlsx', index = False)"
   ]
  },
  {
   "cell_type": "markdown",
   "metadata": {},
   "source": [
    "##### Cleanup by removing the Excel file"
   ]
  },
  {
   "cell_type": "code",
   "execution_count": null,
   "metadata": {},
   "outputs": [],
   "source": [
    "import os\n",
    "if os.path.exists(\"tmp_subset_of_data.xlsx\"):\n",
    "    os.remove(\"tmp_subset_of_data.xlsx\")"
   ]
  },
  {
   "cell_type": "markdown",
   "metadata": {},
   "source": [
    "##### Pandas and Nested JSON"
   ]
  },
  {
   "cell_type": "code",
   "execution_count": 31,
   "metadata": {},
   "outputs": [
    {
     "name": "stdout",
     "output_type": "stream",
     "text": [
      "<class 'pandas.core.frame.DataFrame'>\n",
      "RangeIndex: 95 entries, 0 to 94\n",
      "Data columns (total 16 columns):\n",
      " #   Column           Non-Null Count  Dtype  \n",
      "---  ------           --------------  -----  \n",
      " 0   interface        95 non-null     object \n",
      " 1   state            84 non-null     object \n",
      " 2   ip_addr          1 non-null      object \n",
      " 3   speed            70 non-null     object \n",
      " 4   mtu              2 non-null      float64\n",
      " 5   vlan             69 non-null     object \n",
      " 6   type             69 non-null     object \n",
      " 7   portmode         69 non-null     object \n",
      " 8   state_rsn_desc   69 non-null     object \n",
      " 9   ratemode         69 non-null     object \n",
      " 10  portchan         4 non-null      float64\n",
      " 11  proto            4 non-null      object \n",
      " 12  desc             5 non-null      object \n",
      " 13  svi_admin_state  11 non-null     object \n",
      " 14  svi_rsn_desc     10 non-null     object \n",
      " 15  state_rsn        1 non-null      object \n",
      "dtypes: float64(2), object(14)\n",
      "memory usage: 12.0+ KB\n",
      "None\n",
      "     interface state      ip_addr speed     mtu vlan type portmode  \\\n",
      "0        mgmt0    up  10.10.20.95  1000  1500.0  NaN  NaN      NaN   \n",
      "1  Ethernet1/1  down          NaN  auto     NaN   --  eth   routed   \n",
      "2  Ethernet1/2    up          NaN  1000     NaN    1  eth    trunk   \n",
      "3  Ethernet1/3    up          NaN  1000     NaN    1  eth   access   \n",
      "4  Ethernet1/4    up          NaN  1000     NaN    1  eth   access   \n",
      "5  Ethernet1/5  down          NaN  auto     NaN   --  eth   routed   \n",
      "6  Ethernet1/6  down          NaN  auto     NaN    1  eth    trunk   \n",
      "7  Ethernet1/7  down          NaN  auto     NaN    1  eth   access   \n",
      "8  Ethernet1/8  down          NaN  auto     NaN    1  eth   access   \n",
      "9  Ethernet1/9  down          NaN  auto     NaN    1  eth   access   \n",
      "\n",
      "            state_rsn_desc ratemode  portchan proto desc svi_admin_state  \\\n",
      "0                      NaN      NaN       NaN   NaN  NaN             NaN   \n",
      "1  suspended(no LACP PDUs)        D    1000.0   NaN  NaN             NaN   \n",
      "2                     none        D      11.0   NaN  NaN             NaN   \n",
      "3                     none        D       NaN   NaN  NaN             NaN   \n",
      "4                     none        D       NaN   NaN  NaN             NaN   \n",
      "5    Administratively down        D       NaN   NaN  NaN             NaN   \n",
      "6       Link not connected        D       NaN   NaN  NaN             NaN   \n",
      "7       Link not connected        D       NaN   NaN  NaN             NaN   \n",
      "8       Link not connected        D       NaN   NaN  NaN             NaN   \n",
      "9       Link not connected        D       NaN   NaN  NaN             NaN   \n",
      "\n",
      "  svi_rsn_desc state_rsn  \n",
      "0          NaN       NaN  \n",
      "1          NaN       NaN  \n",
      "2          NaN       NaN  \n",
      "3          NaN       NaN  \n",
      "4          NaN       NaN  \n",
      "5          NaN       NaN  \n",
      "6          NaN       NaN  \n",
      "7          NaN       NaN  \n",
      "8          NaN       NaN  \n",
      "9          NaN       NaN  \n"
     ]
    }
   ],
   "source": [
    "import requests\n",
    "import json\n",
    "import pandas\n",
    "\n",
    "from requests.packages.urllib3.exceptions import InsecureRequestWarning\n",
    "requests.packages.urllib3.disable_warnings(InsecureRequestWarning)\n",
    "\n",
    "headers = {\"content-type\": \"application/json\"}\n",
    "\n",
    "payload={\n",
    "  \"ins_api\":{\n",
    "    \"version\": \"1.0\",\n",
    "    \"type\": \"cli_show\",\n",
    "    \"chunk\": \"0\",\n",
    "    \"sid\": \"1\",\n",
    "    \"input\": \"show interface brief\",\n",
    "    \"output_format\": \"json\"\n",
    "    }\n",
    "}\n",
    "\n",
    "url = \"https://sbx-nxos-mgmt.cisco.com/ins\"\n",
    "response = requests.post(url, data=json.dumps(payload), headers=headers,auth=(\"admin\",\"Admin_1234!\"), verify=False).json()\n",
    "\n",
    "interfaces = pandas.json_normalize(response[\"ins_api\"][\"outputs\"][\"output\"][\"body\"][\"TABLE_interface\"][\"ROW_interface\"])\n",
    "\n",
    "print(interfaces.info())\n",
    "print(interfaces.head(10))"
   ]
  },
  {
   "cell_type": "code",
   "execution_count": 34,
   "metadata": {},
   "outputs": [
    {
     "name": "stdout",
     "output_type": "stream",
     "text": [
      "<class 'pandas.core.frame.DataFrame'>\n",
      "RangeIndex: 20 entries, 0 to 19\n",
      "Data columns (total 8 columns):\n",
      " #   Column        Non-Null Count  Dtype \n",
      "---  ------        --------------  ----- \n",
      " 0   vrf-name-out  20 non-null     object\n",
      " 1   intf-name     20 non-null     object\n",
      " 2   proto-state   20 non-null     object\n",
      " 3   link-state    20 non-null     object\n",
      " 4   admin-state   20 non-null     object\n",
      " 5   iod           20 non-null     int64 \n",
      " 6   prefix        20 non-null     object\n",
      " 7   ip-disabled   20 non-null     object\n",
      "dtypes: int64(1), object(7)\n",
      "memory usage: 1.4+ KB\n",
      "None\n",
      "  vrf-name-out intf-name proto-state link-state admin-state  iod  \\\n",
      "0      default   Vlan101        down       down        down    8   \n",
      "1      default   Vlan102        down       down        down    7   \n",
      "2      default   Vlan103        down       down        down    6   \n",
      "3      default   Vlan104        down       down        down    5   \n",
      "4      default   Vlan105        down       down        down    4   \n",
      "5      default   Vlan110          up         up          up    3   \n",
      "6      default   Vlan120        down       down          up   89   \n",
      "7      default       Lo1          up         up          up   15   \n",
      "8      default       Lo2          up         up          up   16   \n",
      "9      default      Lo10          up         up          up   17   \n",
      "\n",
      "         prefix ip-disabled  \n",
      "0  172.16.101.1       FALSE  \n",
      "1  172.16.102.1       FALSE  \n",
      "2  172.16.103.1       FALSE  \n",
      "3  172.16.104.1       FALSE  \n",
      "4  172.16.105.1       FALSE  \n",
      "5   192.168.0.1       FALSE  \n",
      "6     10.20.3.1       FALSE  \n",
      "7    172.16.0.1       FALSE  \n",
      "8       2.2.2.2       FALSE  \n",
      "9   10.10.10.10       FALSE  \n"
     ]
    },
    {
     "data": {
      "text/html": [
       "<div>\n",
       "<style scoped>\n",
       "    .dataframe tbody tr th:only-of-type {\n",
       "        vertical-align: middle;\n",
       "    }\n",
       "\n",
       "    .dataframe tbody tr th {\n",
       "        vertical-align: top;\n",
       "    }\n",
       "\n",
       "    .dataframe thead th {\n",
       "        text-align: right;\n",
       "    }\n",
       "</style>\n",
       "<table border=\"1\" class=\"dataframe\">\n",
       "  <thead>\n",
       "    <tr style=\"text-align: right;\">\n",
       "      <th></th>\n",
       "      <th>vrf-name-out</th>\n",
       "      <th>intf-name</th>\n",
       "      <th>proto-state</th>\n",
       "      <th>link-state</th>\n",
       "      <th>admin-state</th>\n",
       "      <th>iod</th>\n",
       "      <th>prefix</th>\n",
       "      <th>ip-disabled</th>\n",
       "    </tr>\n",
       "  </thead>\n",
       "  <tbody>\n",
       "    <tr>\n",
       "      <th>0</th>\n",
       "      <td>default</td>\n",
       "      <td>Vlan101</td>\n",
       "      <td>down</td>\n",
       "      <td>down</td>\n",
       "      <td>down</td>\n",
       "      <td>8</td>\n",
       "      <td>172.16.101.1</td>\n",
       "      <td>FALSE</td>\n",
       "    </tr>\n",
       "    <tr>\n",
       "      <th>1</th>\n",
       "      <td>default</td>\n",
       "      <td>Vlan102</td>\n",
       "      <td>down</td>\n",
       "      <td>down</td>\n",
       "      <td>down</td>\n",
       "      <td>7</td>\n",
       "      <td>172.16.102.1</td>\n",
       "      <td>FALSE</td>\n",
       "    </tr>\n",
       "    <tr>\n",
       "      <th>2</th>\n",
       "      <td>default</td>\n",
       "      <td>Vlan103</td>\n",
       "      <td>down</td>\n",
       "      <td>down</td>\n",
       "      <td>down</td>\n",
       "      <td>6</td>\n",
       "      <td>172.16.103.1</td>\n",
       "      <td>FALSE</td>\n",
       "    </tr>\n",
       "    <tr>\n",
       "      <th>3</th>\n",
       "      <td>default</td>\n",
       "      <td>Vlan104</td>\n",
       "      <td>down</td>\n",
       "      <td>down</td>\n",
       "      <td>down</td>\n",
       "      <td>5</td>\n",
       "      <td>172.16.104.1</td>\n",
       "      <td>FALSE</td>\n",
       "    </tr>\n",
       "    <tr>\n",
       "      <th>4</th>\n",
       "      <td>default</td>\n",
       "      <td>Vlan105</td>\n",
       "      <td>down</td>\n",
       "      <td>down</td>\n",
       "      <td>down</td>\n",
       "      <td>4</td>\n",
       "      <td>172.16.105.1</td>\n",
       "      <td>FALSE</td>\n",
       "    </tr>\n",
       "  </tbody>\n",
       "</table>\n",
       "</div>"
      ],
      "text/plain": [
       "  vrf-name-out intf-name proto-state link-state admin-state  iod  \\\n",
       "0      default   Vlan101        down       down        down    8   \n",
       "1      default   Vlan102        down       down        down    7   \n",
       "2      default   Vlan103        down       down        down    6   \n",
       "3      default   Vlan104        down       down        down    5   \n",
       "4      default   Vlan105        down       down        down    4   \n",
       "\n",
       "         prefix ip-disabled  \n",
       "0  172.16.101.1       FALSE  \n",
       "1  172.16.102.1       FALSE  \n",
       "2  172.16.103.1       FALSE  \n",
       "3  172.16.104.1       FALSE  \n",
       "4  172.16.105.1       FALSE  "
      ]
     },
     "execution_count": 34,
     "metadata": {},
     "output_type": "execute_result"
    }
   ],
   "source": [
    "import requests\n",
    "import json\n",
    "import pandas\n",
    "\n",
    "from requests.packages.urllib3.exceptions import InsecureRequestWarning\n",
    "requests.packages.urllib3.disable_warnings(InsecureRequestWarning)\n",
    "\n",
    "headers = {\"content-type\": \"application/json\"}\n",
    "\n",
    "payload={\n",
    "  \"ins_api\":{\n",
    "    \"version\": \"1.0\",\n",
    "    \"type\": \"cli_show\",\n",
    "    \"chunk\": \"0\",\n",
    "    \"sid\": \"1\",\n",
    "    \"input\": \"show ip interface eth1/1\",\n",
    "    \"output_format\": \"json\"\n",
    "    }\n",
    "}\n",
    "\n",
    "url = \"https://sbx-nxos-mgmt.cisco.com/ins\"\n",
    "response = requests.post(url, data=json.dumps(payload), headers=headers,auth=(\"admin\",\"Admin_1234!\"), verify=False).json()\n",
    "\n",
    "interface_eth_1_1 = pandas.json_normalize(response[\"ins_api\"][\"outputs\"][\"output\"][\"body\"][\"TABLE_intf\"][\"ROW_intf\"])\n",
    "\n",
    "print(interface_eth_1_1.info())\n",
    "print(interface_eth_1_1.head(10))\n",
    "\n",
    "# When using Jupyter you can also remove the print statement and just write the variable you wish to print\n",
    "interface_eth_1_1.head(10)"
   ]
  }
 ],
 "metadata": {
  "kernelspec": {
   "display_name": "Python 3",
   "language": "python",
   "name": "python3"
  },
  "language_info": {
   "codemirror_mode": {
    "name": "ipython",
    "version": 3
   },
   "file_extension": ".py",
   "mimetype": "text/x-python",
   "name": "python",
   "nbconvert_exporter": "python",
   "pygments_lexer": "ipython3",
   "version": "3.11.4"
  },
  "orig_nbformat": 4
 },
 "nbformat": 4,
 "nbformat_minor": 2
}
