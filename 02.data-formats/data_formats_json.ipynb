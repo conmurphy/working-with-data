{
 "cells": [
  {
   "attachments": {},
   "cell_type": "markdown",
   "metadata": {
    "slideshow": {
     "slide_type": "slide"
    }
   },
   "source": [
    "# Working with Data - JSON"
   ]
  },
  {
   "attachments": {},
   "cell_type": "markdown",
   "metadata": {
    "slideshow": {
     "slide_type": "subslide"
    }
   },
   "source": [
    "##### Table of Contents"
   ]
  },
  {
   "attachments": {},
   "cell_type": "markdown",
   "metadata": {
    "slideshow": {
     "slide_type": "subslide"
    }
   },
   "source": [
    "* [1. JSON Structure](#json-structure)\n",
    "* [2. Import Required Libraries](#import-required-libraries)\n",
    "* [3. Retrieve Some Content](#retrieve-some-content)\n",
    "* [4. Store as JSON](#store-as-json-in-the-users-variable)\n",
    "* [5. Format the Output](#format-the-output)\n",
    "* [6. Accessing Properties - Incorrectly](#can-we-access-the-names-of-the-users)\n",
    "* [7. What Does The Error Mean?](#what-does-the-error-mean-and-how-do-we-avoid-it)\n",
    "* [8. Iterating Over The Users](#iterating-over-the-list-of-users)\n",
    "* [9. Printing Individual Properties](#now-we-can-print-the-name-of-a-users)\n",
    "* [10. Viewing The Index ](#what-if-we-also-want-to-see-the-index)\n",
    "* [11. Adding a New User](#adding-a-new-user)\n",
    "* [12. Updating an Existing User](#updating-an-existing-user)\n",
    "* [13. Adding Another New User](#adding-another-new-user---which-way-do-you-prefer)\n",
    "* [14. Summary](#summary)"
   ]
  },
  {
   "attachments": {},
   "cell_type": "markdown",
   "metadata": {
    "slideshow": {
     "slide_type": "slide"
    }
   },
   "source": [
    "##### JSON Structure"
   ]
  },
  {
   "attachments": {},
   "cell_type": "markdown",
   "metadata": {
    "slideshow": {
     "slide_type": "subslide"
    }
   },
   "source": [
    "`{}`  Curly Braces\n",
    "  - `{\"key\":\"value\"}`\n",
    "  - Represent key-value pairs and are separated by a comma\n",
    "  - In Python this would be known as a `Dictionary`\n",
    "  - It's possible to also have nested key-value pairs\n",
    "  \n",
    "    Example A\n",
    "    ```JSON\n",
    "        {\"name\":\"apple\",\"type\":\"fruit\"}\n",
    "    ```\n",
    "\n",
    "    Example B\n",
    "    ```JSON\n",
    "        {\n",
    "            \"id\": 1,\n",
    "            \"name\": \"Leanne Graham\",\n",
    "            \"address\": {\n",
    "                \"city\": \"Gwenborough\",\n",
    "                \"street\": \"Kulas Light\",\n",
    "                \"zipcode\": \"92998-3874\",\n",
    "                \"geo\": {\n",
    "                    \"lat\": \"-37.3159\",\n",
    "                    \"lng\": \"81.1496\"\n",
    "                }\n",
    "            }\n",
    "        },\n",
    "    ```\n",
    "  - In Python you can retrieve a value in a dictionary by using the key\n",
    "    - `my_dictionary[\"name\"]`\n",
    "    - `my_dictionary[\"address\"][\"city\"]`\n",
    "\n",
    "<br>\n",
    "\n",
    "\n",
    "`[]`  Square brackets \n",
    "  - Hold lists or arrays\n",
    "  - In Python this would be known as a **List** \n",
    "  - It's possible to also have nested objects\n",
    "\n",
    "    Example A\n",
    "    ```JSON\n",
    "        [\"cat\",\"dog\",\"bird\"]\n",
    "    ```\n",
    "    Example B\n",
    "    ```JSON\n",
    "        \"favourite_foods\": [\n",
    "            {\n",
    "                \"name\": \"carrot\",\n",
    "                \"type\": \"vegetable\"\n",
    "            },\n",
    "            {\n",
    "                \"name\": \"cornflakes\",\n",
    "                \"type\": \"cereal\"\n",
    "            }\n",
    "        ]\n",
    "    ```\n",
    "\n",
    "  - In Python you can retrieve a value in a list by using the index\n",
    "    - `my_dictionary[0]`\n",
    "    - `my_dictionary[\"favourite_foods\"][1][\"name\"]`\n"
   ]
  },
  {
   "attachments": {},
   "cell_type": "markdown",
   "metadata": {},
   "source": [
    "##### Import required libraries"
   ]
  },
  {
   "cell_type": "code",
   "execution_count": null,
   "metadata": {},
   "outputs": [],
   "source": [
    "import requests\n",
    "import json"
   ]
  },
  {
   "attachments": {},
   "cell_type": "markdown",
   "metadata": {},
   "source": [
    "##### Retrieve some content"
   ]
  },
  {
   "cell_type": "code",
   "execution_count": null,
   "metadata": {},
   "outputs": [],
   "source": [
    "headers = {\"content-type\": \"application/json\"}\n",
    "requestUrl = \"https://jsonplaceholder.typicode.com/users\"\n",
    "response = requests.get(requestUrl,  headers=headers)"
   ]
  },
  {
   "attachments": {},
   "cell_type": "markdown",
   "metadata": {},
   "source": [
    "##### Store as JSON in the `users` variable"
   ]
  },
  {
   "cell_type": "code",
   "execution_count": null,
   "metadata": {},
   "outputs": [],
   "source": [
    "users = response.json()\n",
    "print(users)"
   ]
  },
  {
   "attachments": {},
   "cell_type": "markdown",
   "metadata": {},
   "source": [
    "##### Format the output"
   ]
  },
  {
   "cell_type": "code",
   "execution_count": null,
   "metadata": {},
   "outputs": [],
   "source": [
    "print(json.dumps(users,indent=2))"
   ]
  },
  {
   "attachments": {},
   "cell_type": "markdown",
   "metadata": {},
   "source": [
    "##### Can we access the names of the users?"
   ]
  },
  {
   "cell_type": "code",
   "execution_count": null,
   "metadata": {},
   "outputs": [],
   "source": [
    "print(type(users))\n",
    "print(users[\"name\"])\n"
   ]
  },
  {
   "attachments": {},
   "cell_type": "markdown",
   "metadata": {},
   "source": [
    "##### What does the error mean and how do we avoid it?"
   ]
  },
  {
   "cell_type": "code",
   "execution_count": null,
   "metadata": {},
   "outputs": [],
   "source": [
    "print(json.dumps(users[0],indent=2))\n",
    "print(users[0][\"name\"])"
   ]
  },
  {
   "attachments": {},
   "cell_type": "markdown",
   "metadata": {},
   "source": [
    "##### Now we can print the name of a users"
   ]
  },
  {
   "cell_type": "code",
   "execution_count": null,
   "metadata": {},
   "outputs": [],
   "source": [
    "for user in users:\n",
    "    print(user[\"name\"])"
   ]
  },
  {
   "attachments": {},
   "cell_type": "markdown",
   "metadata": {},
   "source": [
    "##### What if we also want to see the index?"
   ]
  },
  {
   "cell_type": "code",
   "execution_count": null,
   "metadata": {},
   "outputs": [],
   "source": [
    "for index,user in enumerate(users):\n",
    "    print(f\"User {index} is {user['name']}\")"
   ]
  },
  {
   "attachments": {},
   "cell_type": "markdown",
   "metadata": {},
   "source": [
    "##### Adding a new user"
   ]
  },
  {
   "cell_type": "code",
   "execution_count": null,
   "metadata": {},
   "outputs": [],
   "source": [
    "new_user = {}\n",
    "new_user[\"id\"] = 11\n",
    "new_user[\"name\"] = \"Anna\"\n",
    "new_user[\"username\"] = \"Anna\"\n",
    "new_user[\"email\"] = \"Anna@email.com\"\n",
    "new_user[\"address\"]={}\n",
    "new_user[\"address\"][\"street\"] = \"Fake st\"\n",
    "new_user[\"address\"][\"suite\"] = \"\"\n",
    "new_user[\"address\"][\"city\"] = \"Some City\"\n",
    "new_user[\"address\"][\"zipcode\"] = \"31428-2261\"\n",
    "new_user[\"address\"][\"geo\"] = {}\n",
    "new_user[\"address\"][\"geo\"][\"lat\"] = \"-38.2386\"\n",
    "new_user[\"address\"][\"geo\"][\"lat\"] =  \"57.2232\"\n",
    "new_user[\"phone\"] = \"024-648-3804\"\n",
    "new_user[\"website\"] = \"website.com\"\n",
    "new_user[\"company\"] = {}\n",
    "new_user[\"company\"][\"name\"] = \"ACME\"\n",
    "new_user[\"company\"][\"catchphrase\"] = \"ACME\"\n",
    "new_user[\"company\"][\"bs\"] = \"ACME\""
   ]
  },
  {
   "cell_type": "code",
   "execution_count": null,
   "metadata": {},
   "outputs": [],
   "source": [
    "users.append(new_user)\n",
    "\n",
    "print(json.dumps(users[10],indent=2))"
   ]
  },
  {
   "attachments": {},
   "cell_type": "markdown",
   "metadata": {},
   "source": [
    "##### Updating an existing user"
   ]
  },
  {
   "cell_type": "code",
   "execution_count": null,
   "metadata": {},
   "outputs": [],
   "source": [
    "print(\"#### OLD ####\")\n",
    "print(json.dumps(users[0],indent=2))\n",
    "\n",
    "print(\"#### UPDATED ####\")\n",
    "users[0][\"username\"] = \"an_updated_username\"\n",
    "\n",
    "print(json.dumps(users[0],indent=2))"
   ]
  },
  {
   "attachments": {},
   "cell_type": "markdown",
   "metadata": {},
   "source": [
    "##### Adding another new user"
   ]
  },
  {
   "cell_type": "code",
   "execution_count": null,
   "metadata": {},
   "outputs": [],
   "source": [
    "### PREVIOUS METHOD ###\n",
    "# new_user = {}\n",
    "# new_user[\"id\"] = 11\n",
    "# new_user[\"name\"] = \"Anna\"\n",
    "# new_user[\"username\"] = \"Anna\"\n",
    "# new_user[\"email\"] = \"Anna@email.com\"\n",
    "# new_user[\"address\"]={}\n",
    "# new_user[\"address\"][\"street\"] = \"Fake st\"\n",
    "# new_user[\"address\"][\"suite\"] = \"\"\n",
    "# new_user[\"address\"][\"city\"] = \"Some City\"\n",
    "# new_user[\"address\"][\"zipcode\"] = \"31428-2261\"\n",
    "# new_user[\"address\"][\"geo\"] = {}\n",
    "# new_user[\"address\"][\"geo\"][\"lat\"] = \"-38.2386\"\n",
    "# new_user[\"address\"][\"geo\"][\"lat\"] =  \"57.2232\"\n",
    "# new_user[\"phone\"] = \"024-648-3804\"\n",
    "# new_user[\"website\"] = \"website.com\"\n",
    "# new_user[\"company\"] = {}\n",
    "# new_user[\"company\"][\"name\"] = \"ACME\"\n",
    "# new_user[\"company\"][\"catchphrase\"] = \"ACME\"\n",
    "# new_user[\"company\"][\"bs\"] = \"ACME\"\n",
    "\n",
    "users.append({\n",
    "    \"id\": 12,\n",
    "    \"name\": \"Steve\",\n",
    "    \"username\": \"asteve.user\",\n",
    "    \"email\": \"steve@user.biz\",\n",
    "    \"address\": {\n",
    "        \"street\": \"123 Fake St\",\n",
    "        \"suite\": \"\",\n",
    "        \"city\": \"Some City\",\n",
    "        \"zipcode\": \"31428-2261\",\n",
    "        \"geo\": {\n",
    "            \"lat\": \"-38.2386\",\n",
    "            \"lng\": \"57.2232\"\n",
    "        }\n",
    "    },\n",
    "    \"phone\": \"024-648-3804\",\n",
    "    \"website\": \"website.com\",\n",
    "    \"company\": {\n",
    "        \"name\": \"Steves Company\",\n",
    "        \"catchPhrase\": \"\",\n",
    "        \"bs\": \"\"\n",
    "    }\n",
    "})\n",
    "print(json.dumps(users,indent=2))\n"
   ]
  }
 ],
 "metadata": {
  "kernelspec": {
   "display_name": "Python 3",
   "language": "python",
   "name": "python3"
  },
  "language_info": {
   "codemirror_mode": {
    "name": "ipython",
    "version": 3
   },
   "file_extension": ".py",
   "mimetype": "text/x-python",
   "name": "python",
   "nbconvert_exporter": "python",
   "pygments_lexer": "ipython3",
   "version": "3.11.4"
  },
  "orig_nbformat": 4
 },
 "nbformat": 4,
 "nbformat_minor": 2
}
